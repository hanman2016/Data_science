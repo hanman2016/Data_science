{
 "cells": [
  {
   "cell_type": "code",
   "execution_count": 2,
   "metadata": {},
   "outputs": [],
   "source": [
    "import os\n",
    "from collections import Counter\n",
    "import numpy as np \n",
    "import pandas as pd\n",
    "import matplotlib.pyplot as plt\n",
    "import seaborn as sns\n",
    "import icd\n",
    "from sklearn.preprocessing import scale"
   ]
  },
  {
   "cell_type": "code",
   "execution_count": 3,
   "metadata": {},
   "outputs": [],
   "source": [
    "# Reading the Auth file\n",
    "os.getcwd()\n",
    "os.chdir('C:\\\\Users\\\\pdubhasi\\\\Documents\\\\UHG\\\\Rx prior Auth')\n",
    "\n",
    "Rx=pd.read_excel('Rx_Prior_Auth_Data.xlsx',sheet_name= 'Rx_Prior_Auth_Data',dtype=str)\n",
    "Rx.replace('(null)', np.nan, inplace=True)"
   ]
  },
  {
   "cell_type": "code",
   "execution_count": 4,
   "metadata": {},
   "outputs": [
    {
     "data": {
      "text/plain": [
       "PRIOR_AUTH_NUM              object\n",
       "PRIOR_AUTH_TYPE           category\n",
       "STATUS                    category\n",
       "AUTO_DENIED_FLAG          category\n",
       "PA_CREATED_DATE             object\n",
       "PA_CREATED_DATE_ONLY        object\n",
       "DATE_OF_BIRTH               object\n",
       "DRUG_LABEL_NAME           category\n",
       "CARRIER_ID                category\n",
       "ACCOUNT_ID                category\n",
       "EMPLOYER_GROUP_ID         category\n",
       "GENDER_CODE               category\n",
       "STATE_CODE                category\n",
       "DIRECTIONS_FOR_USE          object\n",
       "DIAGNOSIS_COMMENTS          object\n",
       "PLAN_CODE                 category\n",
       "BRAND_NAME                category\n",
       "HIGH_PRIORITY_FLAG        category\n",
       "FORMULARY_STATUS          category\n",
       "ICD_CODE                    object\n",
       "ICD_DESCRIPTION             object\n",
       "DRUG_STATUS_CODE          category\n",
       "DRUG_STRENGTH              float64\n",
       "DRUG_MANUFACTURER_NAME    category\n",
       "DRUG_UOM                  category\n",
       "DRUG_PACKAGE_SIZE          float64\n",
       "DRUG_PACKAGE_QTY           float64\n",
       "TOTAL_DRUG_PACKAGE_QTY     float64\n",
       "dtype: object"
      ]
     },
     "execution_count": 4,
     "metadata": {},
     "output_type": "execute_result"
    }
   ],
   "source": [
    "numeric = ['DRUG_STRENGTH', 'DRUG_PACKAGE_SIZE', 'DRUG_PACKAGE_QTY', 'TOTAL_DRUG_PACKAGE_QTY']\n",
    "cat = ['PRIOR_AUTH_TYPE', 'STATUS', 'AUTO_DENIED_FLAG', 'DRUG_LABEL_NAME',\n",
    "       'CARRIER_ID','ACCOUNT_ID','EMPLOYER_GROUP_ID','GENDER_CODE','STATE_CODE',\n",
    "       'PLAN_CODE','BRAND_NAME','HIGH_PRIORITY_FLAG','FORMULARY_STATUS',\n",
    "       'DRUG_STATUS_CODE','DRUG_MANUFACTURER_NAME','DRUG_UOM']\n",
    "Rx[numeric] = Rx[numeric].astype(float)\n",
    "Rx[cat] = Rx[cat].astype('category')\n",
    "Rx.dtypes"
   ]
  },
  {
   "cell_type": "code",
   "execution_count": 5,
   "metadata": {},
   "outputs": [
    {
     "data": {
      "text/html": [
       "<div>\n",
       "<style scoped>\n",
       "    .dataframe tbody tr th:only-of-type {\n",
       "        vertical-align: middle;\n",
       "    }\n",
       "\n",
       "    .dataframe tbody tr th {\n",
       "        vertical-align: top;\n",
       "    }\n",
       "\n",
       "    .dataframe thead th {\n",
       "        text-align: right;\n",
       "    }\n",
       "</style>\n",
       "<table border=\"1\" class=\"dataframe\">\n",
       "  <thead>\n",
       "    <tr style=\"text-align: right;\">\n",
       "      <th></th>\n",
       "      <th>PRIOR_AUTH_NUM</th>\n",
       "      <th>PRIOR_AUTH_TYPE</th>\n",
       "      <th>STATUS</th>\n",
       "      <th>AUTO_DENIED_FLAG</th>\n",
       "      <th>PA_CREATED_DATE</th>\n",
       "      <th>PA_CREATED_DATE_ONLY</th>\n",
       "      <th>DATE_OF_BIRTH</th>\n",
       "      <th>DRUG_LABEL_NAME</th>\n",
       "      <th>CARRIER_ID</th>\n",
       "      <th>ACCOUNT_ID</th>\n",
       "      <th>...</th>\n",
       "      <th>FORMULARY_STATUS</th>\n",
       "      <th>ICD_CODE</th>\n",
       "      <th>ICD_DESCRIPTION</th>\n",
       "      <th>DRUG_STATUS_CODE</th>\n",
       "      <th>DRUG_STRENGTH</th>\n",
       "      <th>DRUG_MANUFACTURER_NAME</th>\n",
       "      <th>DRUG_UOM</th>\n",
       "      <th>DRUG_PACKAGE_SIZE</th>\n",
       "      <th>DRUG_PACKAGE_QTY</th>\n",
       "      <th>TOTAL_DRUG_PACKAGE_QTY</th>\n",
       "    </tr>\n",
       "  </thead>\n",
       "  <tbody>\n",
       "    <tr>\n",
       "      <th>359766</th>\n",
       "      <td>PA-33353769</td>\n",
       "      <td>PAReqd</td>\n",
       "      <td>RESOLVED-DENIED</td>\n",
       "      <td>N</td>\n",
       "      <td>2017-03-22-11.55.39</td>\n",
       "      <td>2017-03-22 00:00:00</td>\n",
       "      <td>1999-01-18 00:00:00</td>\n",
       "      <td>FINASTERIDE  TAB 1MG</td>\n",
       "      <td>UHCPRIM01</td>\n",
       "      <td>F</td>\n",
       "      <td>...</td>\n",
       "      <td>Y</td>\n",
       "      <td>L65.9</td>\n",
       "      <td>L65.9-NONSCARRING HAIR LOSS UNSPECIFIED</td>\n",
       "      <td>A</td>\n",
       "      <td>1.0</td>\n",
       "      <td>AUROBINDO</td>\n",
       "      <td>MG</td>\n",
       "      <td>30.0</td>\n",
       "      <td>1.0</td>\n",
       "      <td>30.0</td>\n",
       "    </tr>\n",
       "    <tr>\n",
       "      <th>224805</th>\n",
       "      <td>PA-33172201</td>\n",
       "      <td>QntyLimit</td>\n",
       "      <td>RESOLVED-APPROVED</td>\n",
       "      <td>N</td>\n",
       "      <td>2017-03-15-17.52.10</td>\n",
       "      <td>2017-03-15 00:00:00</td>\n",
       "      <td>1956-08-20 00:00:00</td>\n",
       "      <td>SYMBICORT    AER 160-4.5</td>\n",
       "      <td>UHCACIS01</td>\n",
       "      <td>F</td>\n",
       "      <td>...</td>\n",
       "      <td>Y</td>\n",
       "      <td>0</td>\n",
       "      <td>000-hypoxia</td>\n",
       "      <td>A</td>\n",
       "      <td>0.0</td>\n",
       "      <td>ASTZEN LP</td>\n",
       "      <td>NaN</td>\n",
       "      <td>10.2</td>\n",
       "      <td>1.0</td>\n",
       "      <td>10.2</td>\n",
       "    </tr>\n",
       "    <tr>\n",
       "      <th>221947</th>\n",
       "      <td>PA-33132937</td>\n",
       "      <td>StepTherapy</td>\n",
       "      <td>RESOLVED-APPROVED</td>\n",
       "      <td>N</td>\n",
       "      <td>2017-03-15-07.49.16</td>\n",
       "      <td>2017-03-15 00:00:00</td>\n",
       "      <td>1957-03-07 00:00:00</td>\n",
       "      <td>TRINTELLIX   TAB 5MG</td>\n",
       "      <td>UHCACIS01</td>\n",
       "      <td>F</td>\n",
       "      <td>...</td>\n",
       "      <td>Y</td>\n",
       "      <td>0</td>\n",
       "      <td>000-DEPRESSION</td>\n",
       "      <td>A</td>\n",
       "      <td>5.0</td>\n",
       "      <td>TAKEDA</td>\n",
       "      <td>MG</td>\n",
       "      <td>30.0</td>\n",
       "      <td>1.0</td>\n",
       "      <td>30.0</td>\n",
       "    </tr>\n",
       "    <tr>\n",
       "      <th>161143</th>\n",
       "      <td>PA-32905085</td>\n",
       "      <td>PAReqd</td>\n",
       "      <td>RESOLVED-DENIED</td>\n",
       "      <td>Y</td>\n",
       "      <td>2017-03-07-15.17.38</td>\n",
       "      <td>2017-03-07 00:00:00</td>\n",
       "      <td>1960-08-31 00:00:00</td>\n",
       "      <td>ZETIA        TAB 10MG</td>\n",
       "      <td>UHCACIS01</td>\n",
       "      <td>F</td>\n",
       "      <td>...</td>\n",
       "      <td>Y</td>\n",
       "      <td>NaN</td>\n",
       "      <td>NaN</td>\n",
       "      <td>A</td>\n",
       "      <td>10.0</td>\n",
       "      <td>MERCK/SCHE</td>\n",
       "      <td>MG</td>\n",
       "      <td>30.0</td>\n",
       "      <td>1.0</td>\n",
       "      <td>30.0</td>\n",
       "    </tr>\n",
       "    <tr>\n",
       "      <th>57146</th>\n",
       "      <td>PA-32737735</td>\n",
       "      <td>PAReqd</td>\n",
       "      <td>RESOLVED-APPROVED</td>\n",
       "      <td>N</td>\n",
       "      <td>2017-03-02-10.31.28</td>\n",
       "      <td>2017-03-02 00:00:00</td>\n",
       "      <td>1985-10-28 00:00:00</td>\n",
       "      <td>DICLOFENAC   TAB 75MG DR</td>\n",
       "      <td>ACUOH</td>\n",
       "      <td>ACUOHWA3</td>\n",
       "      <td>...</td>\n",
       "      <td>Y</td>\n",
       "      <td>S60.212D</td>\n",
       "      <td>S60.212D-CONTUSION OF LEFT WRIST SUBSEQUENT EN...</td>\n",
       "      <td>A</td>\n",
       "      <td>75.0</td>\n",
       "      <td>CARLSBAD</td>\n",
       "      <td>MG</td>\n",
       "      <td>500.0</td>\n",
       "      <td>1.0</td>\n",
       "      <td>500.0</td>\n",
       "    </tr>\n",
       "  </tbody>\n",
       "</table>\n",
       "<p>5 rows × 28 columns</p>\n",
       "</div>"
      ],
      "text/plain": [
       "       PRIOR_AUTH_NUM PRIOR_AUTH_TYPE             STATUS AUTO_DENIED_FLAG  \\\n",
       "359766    PA-33353769          PAReqd    RESOLVED-DENIED                N   \n",
       "224805    PA-33172201       QntyLimit  RESOLVED-APPROVED                N   \n",
       "221947    PA-33132937     StepTherapy  RESOLVED-APPROVED                N   \n",
       "161143    PA-32905085          PAReqd    RESOLVED-DENIED                Y   \n",
       "57146     PA-32737735          PAReqd  RESOLVED-APPROVED                N   \n",
       "\n",
       "            PA_CREATED_DATE PA_CREATED_DATE_ONLY        DATE_OF_BIRTH  \\\n",
       "359766  2017-03-22-11.55.39  2017-03-22 00:00:00  1999-01-18 00:00:00   \n",
       "224805  2017-03-15-17.52.10  2017-03-15 00:00:00  1956-08-20 00:00:00   \n",
       "221947  2017-03-15-07.49.16  2017-03-15 00:00:00  1957-03-07 00:00:00   \n",
       "161143  2017-03-07-15.17.38  2017-03-07 00:00:00  1960-08-31 00:00:00   \n",
       "57146   2017-03-02-10.31.28  2017-03-02 00:00:00  1985-10-28 00:00:00   \n",
       "\n",
       "                 DRUG_LABEL_NAME CARRIER_ID ACCOUNT_ID  ... FORMULARY_STATUS  \\\n",
       "359766      FINASTERIDE  TAB 1MG  UHCPRIM01          F  ...                Y   \n",
       "224805  SYMBICORT    AER 160-4.5  UHCACIS01          F  ...                Y   \n",
       "221947      TRINTELLIX   TAB 5MG  UHCACIS01          F  ...                Y   \n",
       "161143     ZETIA        TAB 10MG  UHCACIS01          F  ...                Y   \n",
       "57146   DICLOFENAC   TAB 75MG DR      ACUOH   ACUOHWA3  ...                Y   \n",
       "\n",
       "        ICD_CODE                                    ICD_DESCRIPTION  \\\n",
       "359766     L65.9            L65.9-NONSCARRING HAIR LOSS UNSPECIFIED   \n",
       "224805         0                                        000-hypoxia   \n",
       "221947         0                                     000-DEPRESSION   \n",
       "161143       NaN                                                NaN   \n",
       "57146   S60.212D  S60.212D-CONTUSION OF LEFT WRIST SUBSEQUENT EN...   \n",
       "\n",
       "       DRUG_STATUS_CODE DRUG_STRENGTH DRUG_MANUFACTURER_NAME DRUG_UOM  \\\n",
       "359766                A           1.0              AUROBINDO       MG   \n",
       "224805                A           0.0              ASTZEN LP      NaN   \n",
       "221947                A           5.0                 TAKEDA       MG   \n",
       "161143                A          10.0             MERCK/SCHE       MG   \n",
       "57146                 A          75.0               CARLSBAD       MG   \n",
       "\n",
       "       DRUG_PACKAGE_SIZE DRUG_PACKAGE_QTY TOTAL_DRUG_PACKAGE_QTY  \n",
       "359766              30.0              1.0                   30.0  \n",
       "224805              10.2              1.0                   10.2  \n",
       "221947              30.0              1.0                   30.0  \n",
       "161143              30.0              1.0                   30.0  \n",
       "57146              500.0              1.0                  500.0  \n",
       "\n",
       "[5 rows x 28 columns]"
      ]
     },
     "metadata": {},
     "output_type": "display_data"
    },
    {
     "name": "stdout",
     "output_type": "stream",
     "text": [
      "\n",
      "UNIQUE:\n",
      "\n",
      " PRIOR_AUTH_NUM            564817\n",
      "PRIOR_AUTH_TYPE               23\n",
      "STATUS                         3\n",
      "AUTO_DENIED_FLAG               2\n",
      "PA_CREATED_DATE           421917\n",
      "PA_CREATED_DATE_ONLY          31\n",
      "DATE_OF_BIRTH              34702\n",
      "DRUG_LABEL_NAME             7432\n",
      "CARRIER_ID                   778\n",
      "ACCOUNT_ID                  4210\n",
      "EMPLOYER_GROUP_ID          43966\n",
      "GENDER_CODE                    2\n",
      "STATE_CODE                    60\n",
      "DIRECTIONS_FOR_USE        155583\n",
      "DIAGNOSIS_COMMENTS         86259\n",
      "PLAN_CODE                  20138\n",
      "BRAND_NAME                  4341\n",
      "HIGH_PRIORITY_FLAG             2\n",
      "FORMULARY_STATUS               2\n",
      "ICD_CODE                   49234\n",
      "ICD_DESCRIPTION            86259\n",
      "DRUG_STATUS_CODE               2\n",
      "DRUG_STRENGTH                309\n",
      "DRUG_MANUFACTURER_NAME       784\n",
      "DRUG_UOM                     149\n",
      "DRUG_PACKAGE_SIZE            283\n",
      "DRUG_PACKAGE_QTY              35\n",
      "TOTAL_DRUG_PACKAGE_QTY       341\n",
      "dtype: int64\n",
      "\n",
      "MISSING:\n",
      "\n",
      " PRIOR_AUTH_NUM             0.000000\n",
      "PRIOR_AUTH_TYPE            0.002832\n",
      "STATUS                     0.000000\n",
      "AUTO_DENIED_FLAG           0.000000\n",
      "PA_CREATED_DATE            0.000000\n",
      "PA_CREATED_DATE_ONLY       0.000000\n",
      "DATE_OF_BIRTH              7.580889\n",
      "DRUG_LABEL_NAME            0.000000\n",
      "CARRIER_ID                 0.000000\n",
      "ACCOUNT_ID                 0.003541\n",
      "EMPLOYER_GROUP_ID          0.007612\n",
      "GENDER_CODE                7.581066\n",
      "STATE_CODE                 7.609567\n",
      "DIRECTIONS_FOR_USE         9.847738\n",
      "DIAGNOSIS_COMMENTS        10.985500\n",
      "PLAN_CODE                  0.000000\n",
      "BRAND_NAME                 0.000000\n",
      "HIGH_PRIORITY_FLAG         0.000000\n",
      "FORMULARY_STATUS           5.815738\n",
      "ICD_CODE                  10.985500\n",
      "ICD_DESCRIPTION           10.985500\n",
      "DRUG_STATUS_CODE           1.104657\n",
      "DRUG_STRENGTH              0.000000\n",
      "DRUG_MANUFACTURER_NAME     0.848851\n",
      "DRUG_UOM                  15.791999\n",
      "DRUG_PACKAGE_SIZE          0.000000\n",
      "DRUG_PACKAGE_QTY           0.000000\n",
      "TOTAL_DRUG_PACKAGE_QTY     0.000000\n",
      "dtype: float64\n",
      "\n",
      "DTYPES:\n",
      "\n",
      " PRIOR_AUTH_NUM              object\n",
      "PRIOR_AUTH_TYPE           category\n",
      "STATUS                    category\n",
      "AUTO_DENIED_FLAG          category\n",
      "PA_CREATED_DATE             object\n",
      "PA_CREATED_DATE_ONLY        object\n",
      "DATE_OF_BIRTH               object\n",
      "DRUG_LABEL_NAME           category\n",
      "CARRIER_ID                category\n",
      "ACCOUNT_ID                category\n",
      "EMPLOYER_GROUP_ID         category\n",
      "GENDER_CODE               category\n",
      "STATE_CODE                category\n",
      "DIRECTIONS_FOR_USE          object\n",
      "DIAGNOSIS_COMMENTS          object\n",
      "PLAN_CODE                 category\n",
      "BRAND_NAME                category\n",
      "HIGH_PRIORITY_FLAG        category\n",
      "FORMULARY_STATUS          category\n",
      "ICD_CODE                    object\n",
      "ICD_DESCRIPTION             object\n",
      "DRUG_STATUS_CODE          category\n",
      "DRUG_STRENGTH              float64\n",
      "DRUG_MANUFACTURER_NAME    category\n",
      "DRUG_UOM                  category\n",
      "DRUG_PACKAGE_SIZE          float64\n",
      "DRUG_PACKAGE_QTY           float64\n",
      "TOTAL_DRUG_PACKAGE_QTY     float64\n",
      "dtype: object\n"
     ]
    }
   ],
   "source": [
    "# Reading PA data into dataframe\n",
    "display(Rx.sample(5))\n",
    "print('\\nUNIQUE:\\n\\n', Rx.nunique())\n",
    "print('\\nMISSING:\\n\\n', Rx.isna().mean()*100)\n",
    "print('\\nDTYPES:\\n\\n', Rx.dtypes)"
   ]
  },
  {
   "cell_type": "markdown",
   "metadata": {},
   "source": [
    "1. Data is limited to March 2017 month alone.\n",
    "2. Date field has 7.58% of NA values and 3.13% of future dates.\n",
    "3. PRIOR_AUTH_TYPE has 0.002% of nulls - Safe to remove them from dataset.\n",
    "4. As we need to consider only RESOLVED-APPROVED and RESOLVED-DENIED records deleting the RESOLVED-OVERTURNED records in STATUS from the dataset."
   ]
  },
  {
   "cell_type": "markdown",
   "metadata": {},
   "source": [
    "Where ever the DATE_OF_BIRTH COLUMN is null the GENDER_CODE & STATE_CODE are also null so removing them from df.\n",
    "Also TOTAL_DRUG_PACKAGE_QTY is direct multiplication of DRUG_PACKAGE_SIZE\tand DRUG_PACKAGE_QTY removing them from the dataset."
   ]
  },
  {
   "cell_type": "code",
   "execution_count": 63,
   "metadata": {},
   "outputs": [
    {
     "name": "stderr",
     "output_type": "stream",
     "text": [
      "C:\\Users\\pdubhasi\\AppData\\Local\\Continuum\\anaconda3\\lib\\site-packages\\ipykernel_launcher.py:2: SettingWithCopyWarning: \n",
      "A value is trying to be set on a copy of a slice from a DataFrame\n",
      "\n",
      "See the caveats in the documentation: http://pandas.pydata.org/pandas-docs/stable/indexing.html#indexing-view-versus-copy\n",
      "  \n",
      "C:\\Users\\pdubhasi\\AppData\\Local\\Continuum\\anaconda3\\lib\\site-packages\\pandas\\core\\frame.py:3940: SettingWithCopyWarning: \n",
      "A value is trying to be set on a copy of a slice from a DataFrame\n",
      "\n",
      "See the caveats in the documentation: http://pandas.pydata.org/pandas-docs/stable/indexing.html#indexing-view-versus-copy\n",
      "  errors=errors)\n"
     ]
    },
    {
     "name": "stdout",
     "output_type": "stream",
     "text": [
      "PRIOR_AUTH_NUM             0.000000\n",
      "PRIOR_AUTH_TYPE            0.000000\n",
      "STATUS                     0.000000\n",
      "AUTO_DENIED_FLAG           0.000000\n",
      "PA_CREATED_DATE            0.000000\n",
      "PA_CREATED_DATE_ONLY       0.000000\n",
      "DATE_OF_BIRTH              0.000000\n",
      "DRUG_LABEL_NAME            0.000000\n",
      "CARRIER_ID                 0.000000\n",
      "ACCOUNT_ID                 0.000000\n",
      "EMPLOYER_GROUP_ID          0.008576\n",
      "GENDER_CODE                0.000204\n",
      "STATE_CODE                 0.032669\n",
      "DIRECTIONS_FOR_USE        10.464675\n",
      "DIAGNOSIS_COMMENTS        11.410849\n",
      "PLAN_CODE                  0.000000\n",
      "BRAND_NAME                 0.000000\n",
      "HIGH_PRIORITY_FLAG         0.000000\n",
      "FORMULARY_STATUS           6.083363\n",
      "ICD_CODE                  11.410849\n",
      "ICD_DESCRIPTION           11.410849\n",
      "DRUG_STATUS_CODE           1.201604\n",
      "DRUG_STRENGTH              0.000000\n",
      "DRUG_MANUFACTURER_NAME     0.929431\n",
      "DRUG_UOM                  16.058412\n",
      "TOTAL_DRUG_PACKAGE_QTY     0.000000\n",
      "dtype: float64\n"
     ]
    }
   ],
   "source": [
    "Rx1 = Rx[Rx.duplicated()==False]\n",
    "Rx1.dropna(axis=0,subset=['PRIOR_AUTH_TYPE','DATE_OF_BIRTH'],inplace=True)\n",
    "Rx1.drop(['DRUG_PACKAGE_SIZE','DRUG_PACKAGE_QTY'],axis=1,inplace=True)\n",
    "Rx1.drop(Rx1[Rx1['STATUS']=='RESOLVED-OVERTURNED'].index,axis=0,inplace=True)\n",
    "print(Rx1.isna().mean()*100)"
   ]
  },
  {
   "cell_type": "code",
   "execution_count": 64,
   "metadata": {},
   "outputs": [
    {
     "name": "stdout",
     "output_type": "stream",
     "text": [
      "N    459671\n",
      "Y     30091\n",
      "Name: AUTO_DENIED_FLAG, dtype: int64\n",
      "\n",
      "RESOLVED-APPROVED      292108\n",
      "RESOLVED-DENIED        197654\n",
      "RESOLVED-OVERTURNED         0\n",
      "Name: STATUS, dtype: int64\n",
      "\n",
      "STATUS             AUTO_DENIED_FLAG\n",
      "RESOLVED-APPROVED  N                   281037\n",
      "                   Y                    11071\n",
      "RESOLVED-DENIED    N                   178634\n",
      "                   Y                    19020\n",
      "dtype: int64\n"
     ]
    }
   ],
   "source": [
    "print(Rx1.AUTO_DENIED_FLAG.value_counts())\n",
    "print()\n",
    "print(Rx1.STATUS.value_counts())\n",
    "print()\n",
    "print(Rx1.groupby(['STATUS','AUTO_DENIED_FLAG']).size())"
   ]
  },
  {
   "cell_type": "markdown",
   "metadata": {},
   "source": [
    "Driving the Age variable from the DATE_OF_BIRTH and PA_CREATED_DATE_ONLY."
   ]
  },
  {
   "cell_type": "code",
   "execution_count": 65,
   "metadata": {
    "scrolled": true
   },
   "outputs": [
    {
     "name": "stderr",
     "output_type": "stream",
     "text": [
      "C:\\Users\\pdubhasi\\AppData\\Local\\Continuum\\anaconda3\\lib\\site-packages\\ipykernel_launcher.py:1: SettingWithCopyWarning: \n",
      "A value is trying to be set on a copy of a slice from a DataFrame.\n",
      "Try using .loc[row_indexer,col_indexer] = value instead\n",
      "\n",
      "See the caveats in the documentation: http://pandas.pydata.org/pandas-docs/stable/indexing.html#indexing-view-versus-copy\n",
      "  \"\"\"Entry point for launching an IPython kernel.\n",
      "C:\\Users\\pdubhasi\\AppData\\Local\\Continuum\\anaconda3\\lib\\site-packages\\ipykernel_launcher.py:2: SettingWithCopyWarning: \n",
      "A value is trying to be set on a copy of a slice from a DataFrame.\n",
      "Try using .loc[row_indexer,col_indexer] = value instead\n",
      "\n",
      "See the caveats in the documentation: http://pandas.pydata.org/pandas-docs/stable/indexing.html#indexing-view-versus-copy\n",
      "  \n"
     ]
    },
    {
     "name": "stdout",
     "output_type": "stream",
     "text": [
      "\n",
      "DTYPES:\n",
      "\n",
      " PRIOR_AUTH_NUM                    object\n",
      "PRIOR_AUTH_TYPE                 category\n",
      "STATUS                          category\n",
      "AUTO_DENIED_FLAG                category\n",
      "PA_CREATED_DATE                   object\n",
      "PA_CREATED_DATE_ONLY      datetime64[ns]\n",
      "DATE_OF_BIRTH             datetime64[ns]\n",
      "DRUG_LABEL_NAME                 category\n",
      "CARRIER_ID                      category\n",
      "ACCOUNT_ID                      category\n",
      "EMPLOYER_GROUP_ID               category\n",
      "GENDER_CODE                     category\n",
      "STATE_CODE                      category\n",
      "DIRECTIONS_FOR_USE                object\n",
      "DIAGNOSIS_COMMENTS                object\n",
      "PLAN_CODE                       category\n",
      "BRAND_NAME                      category\n",
      "HIGH_PRIORITY_FLAG              category\n",
      "FORMULARY_STATUS                category\n",
      "ICD_CODE                          object\n",
      "ICD_DESCRIPTION                   object\n",
      "DRUG_STATUS_CODE                category\n",
      "DRUG_STRENGTH                    float64\n",
      "DRUG_MANUFACTURER_NAME          category\n",
      "DRUG_UOM                        category\n",
      "TOTAL_DRUG_PACKAGE_QTY           float64\n",
      "dtype: object\n"
     ]
    },
    {
     "name": "stderr",
     "output_type": "stream",
     "text": [
      "C:\\Users\\pdubhasi\\AppData\\Local\\Continuum\\anaconda3\\lib\\site-packages\\ipykernel_launcher.py:4: SettingWithCopyWarning: \n",
      "A value is trying to be set on a copy of a slice from a DataFrame.\n",
      "Try using .loc[row_indexer,col_indexer] = value instead\n",
      "\n",
      "See the caveats in the documentation: http://pandas.pydata.org/pandas-docs/stable/indexing.html#indexing-view-versus-copy\n",
      "  after removing the cwd from sys.path.\n"
     ]
    },
    {
     "data": {
      "text/plain": [
       "<matplotlib.axes._subplots.AxesSubplot at 0x20734af94a8>"
      ]
     },
     "execution_count": 65,
     "metadata": {},
     "output_type": "execute_result"
    },
    {
     "data": {
      "image/png": "[encoded data removed]",
      "text/plain": [
       "<Figure size 432x288 with 1 Axes>"
      ]
     },
     "metadata": {
      "needs_background": "light"
     },
     "output_type": "display_data"
    }
   ],
   "source": [
    "Rx1['DATE_OF_BIRTH']=pd.to_datetime(Rx1['DATE_OF_BIRTH'])\n",
    "Rx1['PA_CREATED_DATE_ONLY']=pd.to_datetime(Rx1['PA_CREATED_DATE_ONLY'])\n",
    "print('\\nDTYPES:\\n\\n', Rx1.dtypes)\n",
    "Rx1['Age']= np.floor((Rx1['PA_CREATED_DATE_ONLY']-Rx1['DATE_OF_BIRTH']).dt.days/365.25)\n",
    "Rx1.Age.plot.hist()"
   ]
  },
  {
   "cell_type": "markdown",
   "metadata": {},
   "source": [
    "Age has some negative values due to future dates. Lets look into the distribution of output variable for these values."
   ]
  },
  {
   "cell_type": "code",
   "execution_count": 66,
   "metadata": {},
   "outputs": [
    {
     "data": {
      "text/plain": [
       "RESOLVED-APPROVED      10446\n",
       "RESOLVED-DENIED         5585\n",
       "RESOLVED-OVERTURNED        0\n",
       "Name: STATUS, dtype: int64"
      ]
     },
     "execution_count": 66,
     "metadata": {},
     "output_type": "execute_result"
    }
   ],
   "source": [
    "Rx1[Rx1.Age<0].STATUS.value_counts()"
   ]
  },
  {
   "cell_type": "raw",
   "metadata": {},
   "source": []
  },
  {
   "cell_type": "raw",
   "metadata": {},
   "source": []
  },
  {
   "cell_type": "markdown",
   "metadata": {},
   "source": [
    "Samples with negative age are around 11000 records and 50% of these claims were DENIED so replacing the negatives with mean values to keep the ditribution same."
   ]
  },
  {
   "cell_type": "code",
   "execution_count": 67,
   "metadata": {},
   "outputs": [
    {
     "name": "stderr",
     "output_type": "stream",
     "text": [
      "C:\\Users\\pdubhasi\\AppData\\Local\\Continuum\\anaconda3\\lib\\site-packages\\pandas\\core\\indexing.py:543: SettingWithCopyWarning: \n",
      "A value is trying to be set on a copy of a slice from a DataFrame.\n",
      "Try using .loc[row_indexer,col_indexer] = value instead\n",
      "\n",
      "See the caveats in the documentation: http://pandas.pydata.org/pandas-docs/stable/indexing.html#indexing-view-versus-copy\n",
      "  self.obj[item] = s\n"
     ]
    },
    {
     "data": {
      "text/plain": [
       "<matplotlib.axes._subplots.AxesSubplot at 0x20713c8a240>"
      ]
     },
     "execution_count": 67,
     "metadata": {},
     "output_type": "execute_result"
    },
    {
     "data": {
      "image/png": "[encoded data removed]",
      "text/plain": [
       "<Figure size 432x288 with 1 Axes>"
      ]
     },
     "metadata": {
      "needs_background": "light"
     },
     "output_type": "display_data"
    }
   ],
   "source": [
    "Rx1.loc[Rx1['Age']< 0, 'Age'] = Rx1['Age'].mean()\n",
    "Rx1.Age.plot.hist()"
   ]
  },
  {
   "cell_type": "code",
   "execution_count": 68,
   "metadata": {},
   "outputs": [
    {
     "data": {
      "text/plain": [
       "count    489762.000000\n",
       "mean         54.969288\n",
       "std          19.279159\n",
       "min           0.000000\n",
       "25%          43.000000\n",
       "50%          58.000000\n",
       "75%          70.000000\n",
       "max          87.000000\n",
       "Name: Age, dtype: float64"
      ]
     },
     "execution_count": 68,
     "metadata": {},
     "output_type": "execute_result"
    }
   ],
   "source": [
    "Rx1.Age.describe()"
   ]
  },
  {
   "cell_type": "markdown",
   "metadata": {},
   "source": [
    "1. Tried log transform and squareroot transform to descrease the skweness of the describution but it is increasing it.\n",
    "2. Since Age variable is derived removing PA_CREATED_DATE_ONLY, PA_CREATED_DATE and DATE_OF_BIRTH columns."
   ]
  },
  {
   "cell_type": "code",
   "execution_count": 69,
   "metadata": {},
   "outputs": [
    {
     "name": "stdout",
     "output_type": "stream",
     "text": [
      "PRIOR_AUTH_NUM             0.000000\n",
      "PRIOR_AUTH_TYPE            0.000000\n",
      "STATUS                     0.000000\n",
      "AUTO_DENIED_FLAG           0.000000\n",
      "DRUG_LABEL_NAME            0.000000\n",
      "CARRIER_ID                 0.000000\n",
      "ACCOUNT_ID                 0.000000\n",
      "EMPLOYER_GROUP_ID          0.008576\n",
      "GENDER_CODE                0.000204\n",
      "STATE_CODE                 0.032669\n",
      "DIRECTIONS_FOR_USE        10.464675\n",
      "DIAGNOSIS_COMMENTS        11.410849\n",
      "PLAN_CODE                  0.000000\n",
      "BRAND_NAME                 0.000000\n",
      "HIGH_PRIORITY_FLAG         0.000000\n",
      "FORMULARY_STATUS           6.083363\n",
      "ICD_CODE                  11.410849\n",
      "ICD_DESCRIPTION           11.410849\n",
      "DRUG_STATUS_CODE           1.201604\n",
      "DRUG_STRENGTH              0.000000\n",
      "DRUG_MANUFACTURER_NAME     0.929431\n",
      "DRUG_UOM                  16.058412\n",
      "TOTAL_DRUG_PACKAGE_QTY     0.000000\n",
      "Age                        0.000000\n",
      "dtype: float64\n"
     ]
    }
   ],
   "source": [
    "Rx1.drop(['PA_CREATED_DATE_ONLY','PA_CREATED_DATE','DATE_OF_BIRTH'],axis=1,inplace=True)\n",
    "print(Rx1.isna().mean()*100)"
   ]
  },
  {
   "cell_type": "markdown",
   "metadata": {},
   "source": [
    "1. Since GENDER_CODE, EMPLOYER_GROUP_ID has very less percentage of nulls dropping those records.\n",
    "2. STATE_CODE has invalide values like 'XX','ON','FS','NB','AE' mapping them to NA category along with the nulls."
   ]
  },
  {
   "cell_type": "code",
   "execution_count": 70,
   "metadata": {},
   "outputs": [
    {
     "name": "stderr",
     "output_type": "stream",
     "text": [
      "C:\\Users\\pdubhasi\\AppData\\Local\\Continuum\\anaconda3\\lib\\site-packages\\ipykernel_launcher.py:1: SettingWithCopyWarning: \n",
      "A value is trying to be set on a copy of a slice from a DataFrame\n",
      "\n",
      "See the caveats in the documentation: http://pandas.pydata.org/pandas-docs/stable/indexing.html#indexing-view-versus-copy\n",
      "  \"\"\"Entry point for launching an IPython kernel.\n",
      "C:\\Users\\pdubhasi\\AppData\\Local\\Continuum\\anaconda3\\lib\\site-packages\\ipykernel_launcher.py:2: SettingWithCopyWarning: \n",
      "A value is trying to be set on a copy of a slice from a DataFrame.\n",
      "Try using .loc[row_indexer,col_indexer] = value instead\n",
      "\n",
      "See the caveats in the documentation: http://pandas.pydata.org/pandas-docs/stable/indexing.html#indexing-view-versus-copy\n",
      "  \n",
      "C:\\Users\\pdubhasi\\AppData\\Local\\Continuum\\anaconda3\\lib\\site-packages\\pandas\\core\\generic.py:6130: SettingWithCopyWarning: \n",
      "A value is trying to be set on a copy of a slice from a DataFrame\n",
      "\n",
      "See the caveats in the documentation: http://pandas.pydata.org/pandas-docs/stable/indexing.html#indexing-view-versus-copy\n",
      "  self._update_inplace(new_data)\n"
     ]
    },
    {
     "name": "stdout",
     "output_type": "stream",
     "text": [
      "PRIOR_AUTH_NUM             0.000000\n",
      "PRIOR_AUTH_TYPE            0.000000\n",
      "STATUS                     0.000000\n",
      "AUTO_DENIED_FLAG           0.000000\n",
      "DRUG_LABEL_NAME            0.000000\n",
      "CARRIER_ID                 0.000000\n",
      "ACCOUNT_ID                 0.000000\n",
      "EMPLOYER_GROUP_ID          0.000000\n",
      "GENDER_CODE                0.000000\n",
      "STATE_CODE                 0.000000\n",
      "DIRECTIONS_FOR_USE        10.463143\n",
      "DIAGNOSIS_COMMENTS        11.410625\n",
      "PLAN_CODE                  0.000000\n",
      "BRAND_NAME                 0.000000\n",
      "HIGH_PRIORITY_FLAG         0.000000\n",
      "FORMULARY_STATUS           6.083284\n",
      "ICD_CODE                  11.410625\n",
      "ICD_DESCRIPTION           11.410625\n",
      "DRUG_STATUS_CODE           1.201710\n",
      "DRUG_STRENGTH              0.000000\n",
      "DRUG_MANUFACTURER_NAME     0.929513\n",
      "DRUG_UOM                  16.057576\n",
      "TOTAL_DRUG_PACKAGE_QTY     0.000000\n",
      "Age                        0.000000\n",
      "dtype: float64\n"
     ]
    }
   ],
   "source": [
    "Rx1.dropna(axis=0,subset=['GENDER_CODE','EMPLOYER_GROUP_ID'],inplace=True)\n",
    "Rx1['STATE_CODE'] = Rx1['STATE_CODE'].cat.add_categories(['NA']);\n",
    "Rx1.loc[Rx1['STATE_CODE'].isin(['XX','ON','FS','NB','AE']), 'STATE_CODE'] = 'NA'\n",
    "Rx1['STATE_CODE'].fillna('NA',inplace=True)\n",
    "print(Rx1.isna().mean()*100)"
   ]
  },
  {
   "cell_type": "code",
   "execution_count": 71,
   "metadata": {},
   "outputs": [
    {
     "name": "stdout",
     "output_type": "stream",
     "text": [
      "PRIOR_AUTH_NUM             0.000000\n",
      "PRIOR_AUTH_TYPE            0.000000\n",
      "STATUS                     0.000000\n",
      "AUTO_DENIED_FLAG           0.000000\n",
      "DRUG_LABEL_NAME            0.000000\n",
      "CARRIER_ID                 0.000000\n",
      "ACCOUNT_ID                 0.000000\n",
      "EMPLOYER_GROUP_ID          0.000000\n",
      "GENDER_CODE                0.000000\n",
      "STATE_CODE                 0.000000\n",
      "DIRECTIONS_FOR_USE        11.474948\n",
      "DIAGNOSIS_COMMENTS        11.424307\n",
      "PLAN_CODE                  0.000000\n",
      "BRAND_NAME                 0.000000\n",
      "HIGH_PRIORITY_FLAG         0.000000\n",
      "FORMULARY_STATUS           6.083284\n",
      "ICD_CODE                  11.410625\n",
      "ICD_DESCRIPTION           11.410625\n",
      "DRUG_STATUS_CODE           1.201710\n",
      "DRUG_STRENGTH              0.000000\n",
      "DRUG_MANUFACTURER_NAME     0.929513\n",
      "DRUG_UOM                  16.057576\n",
      "TOTAL_DRUG_PACKAGE_QTY     0.000000\n",
      "Age                        0.000000\n",
      "dtype: float64\n"
     ]
    }
   ],
   "source": [
    "Rx1.loc[Rx1['DIRECTIONS_FOR_USE'].isin(['.','..','...']), 'DIRECTIONS_FOR_USE'] = None\n",
    "Rx1.loc[Rx1['DIAGNOSIS_COMMENTS'].isin(['**-','***-','****-','.-','..-','.-.','..-..','...-..','......-','0-']), 'DIAGNOSIS_COMMENTS'] = None\n",
    "print(Rx1.isna().mean()*100)"
   ]
  },
  {
   "cell_type": "code",
   "execution_count": 72,
   "metadata": {},
   "outputs": [
    {
     "data": {
      "text/plain": [
       "STATUS\n",
       "RESOLVED-APPROVED      47521\n",
       "RESOLVED-DENIED         8674\n",
       "RESOLVED-OVERTURNED        0\n",
       "dtype: int64"
      ]
     },
     "metadata": {},
     "output_type": "display_data"
    },
    {
     "data": {
      "text/plain": [
       "STATUS\n",
       "RESOLVED-APPROVED      45262\n",
       "RESOLVED-DENIED        10685\n",
       "RESOLVED-OVERTURNED        0\n",
       "dtype: int64"
      ]
     },
     "metadata": {},
     "output_type": "display_data"
    },
    {
     "data": {
      "text/plain": [
       "STATUS\n",
       "RESOLVED-APPROVED      45220\n",
       "RESOLVED-DENIED        10660\n",
       "RESOLVED-OVERTURNED        0\n",
       "dtype: int64"
      ]
     },
     "metadata": {},
     "output_type": "display_data"
    },
    {
     "data": {
      "text/plain": [
       "STATUS\n",
       "RESOLVED-APPROVED      45220\n",
       "RESOLVED-DENIED        10660\n",
       "RESOLVED-OVERTURNED        0\n",
       "dtype: int64"
      ]
     },
     "metadata": {},
     "output_type": "display_data"
    }
   ],
   "source": [
    "display(Rx1[Rx1['DIRECTIONS_FOR_USE'].isna()].groupby(['STATUS']).size())\n",
    "display(Rx1[Rx1['DIAGNOSIS_COMMENTS'].isna()].groupby(['STATUS']).size())\n",
    "display(Rx1[Rx1['ICD_CODE'].isna()].groupby(['STATUS']).size())\n",
    "display(Rx1[Rx1['ICD_DESCRIPTION'].isna()].groupby(['STATUS']).size())"
   ]
  },
  {
   "cell_type": "markdown",
   "metadata": {},
   "source": [
    "1. There is 20% chances that AURO_DENIED_FLAG is 'Y' when DIRECTION_FOR_USE is kept as NULLS. So replacing the NULLS with NOT PROVIDED category.\n",
    "2. When DIAGNOSIS_COMMENTS is null then there are 8% chances that claim is getting auto denied. when DIAGNOSIS_COMMENTS are null then mostly ICD_CODE,ICD_DESCRIPTION are also nulls. So replacing the DIAGNOSIS_COMMENTS and ICD_DESCRIPTION to NOT PROVIDED category.\n",
    "3. ICD_CODE will be processed seperately to get more sense."
   ]
  },
  {
   "cell_type": "code",
   "execution_count": 73,
   "metadata": {},
   "outputs": [
    {
     "name": "stdout",
     "output_type": "stream",
     "text": [
      "PRIOR_AUTH_NUM             0.000000\n",
      "PRIOR_AUTH_TYPE            0.000000\n",
      "STATUS                     0.000000\n",
      "AUTO_DENIED_FLAG           0.000000\n",
      "DRUG_LABEL_NAME            0.000000\n",
      "CARRIER_ID                 0.000000\n",
      "ACCOUNT_ID                 0.000000\n",
      "EMPLOYER_GROUP_ID          0.000000\n",
      "GENDER_CODE                0.000000\n",
      "STATE_CODE                 0.000000\n",
      "DIRECTIONS_FOR_USE         0.000000\n",
      "DIAGNOSIS_COMMENTS         0.000000\n",
      "PLAN_CODE                  0.000000\n",
      "BRAND_NAME                 0.000000\n",
      "HIGH_PRIORITY_FLAG         0.000000\n",
      "FORMULARY_STATUS           6.083284\n",
      "ICD_CODE                  11.410625\n",
      "ICD_DESCRIPTION            0.000000\n",
      "DRUG_STATUS_CODE           1.201710\n",
      "DRUG_STRENGTH              0.000000\n",
      "DRUG_MANUFACTURER_NAME     0.929513\n",
      "DRUG_UOM                  16.057576\n",
      "TOTAL_DRUG_PACKAGE_QTY     0.000000\n",
      "Age                        0.000000\n",
      "dtype: float64\n"
     ]
    }
   ],
   "source": [
    "Rx1['DIRECTIONS_FOR_USE'].fillna(\"NOT PROVIDED\",inplace=True)\n",
    "Rx1['DIAGNOSIS_COMMENTS'].fillna(\"NOT PROVIDED\",inplace=True)\n",
    "Rx1['ICD_DESCRIPTION'].fillna(\"NOT PROVIDED\",inplace=True)\n",
    "print(Rx1.isna().mean()*100)"
   ]
  },
  {
   "cell_type": "code",
   "execution_count": 74,
   "metadata": {},
   "outputs": [
    {
     "name": "stdout",
     "output_type": "stream",
     "text": [
      "FORMULARY_STATUS  STATUS           \n",
      "N                 RESOLVED-APPROVED     33116\n",
      "                  RESOLVED-DENIED       55339\n",
      "Y                 RESOLVED-APPROVED    233472\n",
      "                  RESOLVED-DENIED      138001\n",
      "dtype: int64\n"
     ]
    },
    {
     "data": {
      "text/plain": [
       "STATUS\n",
       "RESOLVED-APPROVED      25487\n",
       "RESOLVED-DENIED         4304\n",
       "RESOLVED-OVERTURNED        0\n",
       "dtype: int64"
      ]
     },
     "metadata": {},
     "output_type": "display_data"
    },
    {
     "name": "stdout",
     "output_type": "stream",
     "text": [
      "DRUG_STATUS_CODE  STATUS           \n",
      "A                 RESOLVED-APPROVED    283547\n",
      "                  RESOLVED-DENIED      191754\n",
      "I                 RESOLVED-APPROVED      4691\n",
      "                  RESOLVED-DENIED        3842\n",
      "dtype: int64\n"
     ]
    },
    {
     "data": {
      "text/plain": [
       "STATUS\n",
       "RESOLVED-APPROVED      3837\n",
       "RESOLVED-DENIED        2048\n",
       "RESOLVED-OVERTURNED       0\n",
       "dtype: int64"
      ]
     },
     "metadata": {},
     "output_type": "display_data"
    },
    {
     "name": "stdout",
     "output_type": "stream",
     "text": [
      "DRUG_MANUFACTURER_NAME  STATUS           \n",
      "21ST CENTU              RESOLVED-APPROVED       2\n",
      "                        RESOLVED-DENIED         4\n",
      "3M ESPE DE              RESOLVED-APPROVED       1\n",
      "                        RESOLVED-DENIED         1\n",
      "A & D MED               RESOLVED-DENIED         2\n",
      "ABBOTT DIA              RESOLVED-APPROVED     507\n",
      "                        RESOLVED-DENIED       308\n",
      "ABBOTT NUT              RESOLVED-APPROVED       2\n",
      "                        RESOLVED-DENIED         8\n",
      "ABBVIE                  RESOLVED-APPROVED    9620\n",
      "                        RESOLVED-DENIED      3069\n",
      "ABL MEDICA              RESOLVED-DENIED         1\n",
      "ACADIA PHA              RESOLVED-APPROVED     259\n",
      "                        RESOLVED-DENIED        35\n",
      "ACCERA                  RESOLVED-DENIED         5\n",
      "ACCESS PH               RESOLVED-DENIED         4\n",
      "ACCORD HEA              RESOLVED-APPROVED    1376\n",
      "                        RESOLVED-DENIED       608\n",
      "ACELLA PH               RESOLVED-APPROVED      32\n",
      "                        RESOLVED-DENIED       271\n",
      "ACON LABOR              RESOLVED-DENIED         1\n",
      "ACORDA                  RESOLVED-APPROVED     459\n",
      "                        RESOLVED-DENIED        62\n",
      "ACTAV ELIZ              RESOLVED-APPROVED    2167\n",
      "                        RESOLVED-DENIED      1966\n",
      "ACTAV MID               RESOLVED-APPROVED    1077\n",
      "                        RESOLVED-DENIED       799\n",
      "ACTAVIS                 RESOLVED-APPROVED    5233\n",
      "                        RESOLVED-DENIED      3192\n",
      "ACTAVIS PH              RESOLVED-APPROVED    9317\n",
      "                                             ... \n",
      "WEST-WARD               RESOLVED-APPROVED    1761\n",
      "                        RESOLVED-DENIED      1364\n",
      "WESTMINST               RESOLVED-DENIED         3\n",
      "WILSHIRE                RESOLVED-APPROVED      25\n",
      "                        RESOLVED-DENIED         8\n",
      "WINDER LAB              RESOLVED-APPROVED       1\n",
      "                        RESOLVED-DENIED        19\n",
      "WINDMILL                RESOLVED-APPROVED       3\n",
      "                        RESOLVED-DENIED         2\n",
      "WINTHROPUS              RESOLVED-APPROVED     180\n",
      "                        RESOLVED-DENIED       142\n",
      "WOCKHARDT               RESOLVED-APPROVED       7\n",
      "                        RESOLVED-DENIED         4\n",
      "WOMENS CHO              RESOLVED-APPROVED       5\n",
      "                        RESOLVED-DENIED        24\n",
      "WRASER PHA              RESOLVED-APPROVED       3\n",
      "                        RESOLVED-DENIED         3\n",
      "X-GEN                   RESOLVED-APPROVED       5\n",
      "                        RESOLVED-DENIED        10\n",
      "XSPIRE PHA              RESOLVED-APPROVED      14\n",
      "                        RESOLVED-DENIED        36\n",
      "XTTRIUM                 RESOLVED-APPROVED       5\n",
      "ZERXIS                  RESOLVED-APPROVED       4\n",
      "                        RESOLVED-DENIED        10\n",
      "ZIMMER                  RESOLVED-APPROVED      13\n",
      "                        RESOLVED-DENIED        40\n",
      "ZYDUS PHAR              RESOLVED-APPROVED     953\n",
      "                        RESOLVED-DENIED      1244\n",
      "ZYLERA                  RESOLVED-APPROVED       4\n",
      "                        RESOLVED-DENIED        10\n",
      "Length: 1308, dtype: int64\n"
     ]
    },
    {
     "data": {
      "text/plain": [
       "STATUS\n",
       "RESOLVED-APPROVED      2984\n",
       "RESOLVED-DENIED        1568\n",
       "RESOLVED-OVERTURNED       0\n",
       "dtype: int64"
      ]
     },
     "metadata": {},
     "output_type": "display_data"
    }
   ],
   "source": [
    "print(Rx1.groupby(['FORMULARY_STATUS','STATUS']).size())\n",
    "display(Rx1[Rx1['FORMULARY_STATUS'].isna()].groupby(['STATUS']).size())\n",
    "print(Rx1.groupby(['DRUG_STATUS_CODE','STATUS']).size())\n",
    "display(Rx1[Rx1['DRUG_STATUS_CODE'].isna()].groupby(['STATUS']).size())\n",
    "print(Rx1.groupby(['DRUG_MANUFACTURER_NAME','STATUS']).size())\n",
    "display(Rx1[Rx1['DRUG_MANUFACTURER_NAME'].isna()].groupby(['STATUS']).size())"
   ]
  },
  {
   "cell_type": "markdown",
   "metadata": {},
   "source": [
    "There is no much impact on the output variable because of the nulls in FORMULARY_STATUS, DRUG_STATUS_CODE and DRUG_MANUFACTURER_NAME so dropping those records."
   ]
  },
  {
   "cell_type": "code",
   "execution_count": 75,
   "metadata": {},
   "outputs": [
    {
     "name": "stderr",
     "output_type": "stream",
     "text": [
      "C:\\Users\\pdubhasi\\AppData\\Local\\Continuum\\anaconda3\\lib\\site-packages\\ipykernel_launcher.py:1: SettingWithCopyWarning: \n",
      "A value is trying to be set on a copy of a slice from a DataFrame\n",
      "\n",
      "See the caveats in the documentation: http://pandas.pydata.org/pandas-docs/stable/indexing.html#indexing-view-versus-copy\n",
      "  \"\"\"Entry point for launching an IPython kernel.\n"
     ]
    },
    {
     "data": {
      "text/plain": [
       "STATUS\n",
       "RESOLVED-APPROVED      37954\n",
       "RESOLVED-DENIED        30957\n",
       "RESOLVED-OVERTURNED        0\n",
       "dtype: int64"
      ]
     },
     "metadata": {},
     "output_type": "display_data"
    },
    {
     "name": "stdout",
     "output_type": "stream",
     "text": [
      "PRIOR_AUTH_NUM             0.000000\n",
      "PRIOR_AUTH_TYPE            0.000000\n",
      "STATUS                     0.000000\n",
      "AUTO_DENIED_FLAG           0.000000\n",
      "DRUG_LABEL_NAME            0.000000\n",
      "CARRIER_ID                 0.000000\n",
      "ACCOUNT_ID                 0.000000\n",
      "EMPLOYER_GROUP_ID          0.000000\n",
      "GENDER_CODE                0.000000\n",
      "STATE_CODE                 0.000000\n",
      "DIRECTIONS_FOR_USE         0.000000\n",
      "DIAGNOSIS_COMMENTS         0.000000\n",
      "PLAN_CODE                  0.000000\n",
      "BRAND_NAME                 0.000000\n",
      "HIGH_PRIORITY_FLAG         0.000000\n",
      "FORMULARY_STATUS           0.000000\n",
      "ICD_CODE                   5.677805\n",
      "ICD_DESCRIPTION            0.000000\n",
      "DRUG_STATUS_CODE           0.000000\n",
      "DRUG_STRENGTH              0.000000\n",
      "DRUG_MANUFACTURER_NAME     0.000000\n",
      "DRUG_UOM                  15.183484\n",
      "TOTAL_DRUG_PACKAGE_QTY     0.000000\n",
      "Age                        0.000000\n",
      "dtype: float64\n"
     ]
    }
   ],
   "source": [
    "Rx1.dropna(axis=0,subset=['FORMULARY_STATUS','DRUG_STATUS_CODE','DRUG_MANUFACTURER_NAME'],inplace=True)\n",
    "display(Rx1[Rx1['DRUG_UOM'].isna()].groupby(['STATUS']).size())\n",
    "print(Rx1.isna().mean()*100)"
   ]
  },
  {
   "cell_type": "code",
   "execution_count": 76,
   "metadata": {},
   "outputs": [
    {
     "data": {
      "text/html": [
       "<div>\n",
       "<style scoped>\n",
       "    .dataframe tbody tr th:only-of-type {\n",
       "        vertical-align: middle;\n",
       "    }\n",
       "\n",
       "    .dataframe tbody tr th {\n",
       "        vertical-align: top;\n",
       "    }\n",
       "\n",
       "    .dataframe thead th {\n",
       "        text-align: right;\n",
       "    }\n",
       "</style>\n",
       "<table border=\"1\" class=\"dataframe\">\n",
       "  <thead>\n",
       "    <tr style=\"text-align: right;\">\n",
       "      <th></th>\n",
       "      <th>DRUG_LABEL_NAME</th>\n",
       "      <th>DRUG_UOM</th>\n",
       "      <th>count</th>\n",
       "    </tr>\n",
       "  </thead>\n",
       "  <tbody>\n",
       "    <tr>\n",
       "      <th>0</th>\n",
       "      <td>ABACAVIR     TAB 300MG</td>\n",
       "      <td>MG</td>\n",
       "      <td>1</td>\n",
       "    </tr>\n",
       "    <tr>\n",
       "      <th>1</th>\n",
       "      <td>ABELCET      INJ 5MG/ML</td>\n",
       "      <td>MG/ML</td>\n",
       "      <td>7</td>\n",
       "    </tr>\n",
       "    <tr>\n",
       "      <th>2</th>\n",
       "      <td>ABILIFY      TAB 10MG</td>\n",
       "      <td>MG</td>\n",
       "      <td>85</td>\n",
       "    </tr>\n",
       "    <tr>\n",
       "      <th>3</th>\n",
       "      <td>ABILIFY      TAB 15MG</td>\n",
       "      <td>MG</td>\n",
       "      <td>37</td>\n",
       "    </tr>\n",
       "    <tr>\n",
       "      <th>4</th>\n",
       "      <td>ABILIFY      TAB 20MG</td>\n",
       "      <td>MG</td>\n",
       "      <td>28</td>\n",
       "    </tr>\n",
       "  </tbody>\n",
       "</table>\n",
       "</div>"
      ],
      "text/plain": [
       "           DRUG_LABEL_NAME DRUG_UOM  count\n",
       "0   ABACAVIR     TAB 300MG       MG      1\n",
       "1  ABELCET      INJ 5MG/ML    MG/ML      7\n",
       "2    ABILIFY      TAB 10MG       MG     85\n",
       "3    ABILIFY      TAB 15MG       MG     37\n",
       "4    ABILIFY      TAB 20MG       MG     28"
      ]
     },
     "execution_count": 76,
     "metadata": {},
     "output_type": "execute_result"
    }
   ],
   "source": [
    "DRUG_NAME_UOM=pd.DataFrame({'count' : Rx1.groupby( [ \"DRUG_LABEL_NAME\", \"DRUG_UOM\"] ).size()}).reset_index()\n",
    "DRUG_NAME_UOM.head()"
   ]
  },
  {
   "cell_type": "code",
   "execution_count": 77,
   "metadata": {},
   "outputs": [
    {
     "name": "stdout",
     "output_type": "stream",
     "text": [
      "PRIOR_AUTH_NUM             0.000000\n",
      "PRIOR_AUTH_TYPE            0.000000\n",
      "STATUS                     0.000000\n",
      "AUTO_DENIED_FLAG           0.000000\n",
      "DRUG_LABEL_NAME            0.000000\n",
      "CARRIER_ID                 0.000000\n",
      "ACCOUNT_ID                 0.000000\n",
      "EMPLOYER_GROUP_ID          0.000000\n",
      "GENDER_CODE                0.000000\n",
      "STATE_CODE                 0.000000\n",
      "DIRECTIONS_FOR_USE         0.000000\n",
      "DIAGNOSIS_COMMENTS         0.000000\n",
      "PLAN_CODE                  0.000000\n",
      "BRAND_NAME                 0.000000\n",
      "HIGH_PRIORITY_FLAG         0.000000\n",
      "FORMULARY_STATUS           0.000000\n",
      "ICD_CODE                   5.608081\n",
      "ICD_DESCRIPTION            0.000000\n",
      "DRUG_STATUS_CODE           0.000000\n",
      "DRUG_STRENGTH              0.000000\n",
      "DRUG_MANUFACTURER_NAME     0.000000\n",
      "DRUG_UOM_x                14.854646\n",
      "TOTAL_DRUG_PACKAGE_QTY     0.000000\n",
      "Age                        0.000000\n",
      "DRUG_UOM_y                14.852275\n",
      "count                     14.852275\n",
      "dtype: float64\n"
     ]
    }
   ],
   "source": [
    "Rx1=pd.merge(Rx1,DRUG_NAME_UOM,how=\"left\",on='DRUG_LABEL_NAME')\n",
    "Rx1.head()\n",
    "print(Rx1.isna().mean()*100)"
   ]
  },
  {
   "cell_type": "markdown",
   "metadata": {},
   "source": [
    "There is not much improvement in the nulls in DRUG_UOM for the nulls specific drugs have nulls in all the records as DRUG_UOM. So replacing nulls with NA as a category in DRUG_UOM.\n",
    "And replacing the nulls in ICD_CODE with 0"
   ]
  },
  {
   "cell_type": "code",
   "execution_count": 78,
   "metadata": {},
   "outputs": [],
   "source": [
    "Rx1['DRUG_UOM']=Rx1['DRUG_UOM_x']\n",
    "Rx1.drop(['DRUG_UOM_x','DRUG_UOM_y','count'],axis=1,inplace=True)"
   ]
  },
  {
   "cell_type": "code",
   "execution_count": 79,
   "metadata": {},
   "outputs": [
    {
     "name": "stdout",
     "output_type": "stream",
     "text": [
      "PRIOR_AUTH_NUM            0.0\n",
      "PRIOR_AUTH_TYPE           0.0\n",
      "STATUS                    0.0\n",
      "AUTO_DENIED_FLAG          0.0\n",
      "DRUG_LABEL_NAME           0.0\n",
      "CARRIER_ID                0.0\n",
      "ACCOUNT_ID                0.0\n",
      "EMPLOYER_GROUP_ID         0.0\n",
      "GENDER_CODE               0.0\n",
      "STATE_CODE                0.0\n",
      "DIRECTIONS_FOR_USE        0.0\n",
      "DIAGNOSIS_COMMENTS        0.0\n",
      "PLAN_CODE                 0.0\n",
      "BRAND_NAME                0.0\n",
      "HIGH_PRIORITY_FLAG        0.0\n",
      "FORMULARY_STATUS          0.0\n",
      "ICD_CODE                  0.0\n",
      "ICD_DESCRIPTION           0.0\n",
      "DRUG_STATUS_CODE          0.0\n",
      "DRUG_STRENGTH             0.0\n",
      "DRUG_MANUFACTURER_NAME    0.0\n",
      "TOTAL_DRUG_PACKAGE_QTY    0.0\n",
      "Age                       0.0\n",
      "DRUG_UOM                  0.0\n",
      "dtype: float64\n"
     ]
    }
   ],
   "source": [
    "Rx1['DRUG_UOM'] = Rx1['DRUG_UOM'].cat.add_categories(['NA']);\n",
    "Rx1['DRUG_UOM'].fillna('NA',inplace=True)\n",
    "Rx1['ICD_CODE'].fillna(\"0\",inplace=True)\n",
    "print(Rx1.isna().mean()*100)"
   ]
  },
  {
   "cell_type": "code",
   "execution_count": 80,
   "metadata": {},
   "outputs": [
    {
     "data": {
      "text/plain": [
       "<matplotlib.axes._subplots.AxesSubplot at 0x20701ad5390>"
      ]
     },
     "execution_count": 80,
     "metadata": {},
     "output_type": "execute_result"
    },
    {
     "data": {
      "image/png": "[encoded data removed]",
      "text/plain": [
       "<Figure size 432x288 with 1 Axes>"
      ]
     },
     "metadata": {
      "needs_background": "light"
     },
     "output_type": "display_data"
    }
   ],
   "source": [
    "Rx1['TOTAL_DRUG_PACKAGE_QTY']=pd.to_numeric(Rx1.TOTAL_DRUG_PACKAGE_QTY)\n",
    "Rx1.TOTAL_DRUG_PACKAGE_QTY.plot.hist()"
   ]
  },
  {
   "cell_type": "code",
   "execution_count": 81,
   "metadata": {},
   "outputs": [
    {
     "data": {
      "text/plain": [
       "<matplotlib.axes._subplots.AxesSubplot at 0x20701b45b00>"
      ]
     },
     "execution_count": 81,
     "metadata": {},
     "output_type": "execute_result"
    },
    {
     "data": {
      "image/png": "[encoded data removed]",
      "text/plain": [
       "<Figure size 432x288 with 1 Axes>"
      ]
     },
     "metadata": {
      "needs_background": "light"
     },
     "output_type": "display_data"
    }
   ],
   "source": [
    "Rx1.boxplot(column='TOTAL_DRUG_PACKAGE_QTY')"
   ]
  },
  {
   "cell_type": "code",
   "execution_count": 82,
   "metadata": {},
   "outputs": [
    {
     "data": {
      "text/plain": [
       "count    463902.000000\n",
       "mean         74.906556\n",
       "std         165.934746\n",
       "min           0.050000\n",
       "25%          28.000000\n",
       "50%          53.000000\n",
       "75%         100.000000\n",
       "max       18000.000000\n",
       "Name: TOTAL_DRUG_PACKAGE_QTY, dtype: float64"
      ]
     },
     "execution_count": 82,
     "metadata": {},
     "output_type": "execute_result"
    }
   ],
   "source": [
    "Rx1.TOTAL_DRUG_PACKAGE_QTY.describe()"
   ]
  },
  {
   "cell_type": "code",
   "execution_count": 83,
   "metadata": {},
   "outputs": [
    {
     "name": "stdout",
     "output_type": "stream",
     "text": [
      "738.645538589016\n"
     ]
    }
   ],
   "source": [
    "temp=Rx1.TOTAL_DRUG_PACKAGE_QTY.describe()\n",
    "CF_QTY = temp[1]+(4*temp[2])\n",
    "print(CF_QTY)"
   ]
  },
  {
   "cell_type": "code",
   "execution_count": 84,
   "metadata": {},
   "outputs": [
    {
     "data": {
      "text/plain": [
       "<matplotlib.axes._subplots.AxesSubplot at 0x20701b89c18>"
      ]
     },
     "execution_count": 84,
     "metadata": {},
     "output_type": "execute_result"
    },
    {
     "data": {
      "image/png": "[encoded data removed]",
      "text/plain": [
       "<Figure size 432x288 with 1 Axes>"
      ]
     },
     "metadata": {
      "needs_background": "light"
     },
     "output_type": "display_data"
    }
   ],
   "source": [
    "Rx1=Rx1[Rx1['TOTAL_DRUG_PACKAGE_QTY']<=CF_QTY]\n",
    "Rx1.TOTAL_DRUG_PACKAGE_QTY.plot.hist()"
   ]
  },
  {
   "cell_type": "code",
   "execution_count": 85,
   "metadata": {},
   "outputs": [
    {
     "data": {
      "text/plain": [
       "<matplotlib.axes._subplots.AxesSubplot at 0x20701bff860>"
      ]
     },
     "execution_count": 85,
     "metadata": {},
     "output_type": "execute_result"
    },
    {
     "data": {
      "image/png": "[encoded data removed]",
      "text/plain": [
       "<Figure size 432x288 with 1 Axes>"
      ]
     },
     "metadata": {
      "needs_background": "light"
     },
     "output_type": "display_data"
    }
   ],
   "source": [
    "Rx1['LOG_TDPQ']=np.log(Rx1['TOTAL_DRUG_PACKAGE_QTY']+1)\n",
    "Rx1.LOG_TDPQ.plot.hist()"
   ]
  },
  {
   "cell_type": "code",
   "execution_count": 86,
   "metadata": {
    "scrolled": true
   },
   "outputs": [
    {
     "name": "stdout",
     "output_type": "stream",
     "text": [
      "\n",
      "UNIQUE:\n",
      "\n",
      " PRIOR_AUTH_NUM            448190\n",
      "PRIOR_AUTH_TYPE               22\n",
      "STATUS                         2\n",
      "AUTO_DENIED_FLAG               2\n",
      "DRUG_LABEL_NAME             6478\n",
      "CARRIER_ID                   414\n",
      "ACCOUNT_ID                  3215\n",
      "EMPLOYER_GROUP_ID          41063\n",
      "GENDER_CODE                    2\n",
      "STATE_CODE                    56\n",
      "DIRECTIONS_FOR_USE        136961\n",
      "DIAGNOSIS_COMMENTS         76983\n",
      "PLAN_CODE                  19009\n",
      "BRAND_NAME                  3561\n",
      "HIGH_PRIORITY_FLAG             2\n",
      "FORMULARY_STATUS               2\n",
      "ICD_CODE                   44490\n",
      "ICD_DESCRIPTION            76993\n",
      "DRUG_STATUS_CODE               2\n",
      "DRUG_STRENGTH                303\n",
      "DRUG_MANUFACTURER_NAME       635\n",
      "Age                           89\n",
      "DRUG_UOM                     144\n",
      "LOG_TDPQ                     274\n",
      "dtype: int64\n",
      "\n",
      "MISSING:\n",
      "\n",
      " PRIOR_AUTH_NUM            0.0\n",
      "PRIOR_AUTH_TYPE           0.0\n",
      "STATUS                    0.0\n",
      "AUTO_DENIED_FLAG          0.0\n",
      "DRUG_LABEL_NAME           0.0\n",
      "CARRIER_ID                0.0\n",
      "ACCOUNT_ID                0.0\n",
      "EMPLOYER_GROUP_ID         0.0\n",
      "GENDER_CODE               0.0\n",
      "STATE_CODE                0.0\n",
      "DIRECTIONS_FOR_USE        0.0\n",
      "DIAGNOSIS_COMMENTS        0.0\n",
      "PLAN_CODE                 0.0\n",
      "BRAND_NAME                0.0\n",
      "HIGH_PRIORITY_FLAG        0.0\n",
      "FORMULARY_STATUS          0.0\n",
      "ICD_CODE                  0.0\n",
      "ICD_DESCRIPTION           0.0\n",
      "DRUG_STATUS_CODE          0.0\n",
      "DRUG_STRENGTH             0.0\n",
      "DRUG_MANUFACTURER_NAME    0.0\n",
      "Age                       0.0\n",
      "DRUG_UOM                  0.0\n",
      "LOG_TDPQ                  0.0\n",
      "dtype: float64\n"
     ]
    }
   ],
   "source": [
    "Rx1.drop(['TOTAL_DRUG_PACKAGE_QTY'],axis=1,inplace=True)\n",
    "print('\\nUNIQUE:\\n\\n', Rx1.nunique())\n",
    "print('\\nMISSING:\\n\\n', Rx1.isna().mean()*100)"
   ]
  },
  {
   "cell_type": "code",
   "execution_count": 87,
   "metadata": {},
   "outputs": [
    {
     "name": "stdout",
     "output_type": "stream",
     "text": [
      "count    4.582290e+05\n",
      "mean     4.860457e+02\n",
      "std      5.979537e+04\n",
      "min      0.000000e+00\n",
      "25%      1.000000e+00\n",
      "50%      1.000000e+01\n",
      "75%      5.000000e+01\n",
      "max      2.000000e+07\n",
      "Name: DRUG_STRENGTH, dtype: float64\n",
      "cuttoff value: 179872.16319906604\n"
     ]
    },
    {
     "data": {
      "image/png": "[encoded data removed]",
      "text/plain": [
       "<Figure size 432x288 with 1 Axes>"
      ]
     },
     "metadata": {
      "needs_background": "light"
     },
     "output_type": "display_data"
    }
   ],
   "source": [
    "Rx1.boxplot(column='DRUG_STRENGTH')\n",
    "temp=Rx1['DRUG_STRENGTH'].describe()\n",
    "print(temp)\n",
    "DRG_STGT = temp[1]+(3*temp[2])\n",
    "print(\"cuttoff value:\" ,DRG_STGT)"
   ]
  },
  {
   "cell_type": "markdown",
   "metadata": {},
   "source": [
    "1. Drug stregth is highly skewed. SD are very high compared to mean. there are only 2520 records with drug strength greater than 1000 among them there are only 74 auto denied records. so safe too remove outliers.\n",
    "2. Almost half of the dataset have DRUG_STRENGTH values less than 30."
   ]
  },
  {
   "cell_type": "code",
   "execution_count": 88,
   "metadata": {},
   "outputs": [
    {
     "data": {
      "text/plain": [
       "<matplotlib.axes._subplots.AxesSubplot at 0x20701dc1ef0>"
      ]
     },
     "execution_count": 88,
     "metadata": {},
     "output_type": "execute_result"
    },
    {
     "data": {
      "image/png": "[encoded data removed]",
      "text/plain": [
       "<Figure size 432x288 with 1 Axes>"
      ]
     },
     "metadata": {
      "needs_background": "light"
     },
     "output_type": "display_data"
    }
   ],
   "source": [
    "Rx1.loc[Rx1['DRUG_STRENGTH']<1000,'DRUG_STRENGTH'].plot.hist(bins=50,xlim=(0,200))"
   ]
  },
  {
   "cell_type": "code",
   "execution_count": 89,
   "metadata": {},
   "outputs": [
    {
     "data": {
      "text/plain": [
       "<matplotlib.axes._subplots.AxesSubplot at 0x20701d99518>"
      ]
     },
     "execution_count": 89,
     "metadata": {},
     "output_type": "execute_result"
    },
    {
     "data": {
      "image/png": "[encoded data removed]",
      "text/plain": [
       "<Figure size 432x288 with 1 Axes>"
      ]
     },
     "metadata": {
      "needs_background": "light"
     },
     "output_type": "display_data"
    }
   ],
   "source": [
    "Rx1=Rx1[Rx1['DRUG_STRENGTH']<=1000]\n",
    "Rx1['LOG_DRG_STRNGT']=np.log(Rx1['DRUG_STRENGTH']+1)\n",
    "Rx1.drop(['DRUG_STRENGTH'],axis=1,inplace=True)\n",
    "Rx1.LOG_DRG_STRNGT.plot.hist()"
   ]
  },
  {
   "cell_type": "code",
   "execution_count": 90,
   "metadata": {},
   "outputs": [
    {
     "data": {
      "image/png": "[encoded data removed]",
      "text/plain": [
       "<Figure size 432x288 with 1 Axes>"
      ]
     },
     "metadata": {
      "needs_background": "light"
     },
     "output_type": "display_data"
    },
    {
     "data": {
      "image/png": "[encoded data removed]",
      "text/plain": [
       "<Figure size 432x288 with 1 Axes>"
      ]
     },
     "metadata": {
      "needs_background": "light"
     },
     "output_type": "display_data"
    },
    {
     "data": {
      "image/png": "[encoded data removed]",
      "text/plain": [
       "<Figure size 432x288 with 1 Axes>"
      ]
     },
     "metadata": {
      "needs_background": "light"
     },
     "output_type": "display_data"
    }
   ],
   "source": [
    "for column in Rx1.describe().columns:\n",
    "    plt.hist(Rx1[column])\n",
    "    plt.title(column)\n",
    "    plt.show()"
   ]
  },
  {
   "cell_type": "code",
   "execution_count": 91,
   "metadata": {},
   "outputs": [
    {
     "name": "stdout",
     "output_type": "stream",
     "text": [
      "\n",
      "UNIQUE:\n",
      "\n",
      " PRIOR_AUTH_NUM            446361\n",
      "PRIOR_AUTH_TYPE               22\n",
      "STATUS                         2\n",
      "AUTO_DENIED_FLAG               2\n",
      "DRUG_LABEL_NAME             6375\n",
      "CARRIER_ID                   414\n",
      "ACCOUNT_ID                  3213\n",
      "EMPLOYER_GROUP_ID          41010\n",
      "GENDER_CODE                    2\n",
      "STATE_CODE                    56\n",
      "DIRECTIONS_FOR_USE        135934\n",
      "DIAGNOSIS_COMMENTS         76603\n",
      "PLAN_CODE                  19002\n",
      "BRAND_NAME                  3507\n",
      "HIGH_PRIORITY_FLAG             2\n",
      "FORMULARY_STATUS               2\n",
      "ICD_CODE                   44278\n",
      "ICD_DESCRIPTION            76613\n",
      "DRUG_STATUS_CODE               2\n",
      "DRUG_MANUFACTURER_NAME       630\n",
      "Age                           89\n",
      "DRUG_UOM                     129\n",
      "LOG_TDPQ                     271\n",
      "LOG_DRG_STRNGT               265\n",
      "NO_OF_ICD                     26\n",
      "dtype: int64\n",
      "\n",
      "MISSING:\n",
      "\n",
      " PRIOR_AUTH_NUM            0.0\n",
      "PRIOR_AUTH_TYPE           0.0\n",
      "STATUS                    0.0\n",
      "AUTO_DENIED_FLAG          0.0\n",
      "DRUG_LABEL_NAME           0.0\n",
      "CARRIER_ID                0.0\n",
      "ACCOUNT_ID                0.0\n",
      "EMPLOYER_GROUP_ID         0.0\n",
      "GENDER_CODE               0.0\n",
      "STATE_CODE                0.0\n",
      "DIRECTIONS_FOR_USE        0.0\n",
      "DIAGNOSIS_COMMENTS        0.0\n",
      "PLAN_CODE                 0.0\n",
      "BRAND_NAME                0.0\n",
      "HIGH_PRIORITY_FLAG        0.0\n",
      "FORMULARY_STATUS          0.0\n",
      "ICD_CODE                  0.0\n",
      "ICD_DESCRIPTION           0.0\n",
      "DRUG_STATUS_CODE          0.0\n",
      "DRUG_MANUFACTURER_NAME    0.0\n",
      "Age                       0.0\n",
      "DRUG_UOM                  0.0\n",
      "LOG_TDPQ                  0.0\n",
      "LOG_DRG_STRNGT            0.0\n",
      "NO_OF_ICD                 0.0\n",
      "dtype: float64\n"
     ]
    }
   ],
   "source": [
    "Rx1['NO_OF_ICD']=Rx1['ICD_CODE'].str.count('\\|')+1\n",
    "print('\\nUNIQUE:\\n\\n', Rx1.nunique())\n",
    "print('\\nMISSING:\\n\\n', Rx1.isna().mean()*100)"
   ]
  },
  {
   "cell_type": "code",
   "execution_count": 92,
   "metadata": {},
   "outputs": [
    {
     "data": {
      "text/html": [
       "<div>\n",
       "<style scoped>\n",
       "    .dataframe tbody tr th:only-of-type {\n",
       "        vertical-align: middle;\n",
       "    }\n",
       "\n",
       "    .dataframe tbody tr th {\n",
       "        vertical-align: top;\n",
       "    }\n",
       "\n",
       "    .dataframe thead th {\n",
       "        text-align: right;\n",
       "    }\n",
       "</style>\n",
       "<table border=\"1\" class=\"dataframe\">\n",
       "  <thead>\n",
       "    <tr style=\"text-align: right;\">\n",
       "      <th></th>\n",
       "      <th>PRIOR_AUTH_NUM</th>\n",
       "      <th>PRIOR_AUTH_TYPE</th>\n",
       "      <th>STATUS</th>\n",
       "      <th>AUTO_DENIED_FLAG</th>\n",
       "      <th>DRUG_LABEL_NAME</th>\n",
       "      <th>CARRIER_ID</th>\n",
       "      <th>ACCOUNT_ID</th>\n",
       "      <th>EMPLOYER_GROUP_ID</th>\n",
       "      <th>GENDER_CODE</th>\n",
       "      <th>STATE_CODE</th>\n",
       "      <th>...</th>\n",
       "      <th>FORMULARY_STATUS</th>\n",
       "      <th>ICD_CODE</th>\n",
       "      <th>ICD_DESCRIPTION</th>\n",
       "      <th>DRUG_STATUS_CODE</th>\n",
       "      <th>DRUG_MANUFACTURER_NAME</th>\n",
       "      <th>Age</th>\n",
       "      <th>DRUG_UOM</th>\n",
       "      <th>LOG_TDPQ</th>\n",
       "      <th>LOG_DRG_STRNGT</th>\n",
       "      <th>NO_OF_ICD</th>\n",
       "    </tr>\n",
       "  </thead>\n",
       "  <tbody>\n",
       "    <tr>\n",
       "      <th>0</th>\n",
       "      <td>PA-32690944</td>\n",
       "      <td>ConcurrentReview</td>\n",
       "      <td>RESOLVED-APPROVED</td>\n",
       "      <td>N</td>\n",
       "      <td>ONFI         TAB 10MG</td>\n",
       "      <td>UHCACIS01</td>\n",
       "      <td>A</td>\n",
       "      <td>71300000000000</td>\n",
       "      <td>F</td>\n",
       "      <td>NC</td>\n",
       "      <td>...</td>\n",
       "      <td>Y</td>\n",
       "      <td>G40.909</td>\n",
       "      <td>G40.909-EPILEPSY UNS NOT INTRACT W/O STATUS EP...</td>\n",
       "      <td>A</td>\n",
       "      <td>LUNDBECK</td>\n",
       "      <td>40.0</td>\n",
       "      <td>MG</td>\n",
       "      <td>4.615121</td>\n",
       "      <td>2.397895</td>\n",
       "      <td>1</td>\n",
       "    </tr>\n",
       "    <tr>\n",
       "      <th>1</th>\n",
       "      <td>PA-32701214</td>\n",
       "      <td>Nonformularyexception</td>\n",
       "      <td>RESOLVED-DENIED</td>\n",
       "      <td>N</td>\n",
       "      <td>JANUVIA      TAB 100MG</td>\n",
       "      <td>PDPIND</td>\n",
       "      <td>P4L03200000000</td>\n",
       "      <td>IS0522051X</td>\n",
       "      <td>M</td>\n",
       "      <td>ID</td>\n",
       "      <td>...</td>\n",
       "      <td>N</td>\n",
       "      <td>0</td>\n",
       "      <td>000-TYPE 2 DIABETES MELLITUS</td>\n",
       "      <td>A</td>\n",
       "      <td>MERCKSHARP</td>\n",
       "      <td>39.0</td>\n",
       "      <td>MG</td>\n",
       "      <td>0.693147</td>\n",
       "      <td>4.615121</td>\n",
       "      <td>1</td>\n",
       "    </tr>\n",
       "    <tr>\n",
       "      <th>3</th>\n",
       "      <td>PA-32689323</td>\n",
       "      <td>PAReqd</td>\n",
       "      <td>RESOLVED-APPROVED</td>\n",
       "      <td>N</td>\n",
       "      <td>ENTRESTO     TAB 97-103MG</td>\n",
       "      <td>PDPIND</td>\n",
       "      <td>P4L01000000000</td>\n",
       "      <td>IS0522051X</td>\n",
       "      <td>F</td>\n",
       "      <td>NC</td>\n",
       "      <td>...</td>\n",
       "      <td>Y</td>\n",
       "      <td>I50.22</td>\n",
       "      <td>I50.22-CHRONIC SYSTOLIC CONGESTIVE HEART FAILURE</td>\n",
       "      <td>A</td>\n",
       "      <td>NOVARTIS</td>\n",
       "      <td>51.0</td>\n",
       "      <td>NA</td>\n",
       "      <td>4.110874</td>\n",
       "      <td>0.000000</td>\n",
       "      <td>1</td>\n",
       "    </tr>\n",
       "    <tr>\n",
       "      <th>4</th>\n",
       "      <td>PA-32681836</td>\n",
       "      <td>PAReqd</td>\n",
       "      <td>RESOLVED-APPROVED</td>\n",
       "      <td>N</td>\n",
       "      <td>MOVANTIK     TAB 25MG</td>\n",
       "      <td>UHCACIS01</td>\n",
       "      <td>A</td>\n",
       "      <td>73000000000000</td>\n",
       "      <td>F</td>\n",
       "      <td>FL</td>\n",
       "      <td>...</td>\n",
       "      <td>Y</td>\n",
       "      <td>000|M47.812|000|M54.2|M79.7|M32.9|Q87.40|Z79.8...</td>\n",
       "      <td>000-OPIOID INDUCED CONSTIPATION IN PATIENTS BE...</td>\n",
       "      <td>A</td>\n",
       "      <td>ASTZEN</td>\n",
       "      <td>47.0</td>\n",
       "      <td>MG</td>\n",
       "      <td>3.433987</td>\n",
       "      <td>3.258097</td>\n",
       "      <td>9</td>\n",
       "    </tr>\n",
       "    <tr>\n",
       "      <th>5</th>\n",
       "      <td>PA-32709148</td>\n",
       "      <td>PAReqd</td>\n",
       "      <td>RESOLVED-APPROVED</td>\n",
       "      <td>N</td>\n",
       "      <td>OXYCONTIN    TAB 10MG CR</td>\n",
       "      <td>ACUTXEC</td>\n",
       "      <td>ACUTXECTR</td>\n",
       "      <td>ACUTXECTRFULLC</td>\n",
       "      <td>F</td>\n",
       "      <td>TX</td>\n",
       "      <td>...</td>\n",
       "      <td>Y</td>\n",
       "      <td>M54.16|G89.4</td>\n",
       "      <td>M54.16-RADICULOPATHY LUMBAR REGION|G89.4-CHRON...</td>\n",
       "      <td>A</td>\n",
       "      <td>PURDUE</td>\n",
       "      <td>63.0</td>\n",
       "      <td>MG</td>\n",
       "      <td>4.615121</td>\n",
       "      <td>2.397895</td>\n",
       "      <td>2</td>\n",
       "    </tr>\n",
       "    <tr>\n",
       "      <th>6</th>\n",
       "      <td>PA-32681213</td>\n",
       "      <td>PAReqd</td>\n",
       "      <td>RESOLVED-APPROVED</td>\n",
       "      <td>N</td>\n",
       "      <td>IBRANCE      CAP 125MG</td>\n",
       "      <td>PDPIND</td>\n",
       "      <td>P0200100000000</td>\n",
       "      <td>IS5805002A</td>\n",
       "      <td>F</td>\n",
       "      <td>NY</td>\n",
       "      <td>...</td>\n",
       "      <td>Y</td>\n",
       "      <td>C50.512|C22.9</td>\n",
       "      <td>C50.512-MALIG NEOPLASM LOWER-OUTER QUAD LT FEM...</td>\n",
       "      <td>A</td>\n",
       "      <td>PFIZER US</td>\n",
       "      <td>69.0</td>\n",
       "      <td>MG</td>\n",
       "      <td>3.091042</td>\n",
       "      <td>4.836282</td>\n",
       "      <td>2</td>\n",
       "    </tr>\n",
       "    <tr>\n",
       "      <th>7</th>\n",
       "      <td>PA-32699050</td>\n",
       "      <td>PAReqd</td>\n",
       "      <td>RESOLVED-APPROVED</td>\n",
       "      <td>N</td>\n",
       "      <td>AMPHET/DEXTR TAB 20MG</td>\n",
       "      <td>UHCPRIM01</td>\n",
       "      <td>F</td>\n",
       "      <td>09R820000010001</td>\n",
       "      <td>M</td>\n",
       "      <td>IL</td>\n",
       "      <td>...</td>\n",
       "      <td>Y</td>\n",
       "      <td>xxxx</td>\n",
       "      <td>xxxx-xxxx</td>\n",
       "      <td>A</td>\n",
       "      <td>TEVA USA</td>\n",
       "      <td>49.0</td>\n",
       "      <td>NA</td>\n",
       "      <td>4.615121</td>\n",
       "      <td>0.000000</td>\n",
       "      <td>1</td>\n",
       "    </tr>\n",
       "    <tr>\n",
       "      <th>8</th>\n",
       "      <td>PA-32706339</td>\n",
       "      <td>QntyLimit</td>\n",
       "      <td>RESOLVED-APPROVED</td>\n",
       "      <td>N</td>\n",
       "      <td>SYMBICORT    AER 80-4.5</td>\n",
       "      <td>PDPIND</td>\n",
       "      <td>P0338300000000</td>\n",
       "      <td>IS5921003W</td>\n",
       "      <td>M</td>\n",
       "      <td>FL</td>\n",
       "      <td>...</td>\n",
       "      <td>Y</td>\n",
       "      <td>J44.9</td>\n",
       "      <td>J44.9-CHRONIC OBSTRUCTIVE PULMONARY DISEASE UNS</td>\n",
       "      <td>A</td>\n",
       "      <td>ASTZEN LP</td>\n",
       "      <td>69.0</td>\n",
       "      <td>NA</td>\n",
       "      <td>2.415914</td>\n",
       "      <td>0.000000</td>\n",
       "      <td>1</td>\n",
       "    </tr>\n",
       "    <tr>\n",
       "      <th>9</th>\n",
       "      <td>PA-32690089</td>\n",
       "      <td>PAReqd</td>\n",
       "      <td>RESOLVED-DENIED</td>\n",
       "      <td>N</td>\n",
       "      <td>TRETINOIN    CRE 0.1%</td>\n",
       "      <td>MPDOVA</td>\n",
       "      <td>M43008VRG99979</td>\n",
       "      <td>IR7444021CPM</td>\n",
       "      <td>F</td>\n",
       "      <td>GA</td>\n",
       "      <td>...</td>\n",
       "      <td>Y</td>\n",
       "      <td>L57.0</td>\n",
       "      <td>L57.0-ACTINIC KERATOSIS</td>\n",
       "      <td>I</td>\n",
       "      <td>ROUSES PNT</td>\n",
       "      <td>67.0</td>\n",
       "      <td>%</td>\n",
       "      <td>3.828641</td>\n",
       "      <td>0.095310</td>\n",
       "      <td>1</td>\n",
       "    </tr>\n",
       "    <tr>\n",
       "      <th>10</th>\n",
       "      <td>PA-32721325</td>\n",
       "      <td>Other</td>\n",
       "      <td>RESOLVED-APPROVED</td>\n",
       "      <td>N</td>\n",
       "      <td>BENAZEPRIL   TAB 10MG</td>\n",
       "      <td>PDPIND</td>\n",
       "      <td>P0100200000000</td>\n",
       "      <td>IS5820001A</td>\n",
       "      <td>M</td>\n",
       "      <td>MA</td>\n",
       "      <td>...</td>\n",
       "      <td>Y</td>\n",
       "      <td>0</td>\n",
       "      <td>NOT PROVIDED</td>\n",
       "      <td>A</td>\n",
       "      <td>TEVA USA</td>\n",
       "      <td>71.0</td>\n",
       "      <td>MG</td>\n",
       "      <td>4.615121</td>\n",
       "      <td>2.397895</td>\n",
       "      <td>1</td>\n",
       "    </tr>\n",
       "  </tbody>\n",
       "</table>\n",
       "<p>10 rows × 25 columns</p>\n",
       "</div>"
      ],
      "text/plain": [
       "   PRIOR_AUTH_NUM        PRIOR_AUTH_TYPE             STATUS AUTO_DENIED_FLAG  \\\n",
       "0     PA-32690944       ConcurrentReview  RESOLVED-APPROVED                N   \n",
       "1     PA-32701214  Nonformularyexception    RESOLVED-DENIED                N   \n",
       "3     PA-32689323                 PAReqd  RESOLVED-APPROVED                N   \n",
       "4     PA-32681836                 PAReqd  RESOLVED-APPROVED                N   \n",
       "5     PA-32709148                 PAReqd  RESOLVED-APPROVED                N   \n",
       "6     PA-32681213                 PAReqd  RESOLVED-APPROVED                N   \n",
       "7     PA-32699050                 PAReqd  RESOLVED-APPROVED                N   \n",
       "8     PA-32706339              QntyLimit  RESOLVED-APPROVED                N   \n",
       "9     PA-32690089                 PAReqd    RESOLVED-DENIED                N   \n",
       "10    PA-32721325                  Other  RESOLVED-APPROVED                N   \n",
       "\n",
       "              DRUG_LABEL_NAME CARRIER_ID      ACCOUNT_ID EMPLOYER_GROUP_ID  \\\n",
       "0       ONFI         TAB 10MG  UHCACIS01               A    71300000000000   \n",
       "1      JANUVIA      TAB 100MG     PDPIND  P4L03200000000        IS0522051X   \n",
       "3   ENTRESTO     TAB 97-103MG     PDPIND  P4L01000000000        IS0522051X   \n",
       "4       MOVANTIK     TAB 25MG  UHCACIS01               A    73000000000000   \n",
       "5    OXYCONTIN    TAB 10MG CR    ACUTXEC       ACUTXECTR    ACUTXECTRFULLC   \n",
       "6      IBRANCE      CAP 125MG     PDPIND  P0200100000000        IS5805002A   \n",
       "7       AMPHET/DEXTR TAB 20MG  UHCPRIM01               F   09R820000010001   \n",
       "8     SYMBICORT    AER 80-4.5     PDPIND  P0338300000000        IS5921003W   \n",
       "9       TRETINOIN    CRE 0.1%     MPDOVA  M43008VRG99979      IR7444021CPM   \n",
       "10      BENAZEPRIL   TAB 10MG     PDPIND  P0100200000000        IS5820001A   \n",
       "\n",
       "   GENDER_CODE STATE_CODE  ... FORMULARY_STATUS  \\\n",
       "0            F         NC  ...                Y   \n",
       "1            M         ID  ...                N   \n",
       "3            F         NC  ...                Y   \n",
       "4            F         FL  ...                Y   \n",
       "5            F         TX  ...                Y   \n",
       "6            F         NY  ...                Y   \n",
       "7            M         IL  ...                Y   \n",
       "8            M         FL  ...                Y   \n",
       "9            F         GA  ...                Y   \n",
       "10           M         MA  ...                Y   \n",
       "\n",
       "                                             ICD_CODE  \\\n",
       "0                                             G40.909   \n",
       "1                                                   0   \n",
       "3                                              I50.22   \n",
       "4   000|M47.812|000|M54.2|M79.7|M32.9|Q87.40|Z79.8...   \n",
       "5                                        M54.16|G89.4   \n",
       "6                                       C50.512|C22.9   \n",
       "7                                                xxxx   \n",
       "8                                               J44.9   \n",
       "9                                               L57.0   \n",
       "10                                                  0   \n",
       "\n",
       "                                      ICD_DESCRIPTION DRUG_STATUS_CODE  \\\n",
       "0   G40.909-EPILEPSY UNS NOT INTRACT W/O STATUS EP...                A   \n",
       "1                        000-TYPE 2 DIABETES MELLITUS                A   \n",
       "3    I50.22-CHRONIC SYSTOLIC CONGESTIVE HEART FAILURE                A   \n",
       "4   000-OPIOID INDUCED CONSTIPATION IN PATIENTS BE...                A   \n",
       "5   M54.16-RADICULOPATHY LUMBAR REGION|G89.4-CHRON...                A   \n",
       "6   C50.512-MALIG NEOPLASM LOWER-OUTER QUAD LT FEM...                A   \n",
       "7                                           xxxx-xxxx                A   \n",
       "8     J44.9-CHRONIC OBSTRUCTIVE PULMONARY DISEASE UNS                A   \n",
       "9                             L57.0-ACTINIC KERATOSIS                I   \n",
       "10                                       NOT PROVIDED                A   \n",
       "\n",
       "   DRUG_MANUFACTURER_NAME   Age DRUG_UOM  LOG_TDPQ LOG_DRG_STRNGT NO_OF_ICD  \n",
       "0                LUNDBECK  40.0       MG  4.615121       2.397895         1  \n",
       "1              MERCKSHARP  39.0       MG  0.693147       4.615121         1  \n",
       "3                NOVARTIS  51.0       NA  4.110874       0.000000         1  \n",
       "4                  ASTZEN  47.0       MG  3.433987       3.258097         9  \n",
       "5                  PURDUE  63.0       MG  4.615121       2.397895         2  \n",
       "6               PFIZER US  69.0       MG  3.091042       4.836282         2  \n",
       "7                TEVA USA  49.0       NA  4.615121       0.000000         1  \n",
       "8               ASTZEN LP  69.0       NA  2.415914       0.000000         1  \n",
       "9              ROUSES PNT  67.0        %  3.828641       0.095310         1  \n",
       "10               TEVA USA  71.0       MG  4.615121       2.397895         1  \n",
       "\n",
       "[10 rows x 25 columns]"
      ]
     },
     "execution_count": 92,
     "metadata": {},
     "output_type": "execute_result"
    }
   ],
   "source": [
    "Rx1.head(10)"
   ]
  },
  {
   "cell_type": "code",
   "execution_count": 93,
   "metadata": {},
   "outputs": [
    {
     "name": "stdout",
     "output_type": "stream",
     "text": [
      "99.22500662808864\n"
     ]
    },
    {
     "data": {
      "image/png": "[encoded data removed]",
      "text/plain": [
       "<Figure size 432x288 with 1 Axes>"
      ]
     },
     "metadata": {
      "needs_background": "light"
     },
     "output_type": "display_data"
    }
   ],
   "source": [
    "Rx1['NO_OF_ICD']=pd.to_numeric(Rx1['NO_OF_ICD'])\n",
    "Rx1.NO_OF_ICD.plot.hist()\n",
    "print(sum(Rx1['NO_OF_ICD']<=5)*100/len(Rx1))"
   ]
  },
  {
   "cell_type": "markdown",
   "metadata": {},
   "source": [
    "Since 99.22% of the observation have less than 5 ICD codes we are going to split the ICD codes into 5 different features."
   ]
  },
  {
   "cell_type": "code",
   "execution_count": 98,
   "metadata": {},
   "outputs": [
    {
     "data": {
      "text/plain": [
       "count    456391.000000\n",
       "mean          1.258379\n",
       "std           0.952087\n",
       "min           1.000000\n",
       "25%           1.000000\n",
       "50%           1.000000\n",
       "75%           1.000000\n",
       "max          26.000000\n",
       "Name: NO_OF_ICD, dtype: float64"
      ]
     },
     "execution_count": 98,
     "metadata": {},
     "output_type": "execute_result"
    }
   ],
   "source": [
    "Rx1['NO_OF_ICD'].describe()"
   ]
  },
  {
   "cell_type": "code",
   "execution_count": 99,
   "metadata": {},
   "outputs": [
    {
     "data": {
      "text/plain": [
       "<matplotlib.axes._subplots.AxesSubplot at 0x20701ecb9e8>"
      ]
     },
     "execution_count": 99,
     "metadata": {},
     "output_type": "execute_result"
    },
    {
     "data": {
      "image/png": "[encoded data removed]",
      "text/plain": [
       "<Figure size 432x288 with 1 Axes>"
      ]
     },
     "metadata": {
      "needs_background": "light"
     },
     "output_type": "display_data"
    }
   ],
   "source": [
    "Rx1.loc[Rx1['NO_OF_ICD']<=5,'NO_OF_ICD'].plot.hist()"
   ]
  },
  {
   "cell_type": "code",
   "execution_count": null,
   "metadata": {},
   "outputs": [],
   "source": []
  },
  {
   "cell_type": "code",
   "execution_count": 100,
   "metadata": {},
   "outputs": [
    {
     "data": {
      "text/plain": [
       "<matplotlib.axes._subplots.AxesSubplot at 0x20701e44c88>"
      ]
     },
     "execution_count": 100,
     "metadata": {},
     "output_type": "execute_result"
    },
    {
     "data": {
      "image/png": "[encoded data removed]",
      "text/plain": [
       "<Figure size 432x288 with 1 Axes>"
      ]
     },
     "metadata": {
      "needs_background": "light"
     },
     "output_type": "display_data"
    }
   ],
   "source": [
    "Rx1['LOG_NO_ICD']=np.log(Rx1['NO_OF_ICD']+1)\n",
    "Rx1.drop(['NO_OF_ICD'],axis=1,inplace=True)\n",
    "Rx1.LOG_NO_ICD.plot.hist()"
   ]
  },
  {
   "cell_type": "code",
   "execution_count": 101,
   "metadata": {},
   "outputs": [
    {
     "data": {
      "text/plain": [
       "<matplotlib.axes._subplots.AxesSubplot at 0x20702091fd0>"
      ]
     },
     "execution_count": 101,
     "metadata": {},
     "output_type": "execute_result"
    },
    {
     "data": {
      "image/png": "[encoded data removed]",
      "text/plain": [
       "<Figure size 432x288 with 1 Axes>"
      ]
     },
     "metadata": {
      "needs_background": "light"
     },
     "output_type": "display_data"
    }
   ],
   "source": [
    "sns.boxplot(x='STATUS',y='LOG_NO_ICD',data=Rx1)"
   ]
  },
  {
   "cell_type": "code",
   "execution_count": 102,
   "metadata": {},
   "outputs": [
    {
     "data": {
      "text/html": [
       "<div>\n",
       "<style scoped>\n",
       "    .dataframe tbody tr th:only-of-type {\n",
       "        vertical-align: middle;\n",
       "    }\n",
       "\n",
       "    .dataframe tbody tr th {\n",
       "        vertical-align: top;\n",
       "    }\n",
       "\n",
       "    .dataframe thead th {\n",
       "        text-align: right;\n",
       "    }\n",
       "</style>\n",
       "<table border=\"1\" class=\"dataframe\">\n",
       "  <thead>\n",
       "    <tr style=\"text-align: right;\">\n",
       "      <th></th>\n",
       "      <th>0</th>\n",
       "      <th>1</th>\n",
       "      <th>2</th>\n",
       "      <th>3</th>\n",
       "      <th>4</th>\n",
       "      <th>PRIOR_AUTH_NUM</th>\n",
       "    </tr>\n",
       "  </thead>\n",
       "  <tbody>\n",
       "    <tr>\n",
       "      <th>0</th>\n",
       "      <td>G40.909</td>\n",
       "      <td>None</td>\n",
       "      <td>None</td>\n",
       "      <td>None</td>\n",
       "      <td>None</td>\n",
       "      <td>PA-32690944</td>\n",
       "    </tr>\n",
       "    <tr>\n",
       "      <th>1</th>\n",
       "      <td>0</td>\n",
       "      <td>None</td>\n",
       "      <td>None</td>\n",
       "      <td>None</td>\n",
       "      <td>None</td>\n",
       "      <td>PA-32701214</td>\n",
       "    </tr>\n",
       "    <tr>\n",
       "      <th>3</th>\n",
       "      <td>I50.22</td>\n",
       "      <td>None</td>\n",
       "      <td>None</td>\n",
       "      <td>None</td>\n",
       "      <td>None</td>\n",
       "      <td>PA-32689323</td>\n",
       "    </tr>\n",
       "    <tr>\n",
       "      <th>4</th>\n",
       "      <td>000</td>\n",
       "      <td>M47.812</td>\n",
       "      <td>000</td>\n",
       "      <td>M54.2</td>\n",
       "      <td>M79.7</td>\n",
       "      <td>PA-32681836</td>\n",
       "    </tr>\n",
       "    <tr>\n",
       "      <th>5</th>\n",
       "      <td>M54.16</td>\n",
       "      <td>G89.4</td>\n",
       "      <td>None</td>\n",
       "      <td>None</td>\n",
       "      <td>None</td>\n",
       "      <td>PA-32709148</td>\n",
       "    </tr>\n",
       "  </tbody>\n",
       "</table>\n",
       "</div>"
      ],
      "text/plain": [
       "         0        1     2      3      4 PRIOR_AUTH_NUM\n",
       "0  G40.909     None  None   None   None    PA-32690944\n",
       "1        0     None  None   None   None    PA-32701214\n",
       "3   I50.22     None  None   None   None    PA-32689323\n",
       "4      000  M47.812   000  M54.2  M79.7    PA-32681836\n",
       "5   M54.16    G89.4  None   None   None    PA-32709148"
      ]
     },
     "execution_count": 102,
     "metadata": {},
     "output_type": "execute_result"
    }
   ],
   "source": [
    "ICD_df=Rx1.ICD_CODE.str.split('\\|',expand=True).iloc[:,0:5]\n",
    "ICD_df['PRIOR_AUTH_NUM']=Rx1['PRIOR_AUTH_NUM']\n",
    "ICD_df.head()"
   ]
  },
  {
   "cell_type": "code",
   "execution_count": 103,
   "metadata": {},
   "outputs": [
    {
     "data": {
      "text/html": [
       "<div>\n",
       "<style scoped>\n",
       "    .dataframe tbody tr th:only-of-type {\n",
       "        vertical-align: middle;\n",
       "    }\n",
       "\n",
       "    .dataframe tbody tr th {\n",
       "        vertical-align: top;\n",
       "    }\n",
       "\n",
       "    .dataframe thead th {\n",
       "        text-align: right;\n",
       "    }\n",
       "</style>\n",
       "<table border=\"1\" class=\"dataframe\">\n",
       "  <thead>\n",
       "    <tr style=\"text-align: right;\">\n",
       "      <th></th>\n",
       "      <th>ICD1</th>\n",
       "      <th>ICD2</th>\n",
       "      <th>ICD3</th>\n",
       "      <th>ICD4</th>\n",
       "      <th>ICD5</th>\n",
       "      <th>PRIOR_AUTH_NUM</th>\n",
       "    </tr>\n",
       "  </thead>\n",
       "  <tbody>\n",
       "    <tr>\n",
       "      <th>0</th>\n",
       "      <td>G40.909</td>\n",
       "      <td></td>\n",
       "      <td></td>\n",
       "      <td></td>\n",
       "      <td></td>\n",
       "      <td>PA-32690944</td>\n",
       "    </tr>\n",
       "    <tr>\n",
       "      <th>1</th>\n",
       "      <td>0</td>\n",
       "      <td></td>\n",
       "      <td></td>\n",
       "      <td></td>\n",
       "      <td></td>\n",
       "      <td>PA-32701214</td>\n",
       "    </tr>\n",
       "    <tr>\n",
       "      <th>3</th>\n",
       "      <td>I50.22</td>\n",
       "      <td></td>\n",
       "      <td></td>\n",
       "      <td></td>\n",
       "      <td></td>\n",
       "      <td>PA-32689323</td>\n",
       "    </tr>\n",
       "    <tr>\n",
       "      <th>4</th>\n",
       "      <td>000</td>\n",
       "      <td>M47.812</td>\n",
       "      <td>000</td>\n",
       "      <td>M54.2</td>\n",
       "      <td>M79.7</td>\n",
       "      <td>PA-32681836</td>\n",
       "    </tr>\n",
       "    <tr>\n",
       "      <th>5</th>\n",
       "      <td>M54.16</td>\n",
       "      <td>G89.4</td>\n",
       "      <td></td>\n",
       "      <td></td>\n",
       "      <td></td>\n",
       "      <td>PA-32709148</td>\n",
       "    </tr>\n",
       "  </tbody>\n",
       "</table>\n",
       "</div>"
      ],
      "text/plain": [
       "      ICD1     ICD2 ICD3   ICD4   ICD5 PRIOR_AUTH_NUM\n",
       "0  G40.909                                PA-32690944\n",
       "1        0                                PA-32701214\n",
       "3   I50.22                                PA-32689323\n",
       "4      000  M47.812  000  M54.2  M79.7    PA-32681836\n",
       "5   M54.16    G89.4                       PA-32709148"
      ]
     },
     "execution_count": 103,
     "metadata": {},
     "output_type": "execute_result"
    }
   ],
   "source": [
    "ICD_df.columns=['ICD1','ICD2','ICD3','ICD4','ICD5','PRIOR_AUTH_NUM']\n",
    "ICD_df.replace(np.nan,'', inplace=True)\n",
    "ICD_df.head()"
   ]
  },
  {
   "cell_type": "code",
   "execution_count": 104,
   "metadata": {},
   "outputs": [
    {
     "data": {
      "text/html": [
       "<div>\n",
       "<style scoped>\n",
       "    .dataframe tbody tr th:only-of-type {\n",
       "        vertical-align: middle;\n",
       "    }\n",
       "\n",
       "    .dataframe tbody tr th {\n",
       "        vertical-align: top;\n",
       "    }\n",
       "\n",
       "    .dataframe thead th {\n",
       "        text-align: right;\n",
       "    }\n",
       "</style>\n",
       "<table border=\"1\" class=\"dataframe\">\n",
       "  <thead>\n",
       "    <tr style=\"text-align: right;\">\n",
       "      <th></th>\n",
       "      <th>ICD1</th>\n",
       "      <th>ICD2</th>\n",
       "      <th>ICD3</th>\n",
       "      <th>ICD4</th>\n",
       "      <th>ICD5</th>\n",
       "      <th>PRIOR_AUTH_NUM</th>\n",
       "    </tr>\n",
       "  </thead>\n",
       "  <tbody>\n",
       "    <tr>\n",
       "      <th>count</th>\n",
       "      <td>456391</td>\n",
       "      <td>456391</td>\n",
       "      <td>456391</td>\n",
       "      <td>456391</td>\n",
       "      <td>456391</td>\n",
       "      <td>456391</td>\n",
       "    </tr>\n",
       "    <tr>\n",
       "      <th>unique</th>\n",
       "      <td>9002</td>\n",
       "      <td>5320</td>\n",
       "      <td>3083</td>\n",
       "      <td>1888</td>\n",
       "      <td>1251</td>\n",
       "      <td>446361</td>\n",
       "    </tr>\n",
       "    <tr>\n",
       "      <th>top</th>\n",
       "      <td>0</td>\n",
       "      <td></td>\n",
       "      <td></td>\n",
       "      <td></td>\n",
       "      <td></td>\n",
       "      <td>PA-32740656</td>\n",
       "    </tr>\n",
       "    <tr>\n",
       "      <th>freq</th>\n",
       "      <td>126938</td>\n",
       "      <td>391011</td>\n",
       "      <td>434025</td>\n",
       "      <td>446078</td>\n",
       "      <td>450800</td>\n",
       "      <td>3</td>\n",
       "    </tr>\n",
       "  </tbody>\n",
       "</table>\n",
       "</div>"
      ],
      "text/plain": [
       "          ICD1    ICD2    ICD3    ICD4    ICD5 PRIOR_AUTH_NUM\n",
       "count   456391  456391  456391  456391  456391         456391\n",
       "unique    9002    5320    3083    1888    1251         446361\n",
       "top          0                                    PA-32740656\n",
       "freq    126938  391011  434025  446078  450800              3"
      ]
     },
     "execution_count": 104,
     "metadata": {},
     "output_type": "execute_result"
    }
   ],
   "source": [
    "ICD_df.describe()"
   ]
  },
  {
   "cell_type": "markdown",
   "metadata": {},
   "source": [
    "comorb_df = icd.icd_to_comorbidities(ICD_df, \"PRIOR_AUTH_NUM\", [\"ICD1\",\"ICD2\",\"ICD3\",\"ICD4\",\"ICD5\"]\n",
    "                                     , mapping='charlson10')"
   ]
  },
  {
   "cell_type": "markdown",
   "metadata": {},
   "source": [
    "comorb_df.describe()"
   ]
  },
  {
   "cell_type": "markdown",
   "metadata": {},
   "source": [
    "comorb_df[:] = (comorb_df[:] == 'TRUE').astype(int)\n",
    "comorb_df.describe()\n",
    "print('\\nUNIQUE:\\n\\n', comorb_df.nunique())\n",
    "print('\\nMISSING:\\n\\n', comorb_df.isna().mean()*100)"
   ]
  },
  {
   "cell_type": "markdown",
   "metadata": {},
   "source": [
    "Since there is no package defind to process ICD10 codes in python getting comorbidity values from R script."
   ]
  },
  {
   "cell_type": "code",
   "execution_count": 109,
   "metadata": {},
   "outputs": [
    {
     "name": "stdout",
     "output_type": "stream",
     "text": [
      "\n",
      "UNIQUE:\n",
      "\n",
      " PRIOR_AUTH_NUM    502813\n",
      "CHF                    2\n",
      "Valvular               2\n",
      "PHTN                   2\n",
      "PVD                    2\n",
      "HTN                    2\n",
      "HTNcx                  2\n",
      "Paralysis              2\n",
      "NeuroOther             2\n",
      "Pulmonary              2\n",
      "DM                     2\n",
      "DMcx                   2\n",
      "Hypothyroid            2\n",
      "Renal                  2\n",
      "Liver                  2\n",
      "PUD                    2\n",
      "HIV                    2\n",
      "Lymphoma               2\n",
      "Mets                   2\n",
      "Tumor                  2\n",
      "Rheumatic              2\n",
      "Coagulopathy           2\n",
      "Obesity                2\n",
      "WeightLoss             2\n",
      "FluidsLytes            2\n",
      "BloodLoss              2\n",
      "Anemia                 2\n",
      "Alcohol                2\n",
      "Drugs                  2\n",
      "Psychoses              2\n",
      "Depression             2\n",
      "dtype: int64\n",
      "\n",
      "MISSING:\n",
      "\n",
      " PRIOR_AUTH_NUM    0.0\n",
      "CHF               0.0\n",
      "Valvular          0.0\n",
      "PHTN              0.0\n",
      "PVD               0.0\n",
      "HTN               0.0\n",
      "HTNcx             0.0\n",
      "Paralysis         0.0\n",
      "NeuroOther        0.0\n",
      "Pulmonary         0.0\n",
      "DM                0.0\n",
      "DMcx              0.0\n",
      "Hypothyroid       0.0\n",
      "Renal             0.0\n",
      "Liver             0.0\n",
      "PUD               0.0\n",
      "HIV               0.0\n",
      "Lymphoma          0.0\n",
      "Mets              0.0\n",
      "Tumor             0.0\n",
      "Rheumatic         0.0\n",
      "Coagulopathy      0.0\n",
      "Obesity           0.0\n",
      "WeightLoss        0.0\n",
      "FluidsLytes       0.0\n",
      "BloodLoss         0.0\n",
      "Anemia            0.0\n",
      "Alcohol           0.0\n",
      "Drugs             0.0\n",
      "Psychoses         0.0\n",
      "Depression        0.0\n",
      "dtype: float64\n"
     ]
    }
   ],
   "source": [
    "comorb_r=pd.read_excel(\"Comorbidity.xlsx\", sheet_name='Comorbidity',dtype=str)\n",
    "print('\\nUNIQUE:\\n\\n', comorb_r.nunique())\n",
    "print('\\nMISSING:\\n\\n', comorb_r.isna().mean()*100)"
   ]
  },
  {
   "cell_type": "code",
   "execution_count": 110,
   "metadata": {},
   "outputs": [],
   "source": [
    "#comorb_r.columns\n",
    "cols=[ 'CHF', 'Valvular', 'PHTN', 'PVD', 'HTN', 'HTNcx',\n",
    "       'Paralysis', 'NeuroOther', 'Pulmonary', 'DM', 'DMcx', 'Hypothyroid',\n",
    "       'Renal', 'Liver', 'PUD', 'HIV', 'Lymphoma', 'Mets', 'Tumor',\n",
    "       'Rheumatic', 'Coagulopathy', 'Obesity', 'WeightLoss', 'FluidsLytes',\n",
    "       'BloodLoss', 'Anemia', 'Alcohol', 'Drugs', 'Psychoses', 'Depression']\n",
    "comorb_r[cols]=comorb_r[cols].astype('uint8')"
   ]
  },
  {
   "cell_type": "code",
   "execution_count": 111,
   "metadata": {
    "scrolled": true
   },
   "outputs": [
    {
     "data": {
      "text/html": [
       "<div>\n",
       "<style scoped>\n",
       "    .dataframe tbody tr th:only-of-type {\n",
       "        vertical-align: middle;\n",
       "    }\n",
       "\n",
       "    .dataframe tbody tr th {\n",
       "        vertical-align: top;\n",
       "    }\n",
       "\n",
       "    .dataframe thead th {\n",
       "        text-align: right;\n",
       "    }\n",
       "</style>\n",
       "<table border=\"1\" class=\"dataframe\">\n",
       "  <thead>\n",
       "    <tr style=\"text-align: right;\">\n",
       "      <th></th>\n",
       "      <th>PRIOR_AUTH_NUM</th>\n",
       "      <th>PRIOR_AUTH_TYPE</th>\n",
       "      <th>STATUS</th>\n",
       "      <th>AUTO_DENIED_FLAG</th>\n",
       "      <th>DRUG_LABEL_NAME</th>\n",
       "      <th>CARRIER_ID</th>\n",
       "      <th>ACCOUNT_ID</th>\n",
       "      <th>EMPLOYER_GROUP_ID</th>\n",
       "      <th>GENDER_CODE</th>\n",
       "      <th>STATE_CODE</th>\n",
       "      <th>...</th>\n",
       "      <th>Coagulopathy</th>\n",
       "      <th>Obesity</th>\n",
       "      <th>WeightLoss</th>\n",
       "      <th>FluidsLytes</th>\n",
       "      <th>BloodLoss</th>\n",
       "      <th>Anemia</th>\n",
       "      <th>Alcohol</th>\n",
       "      <th>Drugs</th>\n",
       "      <th>Psychoses</th>\n",
       "      <th>Depression</th>\n",
       "    </tr>\n",
       "  </thead>\n",
       "  <tbody>\n",
       "    <tr>\n",
       "      <th>0</th>\n",
       "      <td>PA-32690944</td>\n",
       "      <td>ConcurrentReview</td>\n",
       "      <td>RESOLVED-APPROVED</td>\n",
       "      <td>N</td>\n",
       "      <td>ONFI         TAB 10MG</td>\n",
       "      <td>UHCACIS01</td>\n",
       "      <td>A</td>\n",
       "      <td>71300000000000</td>\n",
       "      <td>F</td>\n",
       "      <td>NC</td>\n",
       "      <td>...</td>\n",
       "      <td>0.0</td>\n",
       "      <td>0.0</td>\n",
       "      <td>0.0</td>\n",
       "      <td>0.0</td>\n",
       "      <td>0.0</td>\n",
       "      <td>0.0</td>\n",
       "      <td>0.0</td>\n",
       "      <td>0.0</td>\n",
       "      <td>0.0</td>\n",
       "      <td>0.0</td>\n",
       "    </tr>\n",
       "    <tr>\n",
       "      <th>1</th>\n",
       "      <td>PA-32701214</td>\n",
       "      <td>Nonformularyexception</td>\n",
       "      <td>RESOLVED-DENIED</td>\n",
       "      <td>N</td>\n",
       "      <td>JANUVIA      TAB 100MG</td>\n",
       "      <td>PDPIND</td>\n",
       "      <td>P4L03200000000</td>\n",
       "      <td>IS0522051X</td>\n",
       "      <td>M</td>\n",
       "      <td>ID</td>\n",
       "      <td>...</td>\n",
       "      <td>0.0</td>\n",
       "      <td>0.0</td>\n",
       "      <td>0.0</td>\n",
       "      <td>0.0</td>\n",
       "      <td>0.0</td>\n",
       "      <td>0.0</td>\n",
       "      <td>0.0</td>\n",
       "      <td>0.0</td>\n",
       "      <td>0.0</td>\n",
       "      <td>0.0</td>\n",
       "    </tr>\n",
       "    <tr>\n",
       "      <th>2</th>\n",
       "      <td>PA-32689323</td>\n",
       "      <td>PAReqd</td>\n",
       "      <td>RESOLVED-APPROVED</td>\n",
       "      <td>N</td>\n",
       "      <td>ENTRESTO     TAB 97-103MG</td>\n",
       "      <td>PDPIND</td>\n",
       "      <td>P4L01000000000</td>\n",
       "      <td>IS0522051X</td>\n",
       "      <td>F</td>\n",
       "      <td>NC</td>\n",
       "      <td>...</td>\n",
       "      <td>0.0</td>\n",
       "      <td>0.0</td>\n",
       "      <td>0.0</td>\n",
       "      <td>0.0</td>\n",
       "      <td>0.0</td>\n",
       "      <td>0.0</td>\n",
       "      <td>0.0</td>\n",
       "      <td>0.0</td>\n",
       "      <td>0.0</td>\n",
       "      <td>0.0</td>\n",
       "    </tr>\n",
       "    <tr>\n",
       "      <th>3</th>\n",
       "      <td>PA-32681836</td>\n",
       "      <td>PAReqd</td>\n",
       "      <td>RESOLVED-APPROVED</td>\n",
       "      <td>N</td>\n",
       "      <td>MOVANTIK     TAB 25MG</td>\n",
       "      <td>UHCACIS01</td>\n",
       "      <td>A</td>\n",
       "      <td>73000000000000</td>\n",
       "      <td>F</td>\n",
       "      <td>FL</td>\n",
       "      <td>...</td>\n",
       "      <td>0.0</td>\n",
       "      <td>0.0</td>\n",
       "      <td>0.0</td>\n",
       "      <td>0.0</td>\n",
       "      <td>0.0</td>\n",
       "      <td>0.0</td>\n",
       "      <td>0.0</td>\n",
       "      <td>0.0</td>\n",
       "      <td>0.0</td>\n",
       "      <td>0.0</td>\n",
       "    </tr>\n",
       "    <tr>\n",
       "      <th>4</th>\n",
       "      <td>PA-32709148</td>\n",
       "      <td>PAReqd</td>\n",
       "      <td>RESOLVED-APPROVED</td>\n",
       "      <td>N</td>\n",
       "      <td>OXYCONTIN    TAB 10MG CR</td>\n",
       "      <td>ACUTXEC</td>\n",
       "      <td>ACUTXECTR</td>\n",
       "      <td>ACUTXECTRFULLC</td>\n",
       "      <td>F</td>\n",
       "      <td>TX</td>\n",
       "      <td>...</td>\n",
       "      <td>0.0</td>\n",
       "      <td>0.0</td>\n",
       "      <td>0.0</td>\n",
       "      <td>0.0</td>\n",
       "      <td>0.0</td>\n",
       "      <td>0.0</td>\n",
       "      <td>0.0</td>\n",
       "      <td>0.0</td>\n",
       "      <td>0.0</td>\n",
       "      <td>0.0</td>\n",
       "    </tr>\n",
       "  </tbody>\n",
       "</table>\n",
       "<p>5 rows × 55 columns</p>\n",
       "</div>"
      ],
      "text/plain": [
       "  PRIOR_AUTH_NUM        PRIOR_AUTH_TYPE             STATUS AUTO_DENIED_FLAG  \\\n",
       "0    PA-32690944       ConcurrentReview  RESOLVED-APPROVED                N   \n",
       "1    PA-32701214  Nonformularyexception    RESOLVED-DENIED                N   \n",
       "2    PA-32689323                 PAReqd  RESOLVED-APPROVED                N   \n",
       "3    PA-32681836                 PAReqd  RESOLVED-APPROVED                N   \n",
       "4    PA-32709148                 PAReqd  RESOLVED-APPROVED                N   \n",
       "\n",
       "             DRUG_LABEL_NAME CARRIER_ID      ACCOUNT_ID EMPLOYER_GROUP_ID  \\\n",
       "0      ONFI         TAB 10MG  UHCACIS01               A    71300000000000   \n",
       "1     JANUVIA      TAB 100MG     PDPIND  P4L03200000000        IS0522051X   \n",
       "2  ENTRESTO     TAB 97-103MG     PDPIND  P4L01000000000        IS0522051X   \n",
       "3      MOVANTIK     TAB 25MG  UHCACIS01               A    73000000000000   \n",
       "4   OXYCONTIN    TAB 10MG CR    ACUTXEC       ACUTXECTR    ACUTXECTRFULLC   \n",
       "\n",
       "  GENDER_CODE STATE_CODE  ... Coagulopathy Obesity WeightLoss FluidsLytes  \\\n",
       "0           F         NC  ...          0.0     0.0        0.0         0.0   \n",
       "1           M         ID  ...          0.0     0.0        0.0         0.0   \n",
       "2           F         NC  ...          0.0     0.0        0.0         0.0   \n",
       "3           F         FL  ...          0.0     0.0        0.0         0.0   \n",
       "4           F         TX  ...          0.0     0.0        0.0         0.0   \n",
       "\n",
       "  BloodLoss Anemia Alcohol Drugs Psychoses Depression  \n",
       "0       0.0    0.0     0.0   0.0       0.0        0.0  \n",
       "1       0.0    0.0     0.0   0.0       0.0        0.0  \n",
       "2       0.0    0.0     0.0   0.0       0.0        0.0  \n",
       "3       0.0    0.0     0.0   0.0       0.0        0.0  \n",
       "4       0.0    0.0     0.0   0.0       0.0        0.0  \n",
       "\n",
       "[5 rows x 55 columns]"
      ]
     },
     "execution_count": 111,
     "metadata": {},
     "output_type": "execute_result"
    }
   ],
   "source": [
    "Rx1=pd.merge(Rx1,comorb_r, how='left',on='PRIOR_AUTH_NUM')\n",
    "Rx1.head()"
   ]
  },
  {
   "cell_type": "code",
   "execution_count": 113,
   "metadata": {},
   "outputs": [
    {
     "data": {
      "text/html": [
       "<div>\n",
       "<style scoped>\n",
       "    .dataframe tbody tr th:only-of-type {\n",
       "        vertical-align: middle;\n",
       "    }\n",
       "\n",
       "    .dataframe tbody tr th {\n",
       "        vertical-align: top;\n",
       "    }\n",
       "\n",
       "    .dataframe thead th {\n",
       "        text-align: right;\n",
       "    }\n",
       "</style>\n",
       "<table border=\"1\" class=\"dataframe\">\n",
       "  <thead>\n",
       "    <tr style=\"text-align: right;\">\n",
       "      <th></th>\n",
       "      <th>CHF</th>\n",
       "      <th>Valvular</th>\n",
       "      <th>PHTN</th>\n",
       "      <th>PVD</th>\n",
       "      <th>HTN</th>\n",
       "      <th>HTNcx</th>\n",
       "      <th>Paralysis</th>\n",
       "      <th>NeuroOther</th>\n",
       "      <th>Pulmonary</th>\n",
       "      <th>DM</th>\n",
       "      <th>...</th>\n",
       "      <th>Coagulopathy</th>\n",
       "      <th>Obesity</th>\n",
       "      <th>WeightLoss</th>\n",
       "      <th>FluidsLytes</th>\n",
       "      <th>BloodLoss</th>\n",
       "      <th>Anemia</th>\n",
       "      <th>Alcohol</th>\n",
       "      <th>Drugs</th>\n",
       "      <th>Psychoses</th>\n",
       "      <th>Depression</th>\n",
       "    </tr>\n",
       "  </thead>\n",
       "  <tbody>\n",
       "    <tr>\n",
       "      <th>344901</th>\n",
       "      <td>0.0</td>\n",
       "      <td>0.0</td>\n",
       "      <td>0.0</td>\n",
       "      <td>0.0</td>\n",
       "      <td>0.0</td>\n",
       "      <td>0.0</td>\n",
       "      <td>0.0</td>\n",
       "      <td>0.0</td>\n",
       "      <td>0.0</td>\n",
       "      <td>0.0</td>\n",
       "      <td>...</td>\n",
       "      <td>0.0</td>\n",
       "      <td>0.0</td>\n",
       "      <td>0.0</td>\n",
       "      <td>0.0</td>\n",
       "      <td>0.0</td>\n",
       "      <td>0.0</td>\n",
       "      <td>0.0</td>\n",
       "      <td>0.0</td>\n",
       "      <td>0.0</td>\n",
       "      <td>0.0</td>\n",
       "    </tr>\n",
       "    <tr>\n",
       "      <th>138994</th>\n",
       "      <td>0.0</td>\n",
       "      <td>0.0</td>\n",
       "      <td>0.0</td>\n",
       "      <td>0.0</td>\n",
       "      <td>0.0</td>\n",
       "      <td>0.0</td>\n",
       "      <td>0.0</td>\n",
       "      <td>0.0</td>\n",
       "      <td>0.0</td>\n",
       "      <td>0.0</td>\n",
       "      <td>...</td>\n",
       "      <td>0.0</td>\n",
       "      <td>0.0</td>\n",
       "      <td>0.0</td>\n",
       "      <td>0.0</td>\n",
       "      <td>0.0</td>\n",
       "      <td>0.0</td>\n",
       "      <td>0.0</td>\n",
       "      <td>0.0</td>\n",
       "      <td>0.0</td>\n",
       "      <td>0.0</td>\n",
       "    </tr>\n",
       "    <tr>\n",
       "      <th>20119</th>\n",
       "      <td>0.0</td>\n",
       "      <td>0.0</td>\n",
       "      <td>0.0</td>\n",
       "      <td>0.0</td>\n",
       "      <td>0.0</td>\n",
       "      <td>0.0</td>\n",
       "      <td>0.0</td>\n",
       "      <td>0.0</td>\n",
       "      <td>0.0</td>\n",
       "      <td>0.0</td>\n",
       "      <td>...</td>\n",
       "      <td>0.0</td>\n",
       "      <td>0.0</td>\n",
       "      <td>0.0</td>\n",
       "      <td>0.0</td>\n",
       "      <td>0.0</td>\n",
       "      <td>0.0</td>\n",
       "      <td>0.0</td>\n",
       "      <td>0.0</td>\n",
       "      <td>0.0</td>\n",
       "      <td>0.0</td>\n",
       "    </tr>\n",
       "    <tr>\n",
       "      <th>354790</th>\n",
       "      <td>0.0</td>\n",
       "      <td>0.0</td>\n",
       "      <td>0.0</td>\n",
       "      <td>0.0</td>\n",
       "      <td>0.0</td>\n",
       "      <td>0.0</td>\n",
       "      <td>0.0</td>\n",
       "      <td>0.0</td>\n",
       "      <td>1.0</td>\n",
       "      <td>0.0</td>\n",
       "      <td>...</td>\n",
       "      <td>0.0</td>\n",
       "      <td>0.0</td>\n",
       "      <td>0.0</td>\n",
       "      <td>0.0</td>\n",
       "      <td>0.0</td>\n",
       "      <td>0.0</td>\n",
       "      <td>0.0</td>\n",
       "      <td>0.0</td>\n",
       "      <td>0.0</td>\n",
       "      <td>0.0</td>\n",
       "    </tr>\n",
       "    <tr>\n",
       "      <th>1044</th>\n",
       "      <td>0.0</td>\n",
       "      <td>0.0</td>\n",
       "      <td>0.0</td>\n",
       "      <td>0.0</td>\n",
       "      <td>0.0</td>\n",
       "      <td>0.0</td>\n",
       "      <td>0.0</td>\n",
       "      <td>0.0</td>\n",
       "      <td>0.0</td>\n",
       "      <td>0.0</td>\n",
       "      <td>...</td>\n",
       "      <td>0.0</td>\n",
       "      <td>0.0</td>\n",
       "      <td>0.0</td>\n",
       "      <td>0.0</td>\n",
       "      <td>0.0</td>\n",
       "      <td>0.0</td>\n",
       "      <td>0.0</td>\n",
       "      <td>0.0</td>\n",
       "      <td>0.0</td>\n",
       "      <td>0.0</td>\n",
       "    </tr>\n",
       "    <tr>\n",
       "      <th>303897</th>\n",
       "      <td>0.0</td>\n",
       "      <td>0.0</td>\n",
       "      <td>0.0</td>\n",
       "      <td>0.0</td>\n",
       "      <td>0.0</td>\n",
       "      <td>0.0</td>\n",
       "      <td>0.0</td>\n",
       "      <td>0.0</td>\n",
       "      <td>0.0</td>\n",
       "      <td>0.0</td>\n",
       "      <td>...</td>\n",
       "      <td>0.0</td>\n",
       "      <td>0.0</td>\n",
       "      <td>0.0</td>\n",
       "      <td>0.0</td>\n",
       "      <td>0.0</td>\n",
       "      <td>0.0</td>\n",
       "      <td>0.0</td>\n",
       "      <td>0.0</td>\n",
       "      <td>0.0</td>\n",
       "      <td>0.0</td>\n",
       "    </tr>\n",
       "    <tr>\n",
       "      <th>63474</th>\n",
       "      <td>0.0</td>\n",
       "      <td>0.0</td>\n",
       "      <td>0.0</td>\n",
       "      <td>0.0</td>\n",
       "      <td>0.0</td>\n",
       "      <td>0.0</td>\n",
       "      <td>0.0</td>\n",
       "      <td>0.0</td>\n",
       "      <td>1.0</td>\n",
       "      <td>0.0</td>\n",
       "      <td>...</td>\n",
       "      <td>0.0</td>\n",
       "      <td>0.0</td>\n",
       "      <td>0.0</td>\n",
       "      <td>0.0</td>\n",
       "      <td>0.0</td>\n",
       "      <td>0.0</td>\n",
       "      <td>0.0</td>\n",
       "      <td>0.0</td>\n",
       "      <td>0.0</td>\n",
       "      <td>0.0</td>\n",
       "    </tr>\n",
       "    <tr>\n",
       "      <th>263760</th>\n",
       "      <td>0.0</td>\n",
       "      <td>0.0</td>\n",
       "      <td>0.0</td>\n",
       "      <td>0.0</td>\n",
       "      <td>0.0</td>\n",
       "      <td>0.0</td>\n",
       "      <td>0.0</td>\n",
       "      <td>0.0</td>\n",
       "      <td>0.0</td>\n",
       "      <td>0.0</td>\n",
       "      <td>...</td>\n",
       "      <td>0.0</td>\n",
       "      <td>0.0</td>\n",
       "      <td>0.0</td>\n",
       "      <td>0.0</td>\n",
       "      <td>0.0</td>\n",
       "      <td>0.0</td>\n",
       "      <td>0.0</td>\n",
       "      <td>0.0</td>\n",
       "      <td>0.0</td>\n",
       "      <td>0.0</td>\n",
       "    </tr>\n",
       "    <tr>\n",
       "      <th>36677</th>\n",
       "      <td>0.0</td>\n",
       "      <td>0.0</td>\n",
       "      <td>0.0</td>\n",
       "      <td>0.0</td>\n",
       "      <td>0.0</td>\n",
       "      <td>0.0</td>\n",
       "      <td>0.0</td>\n",
       "      <td>0.0</td>\n",
       "      <td>0.0</td>\n",
       "      <td>0.0</td>\n",
       "      <td>...</td>\n",
       "      <td>0.0</td>\n",
       "      <td>0.0</td>\n",
       "      <td>0.0</td>\n",
       "      <td>0.0</td>\n",
       "      <td>0.0</td>\n",
       "      <td>0.0</td>\n",
       "      <td>0.0</td>\n",
       "      <td>0.0</td>\n",
       "      <td>0.0</td>\n",
       "      <td>0.0</td>\n",
       "    </tr>\n",
       "    <tr>\n",
       "      <th>118623</th>\n",
       "      <td>0.0</td>\n",
       "      <td>0.0</td>\n",
       "      <td>0.0</td>\n",
       "      <td>0.0</td>\n",
       "      <td>0.0</td>\n",
       "      <td>0.0</td>\n",
       "      <td>0.0</td>\n",
       "      <td>0.0</td>\n",
       "      <td>0.0</td>\n",
       "      <td>0.0</td>\n",
       "      <td>...</td>\n",
       "      <td>0.0</td>\n",
       "      <td>0.0</td>\n",
       "      <td>0.0</td>\n",
       "      <td>0.0</td>\n",
       "      <td>0.0</td>\n",
       "      <td>0.0</td>\n",
       "      <td>0.0</td>\n",
       "      <td>0.0</td>\n",
       "      <td>0.0</td>\n",
       "      <td>0.0</td>\n",
       "    </tr>\n",
       "  </tbody>\n",
       "</table>\n",
       "<p>10 rows × 30 columns</p>\n",
       "</div>"
      ],
      "text/plain": [
       "        CHF  Valvular  PHTN  PVD  HTN  HTNcx  Paralysis  NeuroOther  \\\n",
       "344901  0.0       0.0   0.0  0.0  0.0    0.0        0.0         0.0   \n",
       "138994  0.0       0.0   0.0  0.0  0.0    0.0        0.0         0.0   \n",
       "20119   0.0       0.0   0.0  0.0  0.0    0.0        0.0         0.0   \n",
       "354790  0.0       0.0   0.0  0.0  0.0    0.0        0.0         0.0   \n",
       "1044    0.0       0.0   0.0  0.0  0.0    0.0        0.0         0.0   \n",
       "303897  0.0       0.0   0.0  0.0  0.0    0.0        0.0         0.0   \n",
       "63474   0.0       0.0   0.0  0.0  0.0    0.0        0.0         0.0   \n",
       "263760  0.0       0.0   0.0  0.0  0.0    0.0        0.0         0.0   \n",
       "36677   0.0       0.0   0.0  0.0  0.0    0.0        0.0         0.0   \n",
       "118623  0.0       0.0   0.0  0.0  0.0    0.0        0.0         0.0   \n",
       "\n",
       "        Pulmonary   DM  ...  Coagulopathy  Obesity  WeightLoss  FluidsLytes  \\\n",
       "344901        0.0  0.0  ...           0.0      0.0         0.0          0.0   \n",
       "138994        0.0  0.0  ...           0.0      0.0         0.0          0.0   \n",
       "20119         0.0  0.0  ...           0.0      0.0         0.0          0.0   \n",
       "354790        1.0  0.0  ...           0.0      0.0         0.0          0.0   \n",
       "1044          0.0  0.0  ...           0.0      0.0         0.0          0.0   \n",
       "303897        0.0  0.0  ...           0.0      0.0         0.0          0.0   \n",
       "63474         1.0  0.0  ...           0.0      0.0         0.0          0.0   \n",
       "263760        0.0  0.0  ...           0.0      0.0         0.0          0.0   \n",
       "36677         0.0  0.0  ...           0.0      0.0         0.0          0.0   \n",
       "118623        0.0  0.0  ...           0.0      0.0         0.0          0.0   \n",
       "\n",
       "        BloodLoss  Anemia  Alcohol  Drugs  Psychoses  Depression  \n",
       "344901        0.0     0.0      0.0    0.0        0.0         0.0  \n",
       "138994        0.0     0.0      0.0    0.0        0.0         0.0  \n",
       "20119         0.0     0.0      0.0    0.0        0.0         0.0  \n",
       "354790        0.0     0.0      0.0    0.0        0.0         0.0  \n",
       "1044          0.0     0.0      0.0    0.0        0.0         0.0  \n",
       "303897        0.0     0.0      0.0    0.0        0.0         0.0  \n",
       "63474         0.0     0.0      0.0    0.0        0.0         0.0  \n",
       "263760        0.0     0.0      0.0    0.0        0.0         0.0  \n",
       "36677         0.0     0.0      0.0    0.0        0.0         0.0  \n",
       "118623        0.0     0.0      0.0    0.0        0.0         0.0  \n",
       "\n",
       "[10 rows x 30 columns]"
      ]
     },
     "execution_count": 113,
     "metadata": {},
     "output_type": "execute_result"
    }
   ],
   "source": [
    "Rx1[cols].sample(10)"
   ]
  },
  {
   "cell_type": "markdown",
   "metadata": {},
   "source": [
    "Since we have the comorbidity values we can drop the ICD_CODE column which doenst make much sense to the machine"
   ]
  },
  {
   "cell_type": "code",
   "execution_count": 48,
   "metadata": {},
   "outputs": [],
   "source": [
    "Rx1.drop(['ICD_CODE'],axis=1,inplace=True)"
   ]
  },
  {
   "cell_type": "code",
   "execution_count": 114,
   "metadata": {
    "scrolled": true
   },
   "outputs": [
    {
     "name": "stdout",
     "output_type": "stream",
     "text": [
      "\n",
      "UNIQUE:\n",
      "\n",
      " PRIOR_AUTH_NUM            446361\n",
      "PRIOR_AUTH_TYPE               22\n",
      "STATUS                         2\n",
      "AUTO_DENIED_FLAG               2\n",
      "DRUG_LABEL_NAME             6375\n",
      "CARRIER_ID                   414\n",
      "ACCOUNT_ID                  3213\n",
      "EMPLOYER_GROUP_ID          41010\n",
      "GENDER_CODE                    2\n",
      "STATE_CODE                    56\n",
      "DIRECTIONS_FOR_USE        135934\n",
      "DIAGNOSIS_COMMENTS         76603\n",
      "PLAN_CODE                  19002\n",
      "BRAND_NAME                  3507\n",
      "HIGH_PRIORITY_FLAG             2\n",
      "FORMULARY_STATUS               2\n",
      "ICD_CODE                   44278\n",
      "ICD_DESCRIPTION            76613\n",
      "DRUG_STATUS_CODE               2\n",
      "DRUG_MANUFACTURER_NAME       630\n",
      "Age                           89\n",
      "DRUG_UOM                     129\n",
      "LOG_TDPQ                     271\n",
      "LOG_DRG_STRNGT               265\n",
      "LOG_NO_ICD                    26\n",
      "CHF                            2\n",
      "Valvular                       2\n",
      "PHTN                           2\n",
      "PVD                            2\n",
      "HTN                            2\n",
      "HTNcx                          2\n",
      "Paralysis                      2\n",
      "NeuroOther                     2\n",
      "Pulmonary                      2\n",
      "DM                             2\n",
      "DMcx                           2\n",
      "Hypothyroid                    2\n",
      "Renal                          2\n",
      "Liver                          2\n",
      "PUD                            2\n",
      "HIV                            2\n",
      "Lymphoma                       2\n",
      "Mets                           2\n",
      "Tumor                          2\n",
      "Rheumatic                      2\n",
      "Coagulopathy                   2\n",
      "Obesity                        2\n",
      "WeightLoss                     2\n",
      "FluidsLytes                    2\n",
      "BloodLoss                      2\n",
      "Anemia                         2\n",
      "Alcohol                        2\n",
      "Drugs                          2\n",
      "Psychoses                      2\n",
      "Depression                     2\n",
      "dtype: int64\n",
      "\n",
      "MISSING:\n",
      "\n",
      " PRIOR_AUTH_NUM                0\n",
      "PRIOR_AUTH_TYPE               0\n",
      "STATUS                        0\n",
      "AUTO_DENIED_FLAG              0\n",
      "DRUG_LABEL_NAME               0\n",
      "CARRIER_ID                    0\n",
      "ACCOUNT_ID                    0\n",
      "EMPLOYER_GROUP_ID             0\n",
      "GENDER_CODE                   0\n",
      "STATE_CODE                    0\n",
      "DIRECTIONS_FOR_USE            0\n",
      "DIAGNOSIS_COMMENTS            0\n",
      "PLAN_CODE                     0\n",
      "BRAND_NAME                    0\n",
      "HIGH_PRIORITY_FLAG            0\n",
      "FORMULARY_STATUS              0\n",
      "ICD_CODE                      0\n",
      "ICD_DESCRIPTION               0\n",
      "DRUG_STATUS_CODE              0\n",
      "DRUG_MANUFACTURER_NAME        0\n",
      "Age                           0\n",
      "DRUG_UOM                      0\n",
      "LOG_TDPQ                      0\n",
      "LOG_DRG_STRNGT                0\n",
      "LOG_NO_ICD                    0\n",
      "CHF                       24597\n",
      "Valvular                  24597\n",
      "PHTN                      24597\n",
      "PVD                       24597\n",
      "HTN                       24597\n",
      "HTNcx                     24597\n",
      "Paralysis                 24597\n",
      "NeuroOther                24597\n",
      "Pulmonary                 24597\n",
      "DM                        24597\n",
      "DMcx                      24597\n",
      "Hypothyroid               24597\n",
      "Renal                     24597\n",
      "Liver                     24597\n",
      "PUD                       24597\n",
      "HIV                       24597\n",
      "Lymphoma                  24597\n",
      "Mets                      24597\n",
      "Tumor                     24597\n",
      "Rheumatic                 24597\n",
      "Coagulopathy              24597\n",
      "Obesity                   24597\n",
      "WeightLoss                24597\n",
      "FluidsLytes               24597\n",
      "BloodLoss                 24597\n",
      "Anemia                    24597\n",
      "Alcohol                   24597\n",
      "Drugs                     24597\n",
      "Psychoses                 24597\n",
      "Depression                24597\n",
      "dtype: int64\n",
      "\n",
      "DTYPES:\n",
      "\n",
      " PRIOR_AUTH_NUM              object\n",
      "PRIOR_AUTH_TYPE           category\n",
      "STATUS                    category\n",
      "AUTO_DENIED_FLAG          category\n",
      "DRUG_LABEL_NAME           category\n",
      "CARRIER_ID                category\n",
      "ACCOUNT_ID                category\n",
      "EMPLOYER_GROUP_ID         category\n",
      "GENDER_CODE               category\n",
      "STATE_CODE                category\n",
      "DIRECTIONS_FOR_USE          object\n",
      "DIAGNOSIS_COMMENTS          object\n",
      "PLAN_CODE                 category\n",
      "BRAND_NAME                category\n",
      "HIGH_PRIORITY_FLAG        category\n",
      "FORMULARY_STATUS          category\n",
      "ICD_CODE                    object\n",
      "ICD_DESCRIPTION             object\n",
      "DRUG_STATUS_CODE          category\n",
      "DRUG_MANUFACTURER_NAME    category\n",
      "Age                        float64\n",
      "DRUG_UOM                  category\n",
      "LOG_TDPQ                   float64\n",
      "LOG_DRG_STRNGT             float64\n",
      "LOG_NO_ICD                 float64\n",
      "CHF                        float64\n",
      "Valvular                   float64\n",
      "PHTN                       float64\n",
      "PVD                        float64\n",
      "HTN                        float64\n",
      "HTNcx                      float64\n",
      "Paralysis                  float64\n",
      "NeuroOther                 float64\n",
      "Pulmonary                  float64\n",
      "DM                         float64\n",
      "DMcx                       float64\n",
      "Hypothyroid                float64\n",
      "Renal                      float64\n",
      "Liver                      float64\n",
      "PUD                        float64\n",
      "HIV                        float64\n",
      "Lymphoma                   float64\n",
      "Mets                       float64\n",
      "Tumor                      float64\n",
      "Rheumatic                  float64\n",
      "Coagulopathy               float64\n",
      "Obesity                    float64\n",
      "WeightLoss                 float64\n",
      "FluidsLytes                float64\n",
      "BloodLoss                  float64\n",
      "Anemia                     float64\n",
      "Alcohol                    float64\n",
      "Drugs                      float64\n",
      "Psychoses                  float64\n",
      "Depression                 float64\n",
      "dtype: object\n"
     ]
    }
   ],
   "source": [
    "print('\\nUNIQUE:\\n\\n', Rx1.nunique())\n",
    "print('\\nMISSING:\\n\\n', Rx1.isna().sum())\n",
    "print('\\nDTYPES:\\n\\n', Rx1.dtypes)"
   ]
  },
  {
   "cell_type": "code",
   "execution_count": 115,
   "metadata": {},
   "outputs": [],
   "source": [
    "Rx1['CHF'].fillna(0,inplace=True)\n",
    "Rx1['Valvular'].fillna(0,inplace=True)\n",
    "Rx1['PHTN'].fillna(0,inplace=True)\n",
    "Rx1['PVD'].fillna(0,inplace=True)\n",
    "Rx1['HTN'].fillna(0,inplace=True)\n",
    "Rx1['HTNcx'].fillna(0,inplace=True)\n",
    "Rx1['Paralysis'].fillna(0,inplace=True)\n",
    "Rx1['NeuroOther'].fillna(0,inplace=True)\n",
    "Rx1['Pulmonary'].fillna(0,inplace=True)\n",
    "Rx1['DM'].fillna(0,inplace=True)\n",
    "Rx1['DMcx'].fillna(0,inplace=True)\n",
    "Rx1['Hypothyroid'].fillna(0,inplace=True)\n",
    "Rx1['Renal'].fillna(0,inplace=True)\n",
    "Rx1['Liver'].fillna(0,inplace=True)\n",
    "Rx1['PUD'].fillna(0,inplace=True)\n",
    "Rx1['HIV'].fillna(0,inplace=True)\n",
    "Rx1['Lymphoma'].fillna(0,inplace=True)\n",
    "Rx1['Mets'].fillna(0,inplace=True)\n",
    "Rx1['Tumor'].fillna(0,inplace=True)\n",
    "Rx1['Rheumatic'].fillna(0,inplace=True)\n",
    "Rx1['Coagulopathy'].fillna(0,inplace=True)\n",
    "Rx1['Obesity'].fillna(0,inplace=True)\n",
    "Rx1['WeightLoss'].fillna(0,inplace=True)\n",
    "Rx1['FluidsLytes'].fillna(0,inplace=True)\n",
    "Rx1['BloodLoss'].fillna(0,inplace=True)\n",
    "Rx1['Anemia'].fillna(0,inplace=True)\n",
    "Rx1['Alcohol'].fillna(0,inplace=True)\n",
    "Rx1['Drugs'].fillna(0,inplace=True)\n",
    "Rx1['Psychoses'].fillna(0,inplace=True)\n",
    "Rx1['Depression'].fillna(0,inplace=True)"
   ]
  },
  {
   "cell_type": "code",
   "execution_count": 116,
   "metadata": {},
   "outputs": [
    {
     "name": "stdout",
     "output_type": "stream",
     "text": [
      "\n",
      "UNIQUE:\n",
      "\n",
      " PRIOR_AUTH_NUM            446361\n",
      "PRIOR_AUTH_TYPE               22\n",
      "STATUS                         2\n",
      "AUTO_DENIED_FLAG               2\n",
      "DRUG_LABEL_NAME             6375\n",
      "CARRIER_ID                   414\n",
      "ACCOUNT_ID                  3213\n",
      "EMPLOYER_GROUP_ID          41010\n",
      "GENDER_CODE                    2\n",
      "STATE_CODE                    56\n",
      "DIRECTIONS_FOR_USE        135934\n",
      "DIAGNOSIS_COMMENTS         76603\n",
      "PLAN_CODE                  19002\n",
      "BRAND_NAME                  3507\n",
      "HIGH_PRIORITY_FLAG             2\n",
      "FORMULARY_STATUS               2\n",
      "ICD_CODE                   44278\n",
      "ICD_DESCRIPTION            76613\n",
      "DRUG_STATUS_CODE               2\n",
      "DRUG_MANUFACTURER_NAME       630\n",
      "Age                           89\n",
      "DRUG_UOM                     129\n",
      "LOG_TDPQ                     271\n",
      "LOG_DRG_STRNGT               265\n",
      "LOG_NO_ICD                    26\n",
      "CHF                            2\n",
      "Valvular                       2\n",
      "PHTN                           2\n",
      "PVD                            2\n",
      "HTN                            2\n",
      "HTNcx                          2\n",
      "Paralysis                      2\n",
      "NeuroOther                     2\n",
      "Pulmonary                      2\n",
      "DM                             2\n",
      "DMcx                           2\n",
      "Hypothyroid                    2\n",
      "Renal                          2\n",
      "Liver                          2\n",
      "PUD                            2\n",
      "HIV                            2\n",
      "Lymphoma                       2\n",
      "Mets                           2\n",
      "Tumor                          2\n",
      "Rheumatic                      2\n",
      "Coagulopathy                   2\n",
      "Obesity                        2\n",
      "WeightLoss                     2\n",
      "FluidsLytes                    2\n",
      "BloodLoss                      2\n",
      "Anemia                         2\n",
      "Alcohol                        2\n",
      "Drugs                          2\n",
      "Psychoses                      2\n",
      "Depression                     2\n",
      "dtype: int64\n",
      "\n",
      "MISSING:\n",
      "\n",
      " PRIOR_AUTH_NUM            0\n",
      "PRIOR_AUTH_TYPE           0\n",
      "STATUS                    0\n",
      "AUTO_DENIED_FLAG          0\n",
      "DRUG_LABEL_NAME           0\n",
      "CARRIER_ID                0\n",
      "ACCOUNT_ID                0\n",
      "EMPLOYER_GROUP_ID         0\n",
      "GENDER_CODE               0\n",
      "STATE_CODE                0\n",
      "DIRECTIONS_FOR_USE        0\n",
      "DIAGNOSIS_COMMENTS        0\n",
      "PLAN_CODE                 0\n",
      "BRAND_NAME                0\n",
      "HIGH_PRIORITY_FLAG        0\n",
      "FORMULARY_STATUS          0\n",
      "ICD_CODE                  0\n",
      "ICD_DESCRIPTION           0\n",
      "DRUG_STATUS_CODE          0\n",
      "DRUG_MANUFACTURER_NAME    0\n",
      "Age                       0\n",
      "DRUG_UOM                  0\n",
      "LOG_TDPQ                  0\n",
      "LOG_DRG_STRNGT            0\n",
      "LOG_NO_ICD                0\n",
      "CHF                       0\n",
      "Valvular                  0\n",
      "PHTN                      0\n",
      "PVD                       0\n",
      "HTN                       0\n",
      "HTNcx                     0\n",
      "Paralysis                 0\n",
      "NeuroOther                0\n",
      "Pulmonary                 0\n",
      "DM                        0\n",
      "DMcx                      0\n",
      "Hypothyroid               0\n",
      "Renal                     0\n",
      "Liver                     0\n",
      "PUD                       0\n",
      "HIV                       0\n",
      "Lymphoma                  0\n",
      "Mets                      0\n",
      "Tumor                     0\n",
      "Rheumatic                 0\n",
      "Coagulopathy              0\n",
      "Obesity                   0\n",
      "WeightLoss                0\n",
      "FluidsLytes               0\n",
      "BloodLoss                 0\n",
      "Anemia                    0\n",
      "Alcohol                   0\n",
      "Drugs                     0\n",
      "Psychoses                 0\n",
      "Depression                0\n",
      "dtype: int64\n",
      "\n",
      "DTYPES:\n",
      "\n",
      " PRIOR_AUTH_NUM              object\n",
      "PRIOR_AUTH_TYPE           category\n",
      "STATUS                    category\n",
      "AUTO_DENIED_FLAG          category\n",
      "DRUG_LABEL_NAME           category\n",
      "CARRIER_ID                category\n",
      "ACCOUNT_ID                category\n",
      "EMPLOYER_GROUP_ID         category\n",
      "GENDER_CODE               category\n",
      "STATE_CODE                category\n",
      "DIRECTIONS_FOR_USE          object\n",
      "DIAGNOSIS_COMMENTS          object\n",
      "PLAN_CODE                 category\n",
      "BRAND_NAME                category\n",
      "HIGH_PRIORITY_FLAG        category\n",
      "FORMULARY_STATUS          category\n",
      "ICD_CODE                    object\n",
      "ICD_DESCRIPTION             object\n",
      "DRUG_STATUS_CODE          category\n",
      "DRUG_MANUFACTURER_NAME    category\n",
      "Age                        float64\n",
      "DRUG_UOM                  category\n",
      "LOG_TDPQ                   float64\n",
      "LOG_DRG_STRNGT             float64\n",
      "LOG_NO_ICD                 float64\n",
      "CHF                        float64\n",
      "Valvular                   float64\n",
      "PHTN                       float64\n",
      "PVD                        float64\n",
      "HTN                        float64\n",
      "HTNcx                      float64\n",
      "Paralysis                  float64\n",
      "NeuroOther                 float64\n",
      "Pulmonary                  float64\n",
      "DM                         float64\n",
      "DMcx                       float64\n",
      "Hypothyroid                float64\n",
      "Renal                      float64\n",
      "Liver                      float64\n",
      "PUD                        float64\n",
      "HIV                        float64\n",
      "Lymphoma                   float64\n",
      "Mets                       float64\n",
      "Tumor                      float64\n",
      "Rheumatic                  float64\n",
      "Coagulopathy               float64\n",
      "Obesity                    float64\n",
      "WeightLoss                 float64\n",
      "FluidsLytes                float64\n",
      "BloodLoss                  float64\n",
      "Anemia                     float64\n",
      "Alcohol                    float64\n",
      "Drugs                      float64\n",
      "Psychoses                  float64\n",
      "Depression                 float64\n",
      "dtype: object\n"
     ]
    }
   ],
   "source": [
    "print('\\nUNIQUE:\\n\\n', Rx1.nunique())\n",
    "print('\\nMISSING:\\n\\n', Rx1.isna().sum())\n",
    "print('\\nDTYPES:\\n\\n', Rx1.dtypes)"
   ]
  },
  {
   "cell_type": "markdown",
   "metadata": {},
   "source": [
    "the distribution doesnt vary much because of the total_drug_package_quantity"
   ]
  },
  {
   "cell_type": "code",
   "execution_count": 117,
   "metadata": {},
   "outputs": [
    {
     "data": {
      "text/plain": [
       "<matplotlib.axes._subplots.AxesSubplot at 0x2070523de48>"
      ]
     },
     "execution_count": 117,
     "metadata": {},
     "output_type": "execute_result"
    },
    {
     "data": {
      "image/png": "[encoded data removed]",
      "text/plain": [
       "<Figure size 432x288 with 2 Axes>"
      ]
     },
     "metadata": {
      "needs_background": "light"
     },
     "output_type": "display_data"
    }
   ],
   "source": [
    "plt.subplot(1,2,1)\n",
    "sns.distplot(Rx1[Rx1['STATUS']=='RESOLVED-APPROVED']['LOG_TDPQ'],rug=True)\n",
    "\n",
    "plt.subplot(1,2,2)\n",
    "sns.distplot(Rx1[Rx1['STATUS']=='RESOLVED-DENIED']['LOG_TDPQ'],rug=True)"
   ]
  },
  {
   "cell_type": "code",
   "execution_count": 118,
   "metadata": {},
   "outputs": [
    {
     "data": {
      "text/plain": [
       "<matplotlib.axes._subplots.AxesSubplot at 0x2074180a4a8>"
      ]
     },
     "execution_count": 118,
     "metadata": {},
     "output_type": "execute_result"
    },
    {
     "data": {
      "image/png": "[encoded data removed]",
      "text/plain": [
       "<Figure size 432x288 with 1 Axes>"
      ]
     },
     "metadata": {
      "needs_background": "light"
     },
     "output_type": "display_data"
    }
   ],
   "source": [
    "sns.boxplot(x='STATUS',y='Age',data=Rx1)"
   ]
  },
  {
   "cell_type": "code",
   "execution_count": 119,
   "metadata": {},
   "outputs": [
    {
     "data": {
      "text/plain": [
       "<matplotlib.axes._subplots.AxesSubplot at 0x2070c68fa90>"
      ]
     },
     "execution_count": 119,
     "metadata": {},
     "output_type": "execute_result"
    },
    {
     "data": {
      "image/png": "[encoded data removed]",
      "text/plain": [
       "<Figure size 432x288 with 1 Axes>"
      ]
     },
     "metadata": {
      "needs_background": "light"
     },
     "output_type": "display_data"
    }
   ],
   "source": [
    "sns.boxplot(x='STATUS',y='Age',data=Rx1,hue='GENDER_CODE')"
   ]
  },
  {
   "cell_type": "code",
   "execution_count": 120,
   "metadata": {},
   "outputs": [
    {
     "data": {
      "text/plain": [
       "<matplotlib.axes._subplots.AxesSubplot at 0x2070c768208>"
      ]
     },
     "execution_count": 120,
     "metadata": {},
     "output_type": "execute_result"
    },
    {
     "data": {
      "image/png": "[encoded data removed]",
      "text/plain": [
       "<Figure size 432x288 with 1 Axes>"
      ]
     },
     "metadata": {
      "needs_background": "light"
     },
     "output_type": "display_data"
    }
   ],
   "source": [
    "sns.boxplot(x='STATUS',y='LOG_TDPQ',data=Rx1)"
   ]
  },
  {
   "cell_type": "code",
   "execution_count": 121,
   "metadata": {},
   "outputs": [
    {
     "data": {
      "text/plain": [
       "<matplotlib.axes._subplots.AxesSubplot at 0x2070c7867f0>"
      ]
     },
     "execution_count": 121,
     "metadata": {},
     "output_type": "execute_result"
    },
    {
     "data": {
      "image/png": "[encoded data removed]",
      "text/plain": [
       "<Figure size 432x288 with 1 Axes>"
      ]
     },
     "metadata": {
      "needs_background": "light"
     },
     "output_type": "display_data"
    }
   ],
   "source": [
    "sns.boxplot(x='STATUS',y='LOG_TDPQ',data=Rx1,hue='GENDER_CODE')"
   ]
  },
  {
   "cell_type": "code",
   "execution_count": 122,
   "metadata": {},
   "outputs": [
    {
     "data": {
      "text/plain": [
       "<matplotlib.axes._subplots.AxesSubplot at 0x2070c797cf8>"
      ]
     },
     "execution_count": 122,
     "metadata": {},
     "output_type": "execute_result"
    },
    {
     "data": {
      "image/png": "[encoded data removed]",
      "text/plain": [
       "<Figure size 432x288 with 1 Axes>"
      ]
     },
     "metadata": {
      "needs_background": "light"
     },
     "output_type": "display_data"
    }
   ],
   "source": [
    "sns.boxplot(x='STATUS',y='LOG_DRG_STRNGT',data=Rx1)"
   ]
  },
  {
   "cell_type": "code",
   "execution_count": 123,
   "metadata": {},
   "outputs": [
    {
     "data": {
      "text/plain": [
       "<matplotlib.axes._subplots.AxesSubplot at 0x2070c7dacf8>"
      ]
     },
     "execution_count": 123,
     "metadata": {},
     "output_type": "execute_result"
    },
    {
     "data": {
      "image/png": "[encoded data removed]",
      "text/plain": [
       "<Figure size 432x288 with 1 Axes>"
      ]
     },
     "metadata": {
      "needs_background": "light"
     },
     "output_type": "display_data"
    }
   ],
   "source": [
    "sns.boxplot(x='STATUS',y='LOG_DRG_STRNGT',data=Rx1,hue='GENDER_CODE')"
   ]
  },
  {
   "cell_type": "code",
   "execution_count": 128,
   "metadata": {},
   "outputs": [
    {
     "data": {
      "text/plain": [
       "<matplotlib.axes._subplots.AxesSubplot at 0x2070c8f75c0>"
      ]
     },
     "execution_count": 128,
     "metadata": {},
     "output_type": "execute_result"
    },
    {
     "data": {
      "image/png": "[encoded data removed]",
      "text/plain": [
       "<Figure size 432x288 with 1 Axes>"
      ]
     },
     "metadata": {
      "needs_background": "light"
     },
     "output_type": "display_data"
    }
   ],
   "source": [
    "sns.countplot(data=Rx1, x='GENDER_CODE', hue='STATUS')"
   ]
  },
  {
   "cell_type": "code",
   "execution_count": 135,
   "metadata": {},
   "outputs": [
    {
     "data": {
      "text/plain": [
       "<matplotlib.axes._subplots.AxesSubplot at 0x20799e1d160>"
      ]
     },
     "execution_count": 135,
     "metadata": {},
     "output_type": "execute_result"
    },
    {
     "data": {
      "image/png": "[encoded data removed]",
      "text/plain": [
       "<Figure size 432x288 with 1 Axes>"
      ]
     },
     "metadata": {
      "needs_background": "light"
     },
     "output_type": "display_data"
    }
   ],
   "source": [
    "sns.countplot(data=Rx1, y='PRIOR_AUTH_TYPE', hue='STATUS')"
   ]
  },
  {
   "cell_type": "code",
   "execution_count": 155,
   "metadata": {},
   "outputs": [
    {
     "data": {
      "text/plain": [
       "<matplotlib.axes._subplots.AxesSubplot at 0x2079d896eb8>"
      ]
     },
     "execution_count": 155,
     "metadata": {},
     "output_type": "execute_result"
    },
    {
     "data": {
      "image/png": "[encoded data removed]",
      "text/plain": [
       "<Figure size 432x288 with 1 Axes>"
      ]
     },
     "metadata": {
      "needs_background": "light"
     },
     "output_type": "display_data"
    }
   ],
   "source": [
    "sns.countplot(data=Rx1, x='HIGH_PRIORITY_FLAG', hue='STATUS')"
   ]
  },
  {
   "cell_type": "code",
   "execution_count": 157,
   "metadata": {},
   "outputs": [
    {
     "name": "stdout",
     "output_type": "stream",
     "text": [
      "HIGH_PRIORITY_FLAG  STATUS           \n",
      "N                   RESOLVED-APPROVED    239188\n",
      "                    RESOLVED-DENIED      172898\n",
      "Y                   RESOLVED-APPROVED     25571\n",
      "                    RESOLVED-DENIED       18734\n",
      "dtype: int64\n"
     ]
    }
   ],
   "source": [
    "print(Rx1.groupby(['HIGH_PRIORITY_FLAG','STATUS']).size())"
   ]
  },
  {
   "cell_type": "code",
   "execution_count": 131,
   "metadata": {},
   "outputs": [
    {
     "data": {
      "text/plain": [
       "<matplotlib.axes._subplots.AxesSubplot at 0x20799cf19b0>"
      ]
     },
     "execution_count": 131,
     "metadata": {},
     "output_type": "execute_result"
    },
    {
     "data": {
      "image/png": "[encoded data removed]",
      "text/plain": [
       "<Figure size 432x288 with 1 Axes>"
      ]
     },
     "metadata": {
      "needs_background": "light"
     },
     "output_type": "display_data"
    }
   ],
   "source": [
    "sns.countplot(data=Rx1, x='DRUG_STATUS_CODE', hue='STATUS')"
   ]
  },
  {
   "cell_type": "code",
   "execution_count": 136,
   "metadata": {},
   "outputs": [
    {
     "data": {
      "text/plain": [
       "<matplotlib.axes._subplots.AxesSubplot at 0x20799f66940>"
      ]
     },
     "execution_count": 136,
     "metadata": {},
     "output_type": "execute_result"
    },
    {
     "data": {
      "image/png": "[encoded data removed]",
      "text/plain": [
       "<Figure size 432x288 with 1 Axes>"
      ]
     },
     "metadata": {
      "needs_background": "light"
     },
     "output_type": "display_data"
    }
   ],
   "source": [
    "sns.countplot(data=Rx1, y='STATE_CODE', hue='STATUS')"
   ]
  },
  {
   "cell_type": "code",
   "execution_count": 133,
   "metadata": {
    "scrolled": true
   },
   "outputs": [
    {
     "data": {
      "text/plain": [
       "<matplotlib.axes._subplots.AxesSubplot at 0x20799dbf390>"
      ]
     },
     "execution_count": 133,
     "metadata": {},
     "output_type": "execute_result"
    },
    {
     "data": {
      "image/png": "[encoded data removed]",
      "text/plain": [
       "<Figure size 432x288 with 1 Axes>"
      ]
     },
     "metadata": {
      "needs_background": "light"
     },
     "output_type": "display_data"
    }
   ],
   "source": [
    "sns.countplot(data=Rx1, x='FORMULARY_STATUS', hue='STATUS')"
   ]
  },
  {
   "cell_type": "code",
   "execution_count": 144,
   "metadata": {},
   "outputs": [],
   "source": [
    "Rx1['LOG_AGE']=np.log(Rx1['Age']+1)"
   ]
  },
  {
   "cell_type": "code",
   "execution_count": 149,
   "metadata": {
    "scrolled": true
   },
   "outputs": [
    {
     "data": {
      "image/png": "[encoded data removed]",
      "text/plain": [
       "<Figure size 432x432 with 3 Axes>"
      ]
     },
     "metadata": {
      "needs_background": "light"
     },
     "output_type": "display_data"
    }
   ],
   "source": [
    "sns.jointplot('Age','LOG_TDPQ',Rx1)\n",
    "plt.show()"
   ]
  },
  {
   "cell_type": "code",
   "execution_count": 150,
   "metadata": {
    "scrolled": true
   },
   "outputs": [
    {
     "data": {
      "image/png": "[encoded data removed]",
      "text/plain": [
       "<Figure size 432x288 with 1 Axes>"
      ]
     },
     "metadata": {
      "needs_background": "light"
     },
     "output_type": "display_data"
    }
   ],
   "source": [
    "sns.scatterplot(x='Age',y='LOG_TDPQ',data=Rx1)\n",
    "plt.show()"
   ]
  },
  {
   "cell_type": "code",
   "execution_count": 151,
   "metadata": {},
   "outputs": [
    {
     "data": {
      "image/png": "[encoded data removed]",
      "text/plain": [
       "<Figure size 432x432 with 3 Axes>"
      ]
     },
     "metadata": {
      "needs_background": "light"
     },
     "output_type": "display_data"
    }
   ],
   "source": [
    "sns.jointplot('Age','LOG_DRG_STRNGT',Rx1)\n",
    "plt.show()"
   ]
  },
  {
   "cell_type": "code",
   "execution_count": 46,
   "metadata": {},
   "outputs": [],
   "source": [
    "from sklearn.feature_extraction.text import TfidfVectorizer as tfidfvect\n",
    "from sklearn.feature_extraction.text import CountVectorizer as countvect\n",
    "from sklearn.model_selection import train_test_split\n",
    "from sklearn import preprocessing\n",
    "from sklearn.ensemble import RandomForestClassifier\n",
    "from sklearn import metrics\n",
    "import pickle\n",
    "import re\n",
    "import scipy as scipy"
   ]
  },
  {
   "cell_type": "code",
   "execution_count": 47,
   "metadata": {},
   "outputs": [],
   "source": [
    "tfidf = tfidfvect(stop_words = 'english', lowercase = True,use_idf=True,max_features=500)\n",
    "tf = countvect(stop_words = 'english', lowercase=True,max_features=500)"
   ]
  },
  {
   "cell_type": "code",
   "execution_count": 48,
   "metadata": {},
   "outputs": [],
   "source": [
    "tfidf1 = tfidfvect(stop_words = 'english', lowercase = True,use_idf=True,max_features=300)\n",
    "tfidf2 = tfidfvect(stop_words = 'english', lowercase = True,use_idf=True,max_features=300)\n",
    "tfidf3 = tfidfvect(stop_words = 'english', lowercase = True,use_idf=True,max_features=300)"
   ]
  },
  {
   "cell_type": "code",
   "execution_count": 49,
   "metadata": {},
   "outputs": [],
   "source": [
    "def preprocess(x):\n",
    "    reg = re.compile(r\"\\W\")\n",
    "    x = re.sub(reg, \" \", x)\n",
    "    #x = ' '.join(e for e in x if e.isalnum())\n",
    "    return x"
   ]
  },
  {
   "cell_type": "code",
   "execution_count": 50,
   "metadata": {},
   "outputs": [],
   "source": [
    "Rx1[\"DIRECTIONS_FOR_USE\"] = Rx1.DIRECTIONS_FOR_USE.apply(lambda x: preprocess(x))\n",
    "Rx1[\"DIAGNOSIS_COMMENTS\"] = Rx1.DIAGNOSIS_COMMENTS.apply(lambda x: preprocess(x))\n",
    "Rx1[\"ICD_DESCRIPTION\"] = Rx1.ICD_DESCRIPTION.apply(lambda x: preprocess(x))"
   ]
  },
  {
   "cell_type": "code",
   "execution_count": 51,
   "metadata": {},
   "outputs": [],
   "source": [
    "dfu_df=pd.DataFrame(tfidf1.fit_transform(Rx1[\"DIRECTIONS_FOR_USE\"]).todense(),columns=tfidf1.get_feature_names())"
   ]
  },
  {
   "cell_type": "code",
   "execution_count": 52,
   "metadata": {},
   "outputs": [],
   "source": [
    "#dcm_df=pd.DataFrame(tfidf2.fit_transform(Rx1[\"DIAGNOSIS_COMMENTS\"]).todense(),columns=tfidf2.get_feature_names())"
   ]
  },
  {
   "cell_type": "code",
   "execution_count": 53,
   "metadata": {},
   "outputs": [],
   "source": [
    "#icddesc_df=pd.DataFrame(tfidf3.fit_transform(Rx1[\"ICD_DESCRIPTION\"]).todense(),columns=tfidf3.get_feature_names())"
   ]
  },
  {
   "cell_type": "code",
   "execution_count": 54,
   "metadata": {},
   "outputs": [
    {
     "name": "stdout",
     "output_type": "stream",
     "text": [
      "Direction of Use :  <class 'pandas.core.frame.DataFrame'>\n",
      "(489007, 300) \n",
      "\n"
     ]
    }
   ],
   "source": [
    "print(\"Direction of Use : \",type(dfu_df))\n",
    "print(dfu_df.shape,\"\\n\")\n",
    "\n",
    "#print(\"Diag Comments : \",type(dcm_df))\n",
    "#print(dcm_df.shape,\"\\n\")\n",
    "\n",
    "#print(\"ICD Description\",type(icddesc_df))\n",
    "#print(icddesc_df.shape)"
   ]
  },
  {
   "cell_type": "code",
   "execution_count": 55,
   "metadata": {
    "scrolled": true
   },
   "outputs": [
    {
     "name": "stdout",
     "output_type": "stream",
     "text": [
      "(489007, 300)\n",
      "(489007, 54)\n",
      "PRIOR_AUTH_NUM              object\n",
      "PRIOR_AUTH_TYPE           category\n",
      "STATUS                    category\n",
      "AUTO_DENIED_FLAG          category\n",
      "DRUG_LABEL_NAME           category\n",
      "CARRIER_ID                category\n",
      "ACCOUNT_ID                category\n",
      "EMPLOYER_GROUP_ID         category\n",
      "GENDER_CODE               category\n",
      "STATE_CODE                category\n",
      "DIRECTIONS_FOR_USE          object\n",
      "DIAGNOSIS_COMMENTS          object\n",
      "PLAN_CODE                 category\n",
      "BRAND_NAME                category\n",
      "HIGH_PRIORITY_FLAG        category\n",
      "FORMULARY_STATUS          category\n",
      "ICD_DESCRIPTION             object\n",
      "DRUG_STATUS_CODE          category\n",
      "DRUG_MANUFACTURER_NAME    category\n",
      "Age                        float64\n",
      "DRUG_UOM                  category\n",
      "LOG_TDPQ                   float64\n",
      "LOG_DRG_STRNGT             float64\n",
      "NO_OF_ICD                    int64\n",
      "CHF                        float64\n",
      "Valvular                   float64\n",
      "PHTN                       float64\n",
      "PVD                        float64\n",
      "HTN                        float64\n",
      "HTNcx                      float64\n",
      "Paralysis                  float64\n",
      "NeuroOther                 float64\n",
      "Pulmonary                  float64\n",
      "DM                         float64\n",
      "DMcx                       float64\n",
      "Hypothyroid                float64\n",
      "Renal                      float64\n",
      "Liver                      float64\n",
      "PUD                        float64\n",
      "HIV                        float64\n",
      "Lymphoma                   float64\n",
      "Mets                       float64\n",
      "Tumor                      float64\n",
      "Rheumatic                  float64\n",
      "Coagulopathy               float64\n",
      "Obesity                    float64\n",
      "WeightLoss                 float64\n",
      "FluidsLytes                float64\n",
      "BloodLoss                  float64\n",
      "Anemia                     float64\n",
      "Alcohol                    float64\n",
      "Drugs                      float64\n",
      "Psychoses                  float64\n",
      "Depression                 float64\n",
      "dtype: object\n"
     ]
    }
   ],
   "source": [
    "print(dfu_df.shape)\n",
    "print(Rx1.shape)\n",
    "print(Rx1.dtypes)"
   ]
  },
  {
   "cell_type": "markdown",
   "metadata": {},
   "source": [
    "#Adding Direction of use and Diagnosis comments to final dataset and excluding icd description as we already have comorbidity matrix"
   ]
  },
  {
   "cell_type": "code",
   "execution_count": 56,
   "metadata": {
    "scrolled": true
   },
   "outputs": [],
   "source": [
    "#Rx1=pd.concat([Rx1,dfu_df,dcm_df], axis=1)\n",
    "Rx1=pd.concat([Rx1,dfu_df], axis=1)"
   ]
  },
  {
   "cell_type": "code",
   "execution_count": 57,
   "metadata": {},
   "outputs": [
    {
     "name": "stdout",
     "output_type": "stream",
     "text": [
      "PRIOR_AUTH_NUM              object\n",
      "PRIOR_AUTH_TYPE           category\n",
      "STATUS                    category\n",
      "AUTO_DENIED_FLAG          category\n",
      "DRUG_LABEL_NAME           category\n",
      "CARRIER_ID                category\n",
      "ACCOUNT_ID                category\n",
      "EMPLOYER_GROUP_ID         category\n",
      "GENDER_CODE               category\n",
      "STATE_CODE                category\n",
      "DIRECTIONS_FOR_USE          object\n",
      "DIAGNOSIS_COMMENTS          object\n",
      "PLAN_CODE                 category\n",
      "BRAND_NAME                category\n",
      "HIGH_PRIORITY_FLAG        category\n",
      "FORMULARY_STATUS          category\n",
      "ICD_DESCRIPTION             object\n",
      "DRUG_STATUS_CODE          category\n",
      "DRUG_MANUFACTURER_NAME    category\n",
      "Age                        float64\n",
      "DRUG_UOM                  category\n",
      "LOG_TDPQ                   float64\n",
      "LOG_DRG_STRNGT             float64\n",
      "NO_OF_ICD                    int64\n",
      "CHF                        float64\n",
      "Valvular                   float64\n",
      "PHTN                       float64\n",
      "PVD                        float64\n",
      "HTN                        float64\n",
      "HTNcx                      float64\n",
      "                            ...   \n",
      "tabs                       float64\n",
      "test                       float64\n",
      "thigh                      float64\n",
      "thirty                     float64\n",
      "thrice                     float64\n",
      "tid                        float64\n",
      "time                       float64\n",
      "times                      float64\n",
      "tongue                     float64\n",
      "topical                    float64\n",
      "topically                  float64\n",
      "total                      float64\n",
      "transdermal                float64\n",
      "transdermally              float64\n",
      "tube                       float64\n",
      "twice                      float64\n",
      "uad                        float64\n",
      "ud                         float64\n",
      "unit                       float64\n",
      "units                      float64\n",
      "upper                      float64\n",
      "use                        float64\n",
      "vaginally                  float64\n",
      "vial                       float64\n",
      "water                      float64\n",
      "wear                       float64\n",
      "week                       float64\n",
      "weekly                     float64\n",
      "weeks                      float64\n",
      "wheezing                   float64\n",
      "Length: 354, dtype: object\n"
     ]
    }
   ],
   "source": [
    "print(Rx1.dtypes)"
   ]
  },
  {
   "cell_type": "code",
   "execution_count": 58,
   "metadata": {},
   "outputs": [],
   "source": [
    "Rx1.drop(['DIRECTIONS_FOR_USE','DIAGNOSIS_COMMENTS','ICD_DESCRIPTION','PRIOR_AUTH_NUM','CARRIER_ID','ACCOUNT_ID','EMPLOYER_GROUP_ID','PLAN_CODE'],axis=1,inplace=True)"
   ]
  },
  {
   "cell_type": "code",
   "execution_count": 125,
   "metadata": {},
   "outputs": [],
   "source": [
    "#Rx1.head()\n",
    "\n",
    "Rx1.to_csv('C:\\\\Users\\\\pdubhasi\\\\Documents\\\\UHG\\\\Rx prior Auth\\\\To_EDA_Rx_Fianl.csv')"
   ]
  },
  {
   "cell_type": "code",
   "execution_count": null,
   "metadata": {},
   "outputs": [],
   "source": []
  },
  {
   "cell_type": "code",
   "execution_count": 60,
   "metadata": {
    "scrolled": false
   },
   "outputs": [],
   "source": [
    "Rx2=pd.get_dummies(Rx1,columns=['PRIOR_AUTH_TYPE','STATUS','GENDER_CODE','STATE_CODE',\n",
    "                                'DRUG_LABEL_NAME','BRAND_NAME','HIGH_PRIORITY_FLAG',\n",
    "                                'FORMULARY_STATUS','DRUG_STATUS_CODE','DRUG_MANUFACTURER_NAME','DRUG_UOM'])"
   ]
  },
  {
   "cell_type": "code",
   "execution_count": 65,
   "metadata": {},
   "outputs": [
    {
     "name": "stdout",
     "output_type": "stream",
     "text": [
      "  AUTO_DENIED_FLAG   Age  LOG_TDPQ  LOG_DRG_STRNGT  NO_OF_ICD  CHF  Valvular  \\\n",
      "0                N  73.0  4.615121        2.397895          1  0.0       0.0   \n",
      "1                N  68.0  4.510860        3.433987          2  0.0       0.0   \n",
      "2                N  73.0  2.397895        2.397895          1  0.0       0.0   \n",
      "3                N  69.0  0.693147        2.240710          2  0.0       0.0   \n",
      "4                N  49.0  4.615121        1.386294          2  0.0       0.0   \n",
      "\n",
      "   PHTN  PVD  HTN  ...  DRUG_UOM_UNIT/4ML  DRUG_UOM_UNIT/ACT  \\\n",
      "0   0.0  0.0  0.0  ...                  0                  0   \n",
      "1   0.0  0.0  0.0  ...                  0                  0   \n",
      "2   0.0  0.0  0.0  ...                  0                  0   \n",
      "3   0.0  0.0  0.0  ...                  0                  0   \n",
      "4   0.0  0.0  0.0  ...                  0                  0   \n",
      "\n",
      "   DRUG_UOM_UNIT/GM  DRUG_UOM_UNIT/ML  DRUG_UOM_UNT/0.36ML  \\\n",
      "0                 0                 0                    0   \n",
      "1                 0                 0                    0   \n",
      "2                 0                 0                    0   \n",
      "3                 0                 0                    0   \n",
      "4                 0                 0                    0   \n",
      "\n",
      "   DRUG_UOM_UNT/0.65ML  DRUG_UOM_UNT/0.72ML  DRUG_UOM_UNT/0.75ML  \\\n",
      "0                    0                    0                    0   \n",
      "1                    0                    0                    0   \n",
      "2                    0                    0                    0   \n",
      "3                    0                    0                    0   \n",
      "4                    0                    0                    0   \n",
      "\n",
      "   DRUG_UOM_UNT/1.08ML  DRUG_UOM_NA  \n",
      "0                    0            0  \n",
      "1                    0            0  \n",
      "2                    0            0  \n",
      "3                    0            0  \n",
      "4                    0            0  \n",
      "\n",
      "[5 rows x 13137 columns]\n",
      "AUTO_DENIED_FLAG       category\n",
      "Age                     float64\n",
      "LOG_TDPQ                float64\n",
      "LOG_DRG_STRNGT          float64\n",
      "NO_OF_ICD                 int64\n",
      "CHF                     float64\n",
      "Valvular                float64\n",
      "PHTN                    float64\n",
      "PVD                     float64\n",
      "HTN                     float64\n",
      "HTNcx                   float64\n",
      "Paralysis               float64\n",
      "NeuroOther              float64\n",
      "Pulmonary               float64\n",
      "DM                      float64\n",
      "DMcx                    float64\n",
      "Hypothyroid             float64\n",
      "Renal                   float64\n",
      "Liver                   float64\n",
      "PUD                     float64\n",
      "HIV                     float64\n",
      "Lymphoma                float64\n",
      "Mets                    float64\n",
      "Tumor                   float64\n",
      "Rheumatic               float64\n",
      "Coagulopathy            float64\n",
      "Obesity                 float64\n",
      "WeightLoss              float64\n",
      "FluidsLytes             float64\n",
      "BloodLoss               float64\n",
      "                         ...   \n",
      "DRUG_UOM_MG/75ML          uint8\n",
      "DRUG_UOM_MG/9HR           uint8\n",
      "DRUG_UOM_MG/ACT           uint8\n",
      "DRUG_UOM_MG/GM            uint8\n",
      "DRUG_UOM_MG/HR            uint8\n",
      "DRUG_UOM_MG/ML            uint8\n",
      "DRUG_UOM_MG/NOSEPC        uint8\n",
      "DRUG_UOM_MG/SPRAY         uint8\n",
      "DRUG_UOM_MU               uint8\n",
      "DRUG_UOM_MU/ML            uint8\n",
      "DRUG_UOM_PFU/0.5ML        uint8\n",
      "DRUG_UOM_UNIT             uint8\n",
      "DRUG_UOM_UNIT/0.1ML       uint8\n",
      "DRUG_UOM_UNIT/0.2ML       uint8\n",
      "DRUG_UOM_UNIT/0.3ML       uint8\n",
      "DRUG_UOM_UNIT/0.5ML       uint8\n",
      "DRUG_UOM_UNIT/0.6ML       uint8\n",
      "DRUG_UOM_UNIT/1.2ML       uint8\n",
      "DRUG_UOM_UNIT/1.5ML       uint8\n",
      "DRUG_UOM_UNIT/2ML         uint8\n",
      "DRUG_UOM_UNIT/4ML         uint8\n",
      "DRUG_UOM_UNIT/ACT         uint8\n",
      "DRUG_UOM_UNIT/GM          uint8\n",
      "DRUG_UOM_UNIT/ML          uint8\n",
      "DRUG_UOM_UNT/0.36ML       uint8\n",
      "DRUG_UOM_UNT/0.65ML       uint8\n",
      "DRUG_UOM_UNT/0.72ML       uint8\n",
      "DRUG_UOM_UNT/0.75ML       uint8\n",
      "DRUG_UOM_UNT/1.08ML       uint8\n",
      "DRUG_UOM_NA               uint8\n",
      "Length: 13137, dtype: object\n",
      "(489007, 13137)\n"
     ]
    }
   ],
   "source": [
    "print(Rx2.head())\n",
    "print(Rx2.dtypes)\n",
    "print(Rx2.shape)"
   ]
  },
  {
   "cell_type": "code",
   "execution_count": 66,
   "metadata": {},
   "outputs": [],
   "source": [
    "Rx2.to_csv('C:\\\\Users\\\\pdubhasi\\\\Documents\\\\UHG\\\\Rx prior Auth\\\\Model_ready_Rx_PA.csv')"
   ]
  },
  {
   "cell_type": "code",
   "execution_count": 62,
   "metadata": {},
   "outputs": [],
   "source": [
    "from sklearn.model_selection import train_test_split\n",
    "from sklearn.metrics import accuracy_score, confusion_matrix, classification_report\n",
    "from sklearn.metrics import precision_recall_curve,roc_curve,roc_auc_score,log_loss\n",
    "from sklearn.metrics import mean_absolute_error,mean_squared_error,r2_score\n",
    "\n",
    "import matplotlib.pyplot as plt\n",
    "%matplotlib inline\n",
    "plt.rc(\"font\", size=14)\n",
    "import seaborn as sns"
   ]
  },
  {
   "cell_type": "code",
   "execution_count": 63,
   "metadata": {
    "scrolled": true
   },
   "outputs": [],
   "source": [
    "data_train, data_test, class_train, class_test = train_test_split(Rx2, Rx2['AUTO_DENIED_FLAG'], test_size=0.3, random_state=10)"
   ]
  },
  {
   "cell_type": "code",
   "execution_count": 64,
   "metadata": {},
   "outputs": [
    {
     "ename": "MemoryError",
     "evalue": "",
     "output_type": "error",
     "traceback": [
      "\u001b[1;31m---------------------------------------------------------------------------\u001b[0m",
      "\u001b[1;31mMemoryError\u001b[0m                               Traceback (most recent call last)",
      "\u001b[1;32m<ipython-input-64-3bb475643a75>\u001b[0m in \u001b[0;36m<module>\u001b[1;34m\u001b[0m\n\u001b[0;32m      1\u001b[0m \u001b[0mrf\u001b[0m \u001b[1;33m=\u001b[0m \u001b[0mRandomForestClassifier\u001b[0m\u001b[1;33m(\u001b[0m\u001b[0mn_estimators\u001b[0m\u001b[1;33m=\u001b[0m\u001b[1;36m100\u001b[0m\u001b[1;33m)\u001b[0m\u001b[1;33m\u001b[0m\u001b[1;33m\u001b[0m\u001b[0m\n\u001b[0;32m      2\u001b[0m \u001b[1;33m\u001b[0m\u001b[0m\n\u001b[1;32m----> 3\u001b[1;33m \u001b[0mrf\u001b[0m\u001b[1;33m.\u001b[0m\u001b[0mfit\u001b[0m\u001b[1;33m(\u001b[0m\u001b[0mdata_train\u001b[0m\u001b[1;33m,\u001b[0m \u001b[0mclass_train\u001b[0m\u001b[1;33m)\u001b[0m\u001b[1;33m\u001b[0m\u001b[1;33m\u001b[0m\u001b[0m\n\u001b[0m",
      "\u001b[1;32m~\\AppData\\Local\\Continuum\\anaconda3\\lib\\site-packages\\sklearn\\ensemble\\forest.py\u001b[0m in \u001b[0;36mfit\u001b[1;34m(self, X, y, sample_weight)\u001b[0m\n\u001b[0;32m    247\u001b[0m \u001b[1;33m\u001b[0m\u001b[0m\n\u001b[0;32m    248\u001b[0m         \u001b[1;31m# Validate or convert input data\u001b[0m\u001b[1;33m\u001b[0m\u001b[1;33m\u001b[0m\u001b[1;33m\u001b[0m\u001b[0m\n\u001b[1;32m--> 249\u001b[1;33m         \u001b[0mX\u001b[0m \u001b[1;33m=\u001b[0m \u001b[0mcheck_array\u001b[0m\u001b[1;33m(\u001b[0m\u001b[0mX\u001b[0m\u001b[1;33m,\u001b[0m \u001b[0maccept_sparse\u001b[0m\u001b[1;33m=\u001b[0m\u001b[1;34m\"csc\"\u001b[0m\u001b[1;33m,\u001b[0m \u001b[0mdtype\u001b[0m\u001b[1;33m=\u001b[0m\u001b[0mDTYPE\u001b[0m\u001b[1;33m)\u001b[0m\u001b[1;33m\u001b[0m\u001b[1;33m\u001b[0m\u001b[0m\n\u001b[0m\u001b[0;32m    250\u001b[0m         \u001b[0my\u001b[0m \u001b[1;33m=\u001b[0m \u001b[0mcheck_array\u001b[0m\u001b[1;33m(\u001b[0m\u001b[0my\u001b[0m\u001b[1;33m,\u001b[0m \u001b[0maccept_sparse\u001b[0m\u001b[1;33m=\u001b[0m\u001b[1;34m'csc'\u001b[0m\u001b[1;33m,\u001b[0m \u001b[0mensure_2d\u001b[0m\u001b[1;33m=\u001b[0m\u001b[1;32mFalse\u001b[0m\u001b[1;33m,\u001b[0m \u001b[0mdtype\u001b[0m\u001b[1;33m=\u001b[0m\u001b[1;32mNone\u001b[0m\u001b[1;33m)\u001b[0m\u001b[1;33m\u001b[0m\u001b[1;33m\u001b[0m\u001b[0m\n\u001b[0;32m    251\u001b[0m         \u001b[1;32mif\u001b[0m \u001b[0msample_weight\u001b[0m \u001b[1;32mis\u001b[0m \u001b[1;32mnot\u001b[0m \u001b[1;32mNone\u001b[0m\u001b[1;33m:\u001b[0m\u001b[1;33m\u001b[0m\u001b[1;33m\u001b[0m\u001b[0m\n",
      "\u001b[1;32m~\\AppData\\Local\\Continuum\\anaconda3\\lib\\site-packages\\sklearn\\utils\\validation.py\u001b[0m in \u001b[0;36mcheck_array\u001b[1;34m(array, accept_sparse, accept_large_sparse, dtype, order, copy, force_all_finite, ensure_2d, allow_nd, ensure_min_samples, ensure_min_features, warn_on_dtype, estimator)\u001b[0m\n\u001b[0;32m    494\u001b[0m             \u001b[1;32mtry\u001b[0m\u001b[1;33m:\u001b[0m\u001b[1;33m\u001b[0m\u001b[1;33m\u001b[0m\u001b[0m\n\u001b[0;32m    495\u001b[0m                 \u001b[0mwarnings\u001b[0m\u001b[1;33m.\u001b[0m\u001b[0msimplefilter\u001b[0m\u001b[1;33m(\u001b[0m\u001b[1;34m'error'\u001b[0m\u001b[1;33m,\u001b[0m \u001b[0mComplexWarning\u001b[0m\u001b[1;33m)\u001b[0m\u001b[1;33m\u001b[0m\u001b[1;33m\u001b[0m\u001b[0m\n\u001b[1;32m--> 496\u001b[1;33m                 \u001b[0marray\u001b[0m \u001b[1;33m=\u001b[0m \u001b[0mnp\u001b[0m\u001b[1;33m.\u001b[0m\u001b[0masarray\u001b[0m\u001b[1;33m(\u001b[0m\u001b[0marray\u001b[0m\u001b[1;33m,\u001b[0m \u001b[0mdtype\u001b[0m\u001b[1;33m=\u001b[0m\u001b[0mdtype\u001b[0m\u001b[1;33m,\u001b[0m \u001b[0morder\u001b[0m\u001b[1;33m=\u001b[0m\u001b[0morder\u001b[0m\u001b[1;33m)\u001b[0m\u001b[1;33m\u001b[0m\u001b[1;33m\u001b[0m\u001b[0m\n\u001b[0m\u001b[0;32m    497\u001b[0m             \u001b[1;32mexcept\u001b[0m \u001b[0mComplexWarning\u001b[0m\u001b[1;33m:\u001b[0m\u001b[1;33m\u001b[0m\u001b[1;33m\u001b[0m\u001b[0m\n\u001b[0;32m    498\u001b[0m                 raise ValueError(\"Complex data not supported\\n\"\n",
      "\u001b[1;32m~\\AppData\\Local\\Continuum\\anaconda3\\lib\\site-packages\\numpy\\core\\numeric.py\u001b[0m in \u001b[0;36masarray\u001b[1;34m(a, dtype, order)\u001b[0m\n\u001b[0;32m    536\u001b[0m \u001b[1;33m\u001b[0m\u001b[0m\n\u001b[0;32m    537\u001b[0m     \"\"\"\n\u001b[1;32m--> 538\u001b[1;33m     \u001b[1;32mreturn\u001b[0m \u001b[0marray\u001b[0m\u001b[1;33m(\u001b[0m\u001b[0ma\u001b[0m\u001b[1;33m,\u001b[0m \u001b[0mdtype\u001b[0m\u001b[1;33m,\u001b[0m \u001b[0mcopy\u001b[0m\u001b[1;33m=\u001b[0m\u001b[1;32mFalse\u001b[0m\u001b[1;33m,\u001b[0m \u001b[0morder\u001b[0m\u001b[1;33m=\u001b[0m\u001b[0morder\u001b[0m\u001b[1;33m)\u001b[0m\u001b[1;33m\u001b[0m\u001b[1;33m\u001b[0m\u001b[0m\n\u001b[0m\u001b[0;32m    539\u001b[0m \u001b[1;33m\u001b[0m\u001b[0m\n\u001b[0;32m    540\u001b[0m \u001b[1;33m\u001b[0m\u001b[0m\n",
      "\u001b[1;32m~\\AppData\\Local\\Continuum\\anaconda3\\lib\\site-packages\\pandas\\core\\generic.py\u001b[0m in \u001b[0;36m__array__\u001b[1;34m(self, dtype)\u001b[0m\n\u001b[0;32m   1903\u001b[0m \u001b[1;33m\u001b[0m\u001b[0m\n\u001b[0;32m   1904\u001b[0m     \u001b[1;32mdef\u001b[0m \u001b[0m__array__\u001b[0m\u001b[1;33m(\u001b[0m\u001b[0mself\u001b[0m\u001b[1;33m,\u001b[0m \u001b[0mdtype\u001b[0m\u001b[1;33m=\u001b[0m\u001b[1;32mNone\u001b[0m\u001b[1;33m)\u001b[0m\u001b[1;33m:\u001b[0m\u001b[1;33m\u001b[0m\u001b[1;33m\u001b[0m\u001b[0m\n\u001b[1;32m-> 1905\u001b[1;33m         \u001b[1;32mreturn\u001b[0m \u001b[0mcom\u001b[0m\u001b[1;33m.\u001b[0m\u001b[0mvalues_from_object\u001b[0m\u001b[1;33m(\u001b[0m\u001b[0mself\u001b[0m\u001b[1;33m)\u001b[0m\u001b[1;33m\u001b[0m\u001b[1;33m\u001b[0m\u001b[0m\n\u001b[0m\u001b[0;32m   1906\u001b[0m \u001b[1;33m\u001b[0m\u001b[0m\n\u001b[0;32m   1907\u001b[0m     \u001b[1;32mdef\u001b[0m \u001b[0m__array_wrap__\u001b[0m\u001b[1;33m(\u001b[0m\u001b[0mself\u001b[0m\u001b[1;33m,\u001b[0m \u001b[0mresult\u001b[0m\u001b[1;33m,\u001b[0m \u001b[0mcontext\u001b[0m\u001b[1;33m=\u001b[0m\u001b[1;32mNone\u001b[0m\u001b[1;33m)\u001b[0m\u001b[1;33m:\u001b[0m\u001b[1;33m\u001b[0m\u001b[1;33m\u001b[0m\u001b[0m\n",
      "\u001b[1;32mpandas/_libs/lib.pyx\u001b[0m in \u001b[0;36mpandas._libs.lib.values_from_object\u001b[1;34m()\u001b[0m\n",
      "\u001b[1;32m~\\AppData\\Local\\Continuum\\anaconda3\\lib\\site-packages\\pandas\\core\\generic.py\u001b[0m in \u001b[0;36mget_values\u001b[1;34m(self)\u001b[0m\n\u001b[0;32m   5378\u001b[0m                [nan,  3.]])\n\u001b[0;32m   5379\u001b[0m         \"\"\"\n\u001b[1;32m-> 5380\u001b[1;33m         \u001b[1;32mreturn\u001b[0m \u001b[0mself\u001b[0m\u001b[1;33m.\u001b[0m\u001b[0mvalues\u001b[0m\u001b[1;33m\u001b[0m\u001b[1;33m\u001b[0m\u001b[0m\n\u001b[0m\u001b[0;32m   5381\u001b[0m \u001b[1;33m\u001b[0m\u001b[0m\n\u001b[0;32m   5382\u001b[0m     \u001b[1;32mdef\u001b[0m \u001b[0mget_dtype_counts\u001b[0m\u001b[1;33m(\u001b[0m\u001b[0mself\u001b[0m\u001b[1;33m)\u001b[0m\u001b[1;33m:\u001b[0m\u001b[1;33m\u001b[0m\u001b[1;33m\u001b[0m\u001b[0m\n",
      "\u001b[1;32m~\\AppData\\Local\\Continuum\\anaconda3\\lib\\site-packages\\pandas\\core\\generic.py\u001b[0m in \u001b[0;36mvalues\u001b[1;34m(self)\u001b[0m\n\u001b[0;32m   5323\u001b[0m         \"\"\"\n\u001b[0;32m   5324\u001b[0m         \u001b[0mself\u001b[0m\u001b[1;33m.\u001b[0m\u001b[0m_consolidate_inplace\u001b[0m\u001b[1;33m(\u001b[0m\u001b[1;33m)\u001b[0m\u001b[1;33m\u001b[0m\u001b[1;33m\u001b[0m\u001b[0m\n\u001b[1;32m-> 5325\u001b[1;33m         \u001b[1;32mreturn\u001b[0m \u001b[0mself\u001b[0m\u001b[1;33m.\u001b[0m\u001b[0m_data\u001b[0m\u001b[1;33m.\u001b[0m\u001b[0mas_array\u001b[0m\u001b[1;33m(\u001b[0m\u001b[0mtranspose\u001b[0m\u001b[1;33m=\u001b[0m\u001b[0mself\u001b[0m\u001b[1;33m.\u001b[0m\u001b[0m_AXIS_REVERSED\u001b[0m\u001b[1;33m)\u001b[0m\u001b[1;33m\u001b[0m\u001b[1;33m\u001b[0m\u001b[0m\n\u001b[0m\u001b[0;32m   5326\u001b[0m \u001b[1;33m\u001b[0m\u001b[0m\n\u001b[0;32m   5327\u001b[0m     \u001b[1;33m@\u001b[0m\u001b[0mproperty\u001b[0m\u001b[1;33m\u001b[0m\u001b[1;33m\u001b[0m\u001b[0m\n",
      "\u001b[1;32m~\\AppData\\Local\\Continuum\\anaconda3\\lib\\site-packages\\pandas\\core\\internals\\managers.py\u001b[0m in \u001b[0;36mas_array\u001b[1;34m(self, transpose, items)\u001b[0m\n\u001b[0;32m    766\u001b[0m             \u001b[0marr\u001b[0m \u001b[1;33m=\u001b[0m \u001b[0mnp\u001b[0m\u001b[1;33m.\u001b[0m\u001b[0masarray\u001b[0m\u001b[1;33m(\u001b[0m\u001b[0mmgr\u001b[0m\u001b[1;33m.\u001b[0m\u001b[0mblocks\u001b[0m\u001b[1;33m[\u001b[0m\u001b[1;36m0\u001b[0m\u001b[1;33m]\u001b[0m\u001b[1;33m.\u001b[0m\u001b[0mget_values\u001b[0m\u001b[1;33m(\u001b[0m\u001b[1;33m)\u001b[0m\u001b[1;33m)\u001b[0m\u001b[1;33m\u001b[0m\u001b[1;33m\u001b[0m\u001b[0m\n\u001b[0;32m    767\u001b[0m         \u001b[1;32melse\u001b[0m\u001b[1;33m:\u001b[0m\u001b[1;33m\u001b[0m\u001b[1;33m\u001b[0m\u001b[0m\n\u001b[1;32m--> 768\u001b[1;33m             \u001b[0marr\u001b[0m \u001b[1;33m=\u001b[0m \u001b[0mmgr\u001b[0m\u001b[1;33m.\u001b[0m\u001b[0m_interleave\u001b[0m\u001b[1;33m(\u001b[0m\u001b[1;33m)\u001b[0m\u001b[1;33m\u001b[0m\u001b[1;33m\u001b[0m\u001b[0m\n\u001b[0m\u001b[0;32m    769\u001b[0m \u001b[1;33m\u001b[0m\u001b[0m\n\u001b[0;32m    770\u001b[0m         \u001b[1;32mreturn\u001b[0m \u001b[0marr\u001b[0m\u001b[1;33m.\u001b[0m\u001b[0mtranspose\u001b[0m\u001b[1;33m(\u001b[0m\u001b[1;33m)\u001b[0m \u001b[1;32mif\u001b[0m \u001b[0mtranspose\u001b[0m \u001b[1;32melse\u001b[0m \u001b[0marr\u001b[0m\u001b[1;33m\u001b[0m\u001b[1;33m\u001b[0m\u001b[0m\n",
      "\u001b[1;32m~\\AppData\\Local\\Continuum\\anaconda3\\lib\\site-packages\\pandas\\core\\internals\\managers.py\u001b[0m in \u001b[0;36m_interleave\u001b[1;34m(self)\u001b[0m\n\u001b[0;32m    791\u001b[0m         \u001b[1;32mfor\u001b[0m \u001b[0mblk\u001b[0m \u001b[1;32min\u001b[0m \u001b[0mself\u001b[0m\u001b[1;33m.\u001b[0m\u001b[0mblocks\u001b[0m\u001b[1;33m:\u001b[0m\u001b[1;33m\u001b[0m\u001b[1;33m\u001b[0m\u001b[0m\n\u001b[0;32m    792\u001b[0m             \u001b[0mrl\u001b[0m \u001b[1;33m=\u001b[0m \u001b[0mblk\u001b[0m\u001b[1;33m.\u001b[0m\u001b[0mmgr_locs\u001b[0m\u001b[1;33m\u001b[0m\u001b[1;33m\u001b[0m\u001b[0m\n\u001b[1;32m--> 793\u001b[1;33m             \u001b[0mresult\u001b[0m\u001b[1;33m[\u001b[0m\u001b[0mrl\u001b[0m\u001b[1;33m.\u001b[0m\u001b[0mindexer\u001b[0m\u001b[1;33m]\u001b[0m \u001b[1;33m=\u001b[0m \u001b[0mblk\u001b[0m\u001b[1;33m.\u001b[0m\u001b[0mget_values\u001b[0m\u001b[1;33m(\u001b[0m\u001b[0mdtype\u001b[0m\u001b[1;33m)\u001b[0m\u001b[1;33m\u001b[0m\u001b[1;33m\u001b[0m\u001b[0m\n\u001b[0m\u001b[0;32m    794\u001b[0m             \u001b[0mitemmask\u001b[0m\u001b[1;33m[\u001b[0m\u001b[0mrl\u001b[0m\u001b[1;33m.\u001b[0m\u001b[0mindexer\u001b[0m\u001b[1;33m]\u001b[0m \u001b[1;33m=\u001b[0m \u001b[1;36m1\u001b[0m\u001b[1;33m\u001b[0m\u001b[1;33m\u001b[0m\u001b[0m\n\u001b[0;32m    795\u001b[0m \u001b[1;33m\u001b[0m\u001b[0m\n",
      "\u001b[1;32m~\\AppData\\Local\\Continuum\\anaconda3\\lib\\site-packages\\pandas\\core\\internals\\blocks.py\u001b[0m in \u001b[0;36mget_values\u001b[1;34m(self, dtype)\u001b[0m\n\u001b[0;32m    179\u001b[0m         \"\"\"\n\u001b[0;32m    180\u001b[0m         \u001b[1;32mif\u001b[0m \u001b[0mis_object_dtype\u001b[0m\u001b[1;33m(\u001b[0m\u001b[0mdtype\u001b[0m\u001b[1;33m)\u001b[0m\u001b[1;33m:\u001b[0m\u001b[1;33m\u001b[0m\u001b[1;33m\u001b[0m\u001b[0m\n\u001b[1;32m--> 181\u001b[1;33m             \u001b[1;32mreturn\u001b[0m \u001b[0mself\u001b[0m\u001b[1;33m.\u001b[0m\u001b[0mvalues\u001b[0m\u001b[1;33m.\u001b[0m\u001b[0mastype\u001b[0m\u001b[1;33m(\u001b[0m\u001b[0mobject\u001b[0m\u001b[1;33m)\u001b[0m\u001b[1;33m\u001b[0m\u001b[1;33m\u001b[0m\u001b[0m\n\u001b[0m\u001b[0;32m    182\u001b[0m         \u001b[1;32mreturn\u001b[0m \u001b[0mself\u001b[0m\u001b[1;33m.\u001b[0m\u001b[0mvalues\u001b[0m\u001b[1;33m\u001b[0m\u001b[1;33m\u001b[0m\u001b[0m\n\u001b[0;32m    183\u001b[0m \u001b[1;33m\u001b[0m\u001b[0m\n",
      "\u001b[1;31mMemoryError\u001b[0m: "
     ]
    }
   ],
   "source": [
    "rf = RandomForestClassifier(n_estimators=100)\n",
    "\n",
    "rf.fit(data_train, class_train)"
   ]
  },
  {
   "cell_type": "code",
   "execution_count": null,
   "metadata": {},
   "outputs": [],
   "source": [
    "y_test_pred = rf.predict(data_test)\n",
    "\n",
    "tr_acc = accuracy_score(rf.predict(data_train), class_train)\n",
    "te_acc = accuracy_score(y_test_pred, class_test)\n",
    "\n",
    "print('Train Accuracy: \\t{:.3f} %\\nValidation Accuracy: \\t{:.3f} %'.format(tr_acc*100, te_acc*100))"
   ]
  },
  {
   "cell_type": "code",
   "execution_count": null,
   "metadata": {},
   "outputs": [],
   "source": [
    "#Confusion Matrix\n",
    "\n",
    "data = {'y_predicted': y_test_pred.tolist(),\n",
    "        'y_actual':    class_test\n",
    "        }\n",
    "\n",
    "df = pd.DataFrame(data, columns=['y_actual','y_predicted'])\n",
    "confusion_matrix_df = pd.crosstab(df['y_actual'], df['y_predicted'], rownames=['Actual'], colnames=['Predicted'])\n",
    "\n",
    "sns.heatmap(confusion_matrix_df, annot=True,fmt='.4g')\n",
    "plt.show()"
   ]
  },
  {
   "cell_type": "code",
   "execution_count": null,
   "metadata": {},
   "outputs": [],
   "source": [
    "# Precision, recall and f1 score\n",
    "\n",
    "print(classification_report(class_test,y_test_pred))"
   ]
  },
  {
   "cell_type": "code",
   "execution_count": null,
   "metadata": {},
   "outputs": [],
   "source": [
    "#ROC Curve\n",
    "\n",
    "y_test_pred_prob = rf.predict_proba(data_test)[:, 1]\n",
    "fpr, tpr, _ = roc_curve(class_test, y_test_pred_prob)\n",
    "\n",
    "plt.plot([0, 1], [0, 1], 'k--')\n",
    "plt.plot(fpr, tpr, label='Random Forest')\n",
    "plt.fill_between(fpr,tpr,alpha=0.3)\n",
    "plt.xlabel('False positive rate')\n",
    "plt.ylabel('True positive rate')\n",
    "#plt.title('ROC curve :: AUC={}'.format(round(roc_auc_score(y_test,lg.predict_proba(X_test)[:,1]),2)))\n",
    "#plt.legend(loc='best')\n",
    "plt.show()"
   ]
  },
  {
   "cell_type": "code",
   "execution_count": null,
   "metadata": {},
   "outputs": [],
   "source": [
    "from numpy import loadtxt\n",
    "from xgboost import XGBClassifier\n",
    "from sklearn.model_selection import train_test_split\n",
    "from sklearn.metrics import accuracy_score"
   ]
  },
  {
   "cell_type": "code",
   "execution_count": null,
   "metadata": {},
   "outputs": [],
   "source": [
    "XGB = XGBClassifier()\n",
    "XGB.fit(data_train, class_train)\n",
    "print(XGB)"
   ]
  },
  {
   "cell_type": "code",
   "execution_count": null,
   "metadata": {},
   "outputs": [],
   "source": [
    "# make predictions for test data\n",
    "y_pred_xgb = XGB.predict(data_test)\n",
    "xgb_predictions = [round(value) for value in y_pred_xgb]"
   ]
  },
  {
   "cell_type": "code",
   "execution_count": null,
   "metadata": {},
   "outputs": [],
   "source": [
    "#evaluate predictions\n",
    "xgb_accuracy = accuracy_score(class_test, xgb_predictions)\n",
    "print(\"Accuracy: %.2f%%\" % (xgb_accuracy * 100.0))"
   ]
  },
  {
   "cell_type": "code",
   "execution_count": null,
   "metadata": {},
   "outputs": [],
   "source": [
    "#Confusion Matrix for XGBoost\n",
    "\n",
    "xgb_data = {'y_predicted': xgb_predictions.tolist(),\n",
    "        'y_actual':    class_test\n",
    "        }\n",
    "\n",
    "xgb_df = pd.DataFrame(xgb_data, columns=['y_actual','y_predicted'])\n",
    "xgb_confusion_matrix_df = pd.crosstab(xgb_df['y_actual'], xgb_df['y_predicted'], rownames=['Actual'], colnames=['Predicted'])\n",
    "\n",
    "sns.heatmap(xgb_confusion_matrix_df, annot=True,fmt='.4g')\n",
    "plt.show()"
   ]
  },
  {
   "cell_type": "code",
   "execution_count": null,
   "metadata": {},
   "outputs": [],
   "source": [
    "# Precision, recall and f1 score for XGB\n",
    "\n",
    "print(classification_report(class_test,y_pred_xgb))"
   ]
  },
  {
   "cell_type": "code",
   "execution_count": null,
   "metadata": {},
   "outputs": [],
   "source": [
    "#ROC Curve\n",
    "\n",
    "xgb_y_pred_prob = XGB.predict_proba(data_test)[:, 1]\n",
    "fpr, tpr, _ = roc_curve(class_test, xgb_y_pred_prob)\n",
    "\n",
    "plt.plot([0, 1], [0, 1], 'k--')\n",
    "plt.plot(fpr, tpr, label='XGBoost')\n",
    "plt.fill_between(fpr,tpr,alpha=0.3)\n",
    "plt.xlabel('False positive rate')\n",
    "plt.ylabel('True positive rate')\n",
    "#plt.title('ROC curve :: AUC={}'.format(round(roc_auc_score(y_test,lg.predict_proba(X_test)[:,1]),2)))\n",
    "#plt.legend(loc='best')\n",
    "plt.show()"
   ]
  },
  {
   "cell_type": "code",
   "execution_count": null,
   "metadata": {},
   "outputs": [],
   "source": []
  }
 ],
 "metadata": {
  "kernelspec": {
   "display_name": "Python 3",
   "language": "python",
   "name": "python3"
  },
  "language_info": {
   "codemirror_mode": {
    "name": "ipython",
    "version": 3
   },
   "file_extension": ".py",
   "mimetype": "text/x-python",
   "name": "python",
   "nbconvert_exporter": "python",
   "pygments_lexer": "ipython3",
   "version": "3.6.8"
  }
 },
 "nbformat": 4,
 "nbformat_minor": 2
}
